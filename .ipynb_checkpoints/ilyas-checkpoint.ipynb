{
 "cells": [
  {
   "cell_type": "markdown",
   "id": "775a4892-328d-4b44-883a-7d7394f6d888",
   "metadata": {},
   "source": [
    "# Smart Phone Price Prediction and Discount Analysis "
   ]
  },
  {
   "cell_type": "code",
   "execution_count": 1,
   "id": "cdbac50d-9388-4387-8b73-e742b6c1ff3c",
   "metadata": {},
   "outputs": [],
   "source": [
    "# Importing the necessary libraries \n",
    "import pandas as pd \n",
    "import numpy as np \n",
    "import matplotlib.pyplot as plt \n",
    "import seaborn as sns \n",
    "\n",
    "%matplotlib inline "
   ]
  },
  {
   "cell_type": "code",
   "execution_count": 2,
   "id": "88c33d95-f1c2-483b-995f-cfd8d3d9d6ba",
   "metadata": {},
   "outputs": [],
   "source": [
    "# Loading the data \n",
    "jumia_mobile_phones = pd.read_csv(\"Data/jumia_mobile_phones.csv\")\n",
    "phone_popularity = pd.read_csv(\"Data/jumia_phone_catalog_popularity.csv\")\n",
    "jumia_phones = pd.read_csv(\"Data/jumia_phones.csv\")"
   ]
  },
  {
   "cell_type": "markdown",
   "id": "a82c3c53-e75f-4c98-b842-de1c760ba358",
   "metadata": {},
   "source": [
    "## Data Understanding "
   ]
  },
  {
   "cell_type": "code",
   "execution_count": 4,
   "id": "eef26aaf-918e-494f-8956-4a98c0fdba1b",
   "metadata": {},
   "outputs": [
    {
     "data": {
      "text/html": [
       "<div>\n",
       "<style scoped>\n",
       "    .dataframe tbody tr th:only-of-type {\n",
       "        vertical-align: middle;\n",
       "    }\n",
       "\n",
       "    .dataframe tbody tr th {\n",
       "        vertical-align: top;\n",
       "    }\n",
       "\n",
       "    .dataframe thead th {\n",
       "        text-align: right;\n",
       "    }\n",
       "</style>\n",
       "<table border=\"1\" class=\"dataframe\">\n",
       "  <thead>\n",
       "    <tr style=\"text-align: right;\">\n",
       "      <th></th>\n",
       "      <th>Name</th>\n",
       "      <th>Price</th>\n",
       "      <th>Old Price</th>\n",
       "      <th>Discount</th>\n",
       "      <th>Rating</th>\n",
       "    </tr>\n",
       "  </thead>\n",
       "  <tbody>\n",
       "    <tr>\n",
       "      <th>0</th>\n",
       "      <td>XIAOMI Redmi A3, 6.71\", 3GB RAM + 64GB (Dual S...</td>\n",
       "      <td>KSh 8,999</td>\n",
       "      <td>KSh 11,000</td>\n",
       "      <td>18%</td>\n",
       "      <td>4.1 out of 5</td>\n",
       "    </tr>\n",
       "    <tr>\n",
       "      <th>1</th>\n",
       "      <td>Tecno Spark 20, Android 13, 6.6\", 128GB + 4GB ...</td>\n",
       "      <td>KSh 12,925</td>\n",
       "      <td>KSh 15,000</td>\n",
       "      <td>14%</td>\n",
       "      <td>4.4 out of 5</td>\n",
       "    </tr>\n",
       "    <tr>\n",
       "      <th>2</th>\n",
       "      <td>Itel S23 6.6\", 128GB + 4GB RAM, 50MP Camera, (...</td>\n",
       "      <td>KSh 8,940</td>\n",
       "      <td>KSh 10,000</td>\n",
       "      <td>11%</td>\n",
       "      <td>4.3 out of 5</td>\n",
       "    </tr>\n",
       "    <tr>\n",
       "      <th>3</th>\n",
       "      <td>Itel S23 6.6\", 128GB + 4GB RAM, 50MP Camera, (...</td>\n",
       "      <td>KSh 8,940</td>\n",
       "      <td>KSh 10,000</td>\n",
       "      <td>11%</td>\n",
       "      <td>4.1 out of 5</td>\n",
       "    </tr>\n",
       "    <tr>\n",
       "      <th>4</th>\n",
       "      <td>Samsung Galaxy A05, 6.7'' 4GB RAM + 128GB ROM ...</td>\n",
       "      <td>KSh 12,930</td>\n",
       "      <td>KSh 14,000</td>\n",
       "      <td>8%</td>\n",
       "      <td>4.6 out of 5</td>\n",
       "    </tr>\n",
       "  </tbody>\n",
       "</table>\n",
       "</div>"
      ],
      "text/plain": [
       "                                                Name       Price   Old Price  \\\n",
       "0  XIAOMI Redmi A3, 6.71\", 3GB RAM + 64GB (Dual S...   KSh 8,999  KSh 11,000   \n",
       "1  Tecno Spark 20, Android 13, 6.6\", 128GB + 4GB ...  KSh 12,925  KSh 15,000   \n",
       "2  Itel S23 6.6\", 128GB + 4GB RAM, 50MP Camera, (...   KSh 8,940  KSh 10,000   \n",
       "3  Itel S23 6.6\", 128GB + 4GB RAM, 50MP Camera, (...   KSh 8,940  KSh 10,000   \n",
       "4  Samsung Galaxy A05, 6.7'' 4GB RAM + 128GB ROM ...  KSh 12,930  KSh 14,000   \n",
       "\n",
       "  Discount        Rating  \n",
       "0      18%  4.1 out of 5  \n",
       "1      14%  4.4 out of 5  \n",
       "2      11%  4.3 out of 5  \n",
       "3      11%  4.1 out of 5  \n",
       "4       8%  4.6 out of 5  "
      ]
     },
     "execution_count": 4,
     "metadata": {},
     "output_type": "execute_result"
    }
   ],
   "source": [
    "# Jumia mobile phones data frame\n",
    "jumia_mobile_phones.head()"
   ]
  },
  {
   "cell_type": "code",
   "execution_count": 5,
   "id": "22f575ea-e54a-48f6-8f9d-5ee6e911c6b1",
   "metadata": {},
   "outputs": [
    {
     "data": {
      "text/html": [
       "<div>\n",
       "<style scoped>\n",
       "    .dataframe tbody tr th:only-of-type {\n",
       "        vertical-align: middle;\n",
       "    }\n",
       "\n",
       "    .dataframe tbody tr th {\n",
       "        vertical-align: top;\n",
       "    }\n",
       "\n",
       "    .dataframe thead th {\n",
       "        text-align: right;\n",
       "    }\n",
       "</style>\n",
       "<table border=\"1\" class=\"dataframe\">\n",
       "  <thead>\n",
       "    <tr style=\"text-align: right;\">\n",
       "      <th></th>\n",
       "      <th>Name</th>\n",
       "      <th>Price</th>\n",
       "      <th>Old Price</th>\n",
       "      <th>Discount</th>\n",
       "      <th>Rating</th>\n",
       "    </tr>\n",
       "  </thead>\n",
       "  <tbody>\n",
       "    <tr>\n",
       "      <th>11995</th>\n",
       "      <td>Tecno POP 8, 6.6\", 64GB +3GB RAM, 13MP, 4G (Du...</td>\n",
       "      <td>KSh 9,999</td>\n",
       "      <td>KSh 12,000</td>\n",
       "      <td>17%</td>\n",
       "      <td>5 out of 5</td>\n",
       "    </tr>\n",
       "    <tr>\n",
       "      <th>11996</th>\n",
       "      <td>Samsung  Galaxy A05S, 6.7\", 90HZ, 4GB RAM + 12...</td>\n",
       "      <td>KSh 14,850</td>\n",
       "      <td>KSh 22,999</td>\n",
       "      <td>35%</td>\n",
       "      <td>4.4 out of 5</td>\n",
       "    </tr>\n",
       "    <tr>\n",
       "      <th>11997</th>\n",
       "      <td>Tecno POP 8, 6.6\", 64GB ROM +3GB RAM, 13MP, 4G...</td>\n",
       "      <td>KSh 9,999</td>\n",
       "      <td>KSh 12,000</td>\n",
       "      <td>17%</td>\n",
       "      <td>NaN</td>\n",
       "    </tr>\n",
       "    <tr>\n",
       "      <th>11998</th>\n",
       "      <td>Itel S23+ 6.78\", 128GB + 4GB RAM, 50MP Camera,...</td>\n",
       "      <td>KSh 13,999</td>\n",
       "      <td>KSh 23,000</td>\n",
       "      <td>39%</td>\n",
       "      <td>4.8 out of 5</td>\n",
       "    </tr>\n",
       "    <tr>\n",
       "      <th>11999</th>\n",
       "      <td>Tecno SPARK 20,6.6 HD+,90GHZ REFRESH RATE,50MP...</td>\n",
       "      <td>KSh 15,200</td>\n",
       "      <td>KSh 20,000</td>\n",
       "      <td>24%</td>\n",
       "      <td>4 out of 5</td>\n",
       "    </tr>\n",
       "  </tbody>\n",
       "</table>\n",
       "</div>"
      ],
      "text/plain": [
       "                                                    Name       Price  \\\n",
       "11995  Tecno POP 8, 6.6\", 64GB +3GB RAM, 13MP, 4G (Du...   KSh 9,999   \n",
       "11996  Samsung  Galaxy A05S, 6.7\", 90HZ, 4GB RAM + 12...  KSh 14,850   \n",
       "11997  Tecno POP 8, 6.6\", 64GB ROM +3GB RAM, 13MP, 4G...   KSh 9,999   \n",
       "11998  Itel S23+ 6.78\", 128GB + 4GB RAM, 50MP Camera,...  KSh 13,999   \n",
       "11999  Tecno SPARK 20,6.6 HD+,90GHZ REFRESH RATE,50MP...  KSh 15,200   \n",
       "\n",
       "        Old Price Discount        Rating  \n",
       "11995  KSh 12,000      17%    5 out of 5  \n",
       "11996  KSh 22,999      35%  4.4 out of 5  \n",
       "11997  KSh 12,000      17%           NaN  \n",
       "11998  KSh 23,000      39%  4.8 out of 5  \n",
       "11999  KSh 20,000      24%    4 out of 5  "
      ]
     },
     "execution_count": 5,
     "metadata": {},
     "output_type": "execute_result"
    }
   ],
   "source": [
    "jumia_mobile_phones.tail()"
   ]
  },
  {
   "cell_type": "code",
   "execution_count": 7,
   "id": "8e706a34-8aaa-4e0f-9f10-039be8c486fb",
   "metadata": {},
   "outputs": [
    {
     "data": {
      "text/plain": [
       "Name           0\n",
       "Price          0\n",
       "Old Price      0\n",
       "Discount       0\n",
       "Rating       300\n",
       "dtype: int64"
      ]
     },
     "execution_count": 7,
     "metadata": {},
     "output_type": "execute_result"
    }
   ],
   "source": [
    "jumia_mobile_phones.isna().sum()"
   ]
  },
  {
   "cell_type": "code",
   "execution_count": 8,
   "id": "7a5a53c3-2d34-4785-a3a1-bb01d7bca3fc",
   "metadata": {},
   "outputs": [
    {
     "data": {
      "text/html": [
       "<div>\n",
       "<style scoped>\n",
       "    .dataframe tbody tr th:only-of-type {\n",
       "        vertical-align: middle;\n",
       "    }\n",
       "\n",
       "    .dataframe tbody tr th {\n",
       "        vertical-align: top;\n",
       "    }\n",
       "\n",
       "    .dataframe thead th {\n",
       "        text-align: right;\n",
       "    }\n",
       "</style>\n",
       "<table border=\"1\" class=\"dataframe\">\n",
       "  <thead>\n",
       "    <tr style=\"text-align: right;\">\n",
       "      <th></th>\n",
       "      <th>Name</th>\n",
       "      <th>Price</th>\n",
       "      <th>Old Price</th>\n",
       "      <th>Discount</th>\n",
       "      <th>Rating</th>\n",
       "    </tr>\n",
       "  </thead>\n",
       "  <tbody>\n",
       "    <tr>\n",
       "      <th>count</th>\n",
       "      <td>12000</td>\n",
       "      <td>12000</td>\n",
       "      <td>12000</td>\n",
       "      <td>12000</td>\n",
       "      <td>11700</td>\n",
       "    </tr>\n",
       "    <tr>\n",
       "      <th>unique</th>\n",
       "      <td>40</td>\n",
       "      <td>31</td>\n",
       "      <td>21</td>\n",
       "      <td>26</td>\n",
       "      <td>11</td>\n",
       "    </tr>\n",
       "    <tr>\n",
       "      <th>top</th>\n",
       "      <td>XIAOMI Redmi A3, 6.71\", 3GB RAM + 64GB (Dual S...</td>\n",
       "      <td>KSh 8,940</td>\n",
       "      <td>KSh 10,000</td>\n",
       "      <td>11%</td>\n",
       "      <td>4.1 out of 5</td>\n",
       "    </tr>\n",
       "    <tr>\n",
       "      <th>freq</th>\n",
       "      <td>300</td>\n",
       "      <td>900</td>\n",
       "      <td>1800</td>\n",
       "      <td>900</td>\n",
       "      <td>2700</td>\n",
       "    </tr>\n",
       "  </tbody>\n",
       "</table>\n",
       "</div>"
      ],
      "text/plain": [
       "                                                     Name      Price  \\\n",
       "count                                               12000      12000   \n",
       "unique                                                 40         31   \n",
       "top     XIAOMI Redmi A3, 6.71\", 3GB RAM + 64GB (Dual S...  KSh 8,940   \n",
       "freq                                                  300        900   \n",
       "\n",
       "         Old Price Discount        Rating  \n",
       "count        12000    12000         11700  \n",
       "unique          21       26            11  \n",
       "top     KSh 10,000      11%  4.1 out of 5  \n",
       "freq          1800      900          2700  "
      ]
     },
     "execution_count": 8,
     "metadata": {},
     "output_type": "execute_result"
    }
   ],
   "source": [
    "jumia_mobile_phones.describe()"
   ]
  },
  {
   "cell_type": "code",
   "execution_count": 9,
   "id": "52eb71ea-c9a5-4e25-ad1e-ede6890bbf7e",
   "metadata": {},
   "outputs": [
    {
     "name": "stdout",
     "output_type": "stream",
     "text": [
      "<class 'pandas.core.frame.DataFrame'>\n",
      "RangeIndex: 12000 entries, 0 to 11999\n",
      "Data columns (total 5 columns):\n",
      " #   Column     Non-Null Count  Dtype \n",
      "---  ------     --------------  ----- \n",
      " 0   Name       12000 non-null  object\n",
      " 1   Price      12000 non-null  object\n",
      " 2   Old Price  12000 non-null  object\n",
      " 3   Discount   12000 non-null  object\n",
      " 4   Rating     11700 non-null  object\n",
      "dtypes: object(5)\n",
      "memory usage: 468.9+ KB\n"
     ]
    }
   ],
   "source": [
    "jumia_mobile_phones.info()"
   ]
  },
  {
   "cell_type": "code",
   "execution_count": null,
   "id": "9beea24b-74aa-49af-bd82-a5650acbba98",
   "metadata": {},
   "outputs": [],
   "source": []
  }
 ],
 "metadata": {
  "kernelspec": {
   "display_name": "Python 3 (ipykernel)",
   "language": "python",
   "name": "python3"
  },
  "language_info": {
   "codemirror_mode": {
    "name": "ipython",
    "version": 3
   },
   "file_extension": ".py",
   "mimetype": "text/x-python",
   "name": "python",
   "nbconvert_exporter": "python",
   "pygments_lexer": "ipython3",
   "version": "3.11.7"
  }
 },
 "nbformat": 4,
 "nbformat_minor": 5
}
