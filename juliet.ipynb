{
 "cells": [
  {
   "cell_type": "code",
   "execution_count": null,
   "metadata": {},
   "outputs": [],
   "source": []
  },
  {
   "cell_type": "markdown",
   "metadata": {},
   "source": [
    "# 1. BUSINESS UNDERSTANDING\n",
    "## 1.1 BACKGROUND\n",
    "There has been significant growth in e-commerce with platforms like Jumia leading the charge. As one of the continent's largest online marketplaces, Jumia hosts over 100,000 retailers, all vying for consumer attention in a highly competitive environment. The dynamics of pricing strategy have become increasingly complex, particularly in categories like electronics where demand is sensitive to pricing fluctuations. Retailers must navigate not only the prices set by their competitors but also various factors such as consumer demand, seasonal sales and promotional events.\n",
    "\n",
    "As the November Black Friday sales event approaches, the pressure intensifies for retailers to optimize their pricing strategies to capture market share while ensuring profitability. However, the traditional methods of price evaluation can be cumbersome and time-consuming, often relying on manual research or outdated tools. This inefficiency can result in missed opportunities for sales and reduced competitiveness.\n",
    "\n",
    "## 1.2 PROBLEM STATEMENT\n",
    "Retailers on Jumia's e-commerce platform face challenges in determining optimal pricing due to the competitive nature of the marketplace with over 100,000 of them and the time-consuming process of evaluating other competitor prices.\n",
    "The project therefore seeks to analyze the phone catalog data and develop a predictive model that provides data-driven insights, enabling sellers to set competitive prices and maximize profitability effectively ahead of the November black Friday Big Sale.This model is expected to reduce the stress that retailers/sellers have to go through to determins the optimal average price of the product they intend to list on the platform. \n",
    "## 1.3 OBJECTIVES\n",
    "The objective of our project is as outlined below:\n",
    "* Identify factors contributing to higher product visibility and marketability on Jumia’s first top pages.\n",
    "* Explore the relationship between phone features and customer reviews.\n",
    "* Develop a predictive model to recommend competitive, optimal pricing that promotes first-page placement.\n",
    "* Assess the potential relationship between buyer ratings and product pricing.\n",
    "\n"
   ]
  },
  {
   "cell_type": "markdown",
   "metadata": {},
   "source": [
    "# 2. DATA UNDERSTANDING\n",
    "The data for this project was scraped on October 31, 2024, from the Jumia Kenya e-commerce platform, specifically in the smartphones category and organized by popularity from the first to the last page. This process yielded a total of 12,000 listed devices. For a detailed review of the complete code used in the web scraping process, please refer to the following link: [Web Scraping Script](Scrapped_data.ipynb) The packages utilized in this project included Beautiful Soup and Pandas. The extracted [Data](https://github.com/N-kioko/Smartphones_Price_Prediction_and_Discount_Analysis_Project/blob/main/Data/jumia_phones.csv) was saved in CSV format on our local machine as `jumia_phones.csv`, and consists of the following features:\n",
    "\n",
    "* **Name:** This describes the brand and the features of the phone.\n",
    "* **Price:** This describes the current price the phone retails at.\n",
    "* **Old Price:** This describes the previous price of the phone.\n",
    "* **Discount:** The % discount calculated\n",
    "* **Rating:** The buyers explicit rating of the product and service.\n",
    "* **Number of Reviews:** The number of reviews from possible buyers.\n",
    "* **Search Ranking:** The page and position of the product in terms of listing and popularity.\n",
    "\n",
    " The Name column contains unstructured text, combining brand names and product specifications (e.g., “Samsung Galaxy A12, 5000mAh, 128GB ROM, 6GB RAM”). To transform these into separate, structured attributes, we shall use Regex as it allows for consistent pattern matching, enabling the extraction of information such as battery capacity (e.g., numbers followed by \"mAh\") and storage (e.g., \"GB\" or \"MB\"), making data more structured and accessible for analysis.\n",
    "\n",
    "Data Limitation:\n",
    "\n",
    "* Dynamic Pricing: Prices on e-commerce platforms fluctuate frequently. Therefore, the scraped prices reflect only the prices at the time of scraping and may not represent current or future values.\n",
    "\n",
    "* Incomplete or Inconsistent Data: Due to the variety of phone models and brands, some listings may lack uniform information (e.g., missing battery details or memory specifications), which could lead to variability in the parsed features.\n",
    "\n",
    "* Unverified Ratings and Reviews: Ratings and reviews might be biased or manipulated, affecting any insights or model predictions derived from them.\n",
    "\n",
    "* Potential Duplicate Listings: Duplicate or near-duplicate entries may exist if the same model is listed by multiple sellers, which could influence popularity and ranking statistics.\n"
   ]
  },
  {
   "cell_type": "code",
   "execution_count": 2,
   "metadata": {},
   "outputs": [],
   "source": [
    "# Import all the libraries\n",
    "import pandas as pd\n",
    "import numpy as np\n",
    "import matplotlib.pyplot as plt\n",
    "import seaborn as sns\n",
    "%matplotlib inline\n",
    "import re\n",
    "from sklearn.linear_model import LinearRegression\n",
    "from sklearn.linear_model import LogisticRegression\n",
    "from sklearn.ensemble import RandomForestRegressor\n",
    "from sklearn.model_selection import train_test_split\n",
    "from sklearn.metrics import mean_squared_error\n",
    "from sklearn.metrics import mean_absolute_error"
   ]
  },
  {
   "cell_type": "code",
   "execution_count": 3,
   "metadata": {},
   "outputs": [
    {
     "data": {
      "text/html": [
       "<div>\n",
       "<style scoped>\n",
       "    .dataframe tbody tr th:only-of-type {\n",
       "        vertical-align: middle;\n",
       "    }\n",
       "\n",
       "    .dataframe tbody tr th {\n",
       "        vertical-align: top;\n",
       "    }\n",
       "\n",
       "    .dataframe thead th {\n",
       "        text-align: right;\n",
       "    }\n",
       "</style>\n",
       "<table border=\"1\" class=\"dataframe\">\n",
       "  <thead>\n",
       "    <tr style=\"text-align: right;\">\n",
       "      <th></th>\n",
       "      <th>Name</th>\n",
       "      <th>Price</th>\n",
       "      <th>Old Price</th>\n",
       "      <th>Discount</th>\n",
       "      <th>Rating</th>\n",
       "      <th>Number of Reviews</th>\n",
       "      <th>Search Ranking</th>\n",
       "    </tr>\n",
       "  </thead>\n",
       "  <tbody>\n",
       "    <tr>\n",
       "      <th>0</th>\n",
       "      <td>XIAOMI Redmi A3, 6.71\", 3GB RAM + 64GB (Dual S...</td>\n",
       "      <td>KSh 11,000</td>\n",
       "      <td>NaN</td>\n",
       "      <td>NaN</td>\n",
       "      <td>4.1 out of 5</td>\n",
       "      <td>4.1 out of 5(220)</td>\n",
       "      <td>Page 1, Rank 1</td>\n",
       "    </tr>\n",
       "    <tr>\n",
       "      <th>1</th>\n",
       "      <td>Tecno Spark 20, Android 13, 6.6\", 128GB + 4GB ...</td>\n",
       "      <td>KSh 12,925</td>\n",
       "      <td>KSh 15,000</td>\n",
       "      <td>14%</td>\n",
       "      <td>4.4 out of 5</td>\n",
       "      <td>4.4 out of 5(135)</td>\n",
       "      <td>Page 1, Rank 2</td>\n",
       "    </tr>\n",
       "    <tr>\n",
       "      <th>2</th>\n",
       "      <td>Itel S23 6.6\", 128GB + 4GB RAM, 50MP Camera, (...</td>\n",
       "      <td>KSh 10,000</td>\n",
       "      <td>NaN</td>\n",
       "      <td>NaN</td>\n",
       "      <td>4.2 out of 5</td>\n",
       "      <td>4.2 out of 5(151)</td>\n",
       "      <td>Page 1, Rank 3</td>\n",
       "    </tr>\n",
       "    <tr>\n",
       "      <th>3</th>\n",
       "      <td>Samsung Galaxy A05, 6.7'' 4GB RAM + 128GB ROM ...</td>\n",
       "      <td>KSh 14,000</td>\n",
       "      <td>NaN</td>\n",
       "      <td>NaN</td>\n",
       "      <td>4.5 out of 5</td>\n",
       "      <td>4.5 out of 5(29)</td>\n",
       "      <td>Page 1, Rank 4</td>\n",
       "    </tr>\n",
       "    <tr>\n",
       "      <th>4</th>\n",
       "      <td>Itel S23 6.6\", 128GB + 4GB RAM, 50MP Camera, (...</td>\n",
       "      <td>KSh 10,000</td>\n",
       "      <td>NaN</td>\n",
       "      <td>NaN</td>\n",
       "      <td>4.3 out of 5</td>\n",
       "      <td>4.3 out of 5(249)</td>\n",
       "      <td>Page 1, Rank 5</td>\n",
       "    </tr>\n",
       "  </tbody>\n",
       "</table>\n",
       "</div>"
      ],
      "text/plain": [
       "                                                Name       Price   Old Price  \\\n",
       "0  XIAOMI Redmi A3, 6.71\", 3GB RAM + 64GB (Dual S...  KSh 11,000         NaN   \n",
       "1  Tecno Spark 20, Android 13, 6.6\", 128GB + 4GB ...  KSh 12,925  KSh 15,000   \n",
       "2  Itel S23 6.6\", 128GB + 4GB RAM, 50MP Camera, (...  KSh 10,000         NaN   \n",
       "3  Samsung Galaxy A05, 6.7'' 4GB RAM + 128GB ROM ...  KSh 14,000         NaN   \n",
       "4  Itel S23 6.6\", 128GB + 4GB RAM, 50MP Camera, (...  KSh 10,000         NaN   \n",
       "\n",
       "  Discount        Rating  Number of Reviews  Search Ranking  \n",
       "0      NaN  4.1 out of 5  4.1 out of 5(220)  Page 1, Rank 1  \n",
       "1      14%  4.4 out of 5  4.4 out of 5(135)  Page 1, Rank 2  \n",
       "2      NaN  4.2 out of 5  4.2 out of 5(151)  Page 1, Rank 3  \n",
       "3      NaN  4.5 out of 5   4.5 out of 5(29)  Page 1, Rank 4  \n",
       "4      NaN  4.3 out of 5  4.3 out of 5(249)  Page 1, Rank 5  "
      ]
     },
     "execution_count": 3,
     "metadata": {},
     "output_type": "execute_result"
    }
   ],
   "source": [
    "# Loading the dataset\n",
    "df = pd.read_csv('jumia_phones.csv')\n",
    "# Checking the first few rows of the dataset\n",
    "df.head()"
   ]
  },
  {
   "cell_type": "code",
   "execution_count": 4,
   "metadata": {},
   "outputs": [
    {
     "name": "stdout",
     "output_type": "stream",
     "text": [
      "<class 'pandas.core.frame.DataFrame'>\n",
      "RangeIndex: 12000 entries, 0 to 11999\n",
      "Data columns (total 7 columns):\n",
      " #   Column             Non-Null Count  Dtype \n",
      "---  ------             --------------  ----- \n",
      " 0   Name               12000 non-null  object\n",
      " 1   Price              12000 non-null  object\n",
      " 2   Old Price          8101 non-null   object\n",
      " 3   Discount           8101 non-null   object\n",
      " 4   Rating             11700 non-null  object\n",
      " 5   Number of Reviews  11700 non-null  object\n",
      " 6   Search Ranking     12000 non-null  object\n",
      "dtypes: object(7)\n",
      "memory usage: 656.4+ KB\n"
     ]
    }
   ],
   "source": [
    "\n",
    "df.info()"
   ]
  },
  {
   "cell_type": "code",
   "execution_count": 5,
   "metadata": {},
   "outputs": [
    {
     "data": {
      "text/html": [
       "<div>\n",
       "<style scoped>\n",
       "    .dataframe tbody tr th:only-of-type {\n",
       "        vertical-align: middle;\n",
       "    }\n",
       "\n",
       "    .dataframe tbody tr th {\n",
       "        vertical-align: top;\n",
       "    }\n",
       "\n",
       "    .dataframe thead th {\n",
       "        text-align: right;\n",
       "    }\n",
       "</style>\n",
       "<table border=\"1\" class=\"dataframe\">\n",
       "  <thead>\n",
       "    <tr style=\"text-align: right;\">\n",
       "      <th></th>\n",
       "      <th>Name</th>\n",
       "      <th>Price</th>\n",
       "      <th>Old Price</th>\n",
       "      <th>Discount</th>\n",
       "      <th>Rating</th>\n",
       "      <th>Number of Reviews</th>\n",
       "      <th>Search Ranking</th>\n",
       "    </tr>\n",
       "  </thead>\n",
       "  <tbody>\n",
       "    <tr>\n",
       "      <th>count</th>\n",
       "      <td>12000</td>\n",
       "      <td>12000</td>\n",
       "      <td>8101</td>\n",
       "      <td>8101</td>\n",
       "      <td>11700</td>\n",
       "      <td>11700</td>\n",
       "      <td>12000</td>\n",
       "    </tr>\n",
       "    <tr>\n",
       "      <th>unique</th>\n",
       "      <td>40</td>\n",
       "      <td>34</td>\n",
       "      <td>19</td>\n",
       "      <td>22</td>\n",
       "      <td>12</td>\n",
       "      <td>38</td>\n",
       "      <td>12000</td>\n",
       "    </tr>\n",
       "    <tr>\n",
       "      <th>top</th>\n",
       "      <td>Oale POP 8 - 6.6\", 128GB (64GB ROM + 64GB SD C...</td>\n",
       "      <td>KSh 10,000</td>\n",
       "      <td>KSh 29,999</td>\n",
       "      <td>45%</td>\n",
       "      <td>4.3 out of 5</td>\n",
       "      <td>4.6 out of 5(9)</td>\n",
       "      <td>Page 277, Rank 10</td>\n",
       "    </tr>\n",
       "    <tr>\n",
       "      <th>freq</th>\n",
       "      <td>300</td>\n",
       "      <td>1500</td>\n",
       "      <td>1200</td>\n",
       "      <td>900</td>\n",
       "      <td>1800</td>\n",
       "      <td>600</td>\n",
       "      <td>1</td>\n",
       "    </tr>\n",
       "  </tbody>\n",
       "</table>\n",
       "</div>"
      ],
      "text/plain": [
       "                                                     Name       Price  \\\n",
       "count                                               12000       12000   \n",
       "unique                                                 40          34   \n",
       "top     Oale POP 8 - 6.6\", 128GB (64GB ROM + 64GB SD C...  KSh 10,000   \n",
       "freq                                                  300        1500   \n",
       "\n",
       "         Old Price Discount        Rating Number of Reviews     Search Ranking  \n",
       "count         8101     8101         11700             11700              12000  \n",
       "unique          19       22            12                38              12000  \n",
       "top     KSh 29,999      45%  4.3 out of 5   4.6 out of 5(9)  Page 277, Rank 10  \n",
       "freq          1200      900          1800               600                  1  "
      ]
     },
     "execution_count": 5,
     "metadata": {},
     "output_type": "execute_result"
    }
   ],
   "source": [
    "# Summary statistics for numerical columns\n",
    "df.describe()"
   ]
  },
  {
   "cell_type": "markdown",
   "metadata": {},
   "source": [
    "#### Summary of findings\n",
    "* There are 12,000 \n"
   ]
  },
  {
   "cell_type": "markdown",
   "metadata": {},
   "source": [
    "# 3. DATA PREPARATION\n",
    "Efficiently extract and organize key product attributes/features from the product names column.\n"
   ]
  },
  {
   "cell_type": "code",
   "execution_count": 6,
   "metadata": {},
   "outputs": [
    {
     "data": {
      "text/html": [
       "<div>\n",
       "<style scoped>\n",
       "    .dataframe tbody tr th:only-of-type {\n",
       "        vertical-align: middle;\n",
       "    }\n",
       "\n",
       "    .dataframe tbody tr th {\n",
       "        vertical-align: top;\n",
       "    }\n",
       "\n",
       "    .dataframe thead th {\n",
       "        text-align: right;\n",
       "    }\n",
       "</style>\n",
       "<table border=\"1\" class=\"dataframe\">\n",
       "  <thead>\n",
       "    <tr style=\"text-align: right;\">\n",
       "      <th></th>\n",
       "      <th>Brand</th>\n",
       "      <th>Screen Size</th>\n",
       "      <th>RAM</th>\n",
       "      <th>ROM</th>\n",
       "      <th>Color</th>\n",
       "      <th>Warranty</th>\n",
       "      <th>Camera</th>\n",
       "      <th>Battery Power</th>\n",
       "      <th>Number of SIMs</th>\n",
       "      <th>Price</th>\n",
       "      <th>Old Price</th>\n",
       "      <th>Discount</th>\n",
       "      <th>Rating</th>\n",
       "      <th>Number of Reviews</th>\n",
       "      <th>Search Ranking</th>\n",
       "    </tr>\n",
       "  </thead>\n",
       "  <tbody>\n",
       "    <tr>\n",
       "      <th>0</th>\n",
       "      <td>Xiaomi Redmi A3</td>\n",
       "      <td>6.71</td>\n",
       "      <td>3GB</td>\n",
       "      <td>64GB</td>\n",
       "      <td>Midnight Black</td>\n",
       "      <td>2</td>\n",
       "      <td>None</td>\n",
       "      <td>5000mAh</td>\n",
       "      <td>NaN</td>\n",
       "      <td>KSh 11,000</td>\n",
       "      <td>NaN</td>\n",
       "      <td>NaN</td>\n",
       "      <td>4.1 out of 5</td>\n",
       "      <td>4.1 out of 5(220)</td>\n",
       "      <td>Page 1, Rank 1</td>\n",
       "    </tr>\n",
       "    <tr>\n",
       "      <th>1</th>\n",
       "      <td>Tecno Spark 20</td>\n",
       "      <td>6.6</td>\n",
       "      <td>4GB</td>\n",
       "      <td>128GB</td>\n",
       "      <td>Gravity Black</td>\n",
       "      <td>1</td>\n",
       "      <td>50MP</td>\n",
       "      <td>5000mAh</td>\n",
       "      <td>NaN</td>\n",
       "      <td>KSh 12,925</td>\n",
       "      <td>KSh 15,000</td>\n",
       "      <td>14%</td>\n",
       "      <td>4.4 out of 5</td>\n",
       "      <td>4.4 out of 5(135)</td>\n",
       "      <td>Page 1, Rank 2</td>\n",
       "    </tr>\n",
       "    <tr>\n",
       "      <th>2</th>\n",
       "      <td>Itel S23</td>\n",
       "      <td>6.6</td>\n",
       "      <td>4GB</td>\n",
       "      <td>128GB</td>\n",
       "      <td>Mystery White</td>\n",
       "      <td>1</td>\n",
       "      <td>50MP</td>\n",
       "      <td>5000mAh</td>\n",
       "      <td>NaN</td>\n",
       "      <td>KSh 10,000</td>\n",
       "      <td>NaN</td>\n",
       "      <td>NaN</td>\n",
       "      <td>4.2 out of 5</td>\n",
       "      <td>4.2 out of 5(151)</td>\n",
       "      <td>Page 1, Rank 3</td>\n",
       "    </tr>\n",
       "    <tr>\n",
       "      <th>3</th>\n",
       "      <td>Samsung Galaxy A05</td>\n",
       "      <td>6.7</td>\n",
       "      <td>4GB</td>\n",
       "      <td>128GB</td>\n",
       "      <td>Black</td>\n",
       "      <td>None</td>\n",
       "      <td>50MP</td>\n",
       "      <td>5000mAh</td>\n",
       "      <td>2.0</td>\n",
       "      <td>KSh 14,000</td>\n",
       "      <td>NaN</td>\n",
       "      <td>NaN</td>\n",
       "      <td>4.5 out of 5</td>\n",
       "      <td>4.5 out of 5(29)</td>\n",
       "      <td>Page 1, Rank 4</td>\n",
       "    </tr>\n",
       "    <tr>\n",
       "      <th>4</th>\n",
       "      <td>Itel S23</td>\n",
       "      <td>6.6</td>\n",
       "      <td>4GB</td>\n",
       "      <td>128GB</td>\n",
       "      <td>Starry Black</td>\n",
       "      <td>None</td>\n",
       "      <td>50MP</td>\n",
       "      <td>5000mAh</td>\n",
       "      <td>NaN</td>\n",
       "      <td>KSh 10,000</td>\n",
       "      <td>NaN</td>\n",
       "      <td>NaN</td>\n",
       "      <td>4.3 out of 5</td>\n",
       "      <td>4.3 out of 5(249)</td>\n",
       "      <td>Page 1, Rank 5</td>\n",
       "    </tr>\n",
       "  </tbody>\n",
       "</table>\n",
       "</div>"
      ],
      "text/plain": [
       "                Brand Screen Size  RAM    ROM           Color Warranty Camera  \\\n",
       "0     Xiaomi Redmi A3        6.71  3GB   64GB  Midnight Black        2   None   \n",
       "1      Tecno Spark 20         6.6  4GB  128GB   Gravity Black        1   50MP   \n",
       "2            Itel S23         6.6  4GB  128GB   Mystery White        1   50MP   \n",
       "3  Samsung Galaxy A05         6.7  4GB  128GB           Black     None   50MP   \n",
       "4            Itel S23         6.6  4GB  128GB    Starry Black     None   50MP   \n",
       "\n",
       "  Battery Power  Number of SIMs       Price   Old Price Discount  \\\n",
       "0       5000mAh             NaN  KSh 11,000         NaN      NaN   \n",
       "1       5000mAh             NaN  KSh 12,925  KSh 15,000      14%   \n",
       "2       5000mAh             NaN  KSh 10,000         NaN      NaN   \n",
       "3       5000mAh             2.0  KSh 14,000         NaN      NaN   \n",
       "4       5000mAh             NaN  KSh 10,000         NaN      NaN   \n",
       "\n",
       "         Rating  Number of Reviews  Search Ranking  \n",
       "0  4.1 out of 5  4.1 out of 5(220)  Page 1, Rank 1  \n",
       "1  4.4 out of 5  4.4 out of 5(135)  Page 1, Rank 2  \n",
       "2  4.2 out of 5  4.2 out of 5(151)  Page 1, Rank 3  \n",
       "3  4.5 out of 5   4.5 out of 5(29)  Page 1, Rank 4  \n",
       "4  4.3 out of 5  4.3 out of 5(249)  Page 1, Rank 5  "
      ]
     },
     "execution_count": 6,
     "metadata": {},
     "output_type": "execute_result"
    }
   ],
   "source": [
    "#Have the Name column in the variable name product_column\n",
    "product_column = 'Name'  \n",
    "# Define regex pattern to extract brand\n",
    "pattern_brand = r\"(?P<brand>[\\w\\s]+)(?=\\+|,\\s|\\s|$)\"\n",
    "# Function to extract brand\n",
    "def extract_brand(name):\n",
    "    match = re.search(pattern_brand, name)\n",
    "    return match.group('brand').strip() if match else None\n",
    "# Extract brand\n",
    "brand_df = df[product_column].apply(extract_brand).rename('Brand')\n",
    "# Convert to lowercase and then title case for uniformity\n",
    "brand_df = brand_df.str.lower().str.title()\n",
    "\n",
    "# Define regex pattern to extract screen size\n",
    "screen_size_pattern = r\"(?P<screen_size>\\d+(\\.\\d+)?)(?=['\\\"]{1,2})\"\n",
    "# Function to extract screen size\n",
    "def extract_screen_size(name):\n",
    "    match = re.search(screen_size_pattern, name)\n",
    "    return match.group('screen_size').strip() if match else None\n",
    "# Extract screen size\n",
    "size_df = df[product_column].apply(extract_screen_size).rename('Screen Size')\n",
    "\n",
    "# Define regex pattern to extract RAM\n",
    "ram_pattern = r\"\\b(?P<RAM>\\d\\s?GB)\\b\"\n",
    "# Function to extract RAM\n",
    "def extract_ram(name):\n",
    "    match = re.search(ram_pattern, name)\n",
    "    return match.group('RAM').strip() if match else None\n",
    "# Extract RAM\n",
    "ram_df = df[product_column].apply(extract_ram).rename('RAM')\n",
    "\n",
    "# Define regex pattern to extract ROM\n",
    "rom_pattern = r\"\\b(?P<ROM>\\d{2,}\\s?GB)\\b\"\n",
    "# Function to extract ROM\n",
    "def extract_rom(name):\n",
    "    match = re.search(rom_pattern, name)\n",
    "    return match.group('ROM').strip() if match else None\n",
    "# Extract ROM\n",
    "rom_df = df[product_column].apply(extract_rom).rename('ROM')\n",
    "\n",
    "# Define regex pattern to extract Color\n",
    "color_pattern = r\"[,-]\\s*(?P<Color>([A-Z][a-z]+(?:\\s[A-Z][a-z]+)*))\\s*(?:\\+.*)?(?=\\s*\\(|$)\"\n",
    "# Function to extract Color\n",
    "def extract_color(name):\n",
    "    match = re.search(color_pattern, name)\n",
    "    return match.group('Color').strip() if match else None\n",
    "# Extract Color\n",
    "color_df = df[product_column].apply(extract_color).rename('Color')\n",
    "\n",
    "# Define regex pattern for extracting Warranty\n",
    "warranty_pattern = r\"(\\d+)\\s*(?:YR|WRTY)\"\n",
    "# Function to extract Warranty\n",
    "def extract_warranty(name):\n",
    "    warranty_match = re.search(warranty_pattern, name)\n",
    "    return warranty_match.group(1) if warranty_match else None\n",
    "# Extract Warranty\n",
    "warranty_df = df[product_column].apply(extract_warranty).rename('Warranty')\n",
    "\n",
    "# Function to extract Camera\n",
    "def extract_camera(name):\n",
    "    camera_pattern = r'(\\d+MP)'\n",
    "    match = re.search(camera_pattern, name)\n",
    "    return match.group(1).strip() if match else None\n",
    "# Extract Camera\n",
    "camera_df = df[product_column].apply(extract_camera).rename('Camera')\n",
    "# Function to extract Battery\n",
    "def extract_battery(name):\n",
    "    battery_pattern = r'(\\d{4}mAh)'\n",
    "    match = re.search(battery_pattern, name)\n",
    "    return match.group(1).strip() if match else None\n",
    "# Extract Battery\n",
    "battery_df = df[product_column].apply(extract_battery).rename('Battery Power')\n",
    "\n",
    "# Function to extract Number of Sims\n",
    "def extract_sim(name):\n",
    "    sim_pattern = r'\\(?(Dual\\s+Sim|DUAL\\s+SIM|Single\\s+Sim|Single)\\)?'\n",
    "    match = re.search(sim_pattern, name)\n",
    "    if match:\n",
    "        return 2 if \"Dual\" in match.group(0) else 1\n",
    "    return None\n",
    "# Extract SIMs\n",
    "sim_df = df[product_column].apply(extract_sim).rename('Number of SIMs')\n",
    "\n",
    "# Concatenate extracted features with the original DataFrame (excluding the product column)\n",
    "extracted_features_df = pd.concat(\n",
    "    [brand_df, size_df, ram_df, rom_df, color_df, warranty_df, camera_df, battery_df, sim_df],\n",
    "    axis=1\n",
    ")\n",
    "# Concatenate with the original DataFrame, excluding the product column\n",
    "final_df = pd.concat(\n",
    "    [extracted_features_df, df.drop(columns=[product_column])],\n",
    "    axis=1\n",
    ")\n",
    "# Display the final DataFrame\n",
    "final_df.head()"
   ]
  },
  {
   "cell_type": "code",
   "execution_count": 7,
   "metadata": {},
   "outputs": [
    {
     "data": {
      "text/html": [
       "<div>\n",
       "<style scoped>\n",
       "    .dataframe tbody tr th:only-of-type {\n",
       "        vertical-align: middle;\n",
       "    }\n",
       "\n",
       "    .dataframe tbody tr th {\n",
       "        vertical-align: top;\n",
       "    }\n",
       "\n",
       "    .dataframe thead th {\n",
       "        text-align: right;\n",
       "    }\n",
       "</style>\n",
       "<table border=\"1\" class=\"dataframe\">\n",
       "  <thead>\n",
       "    <tr style=\"text-align: right;\">\n",
       "      <th></th>\n",
       "      <th>Brand</th>\n",
       "      <th>Screen Size</th>\n",
       "      <th>RAM</th>\n",
       "      <th>ROM</th>\n",
       "      <th>Color</th>\n",
       "      <th>Warranty</th>\n",
       "      <th>Camera</th>\n",
       "      <th>Battery Power</th>\n",
       "      <th>Number of SIMs</th>\n",
       "      <th>Price</th>\n",
       "      <th>Old Price</th>\n",
       "      <th>Discount</th>\n",
       "      <th>Rating</th>\n",
       "      <th>Number of Reviews</th>\n",
       "      <th>Search Ranking</th>\n",
       "      <th>Page</th>\n",
       "      <th>Rank</th>\n",
       "    </tr>\n",
       "  </thead>\n",
       "  <tbody>\n",
       "    <tr>\n",
       "      <th>0</th>\n",
       "      <td>Xiaomi Redmi A3</td>\n",
       "      <td>6.71</td>\n",
       "      <td>3GB</td>\n",
       "      <td>64GB</td>\n",
       "      <td>Midnight Black</td>\n",
       "      <td>2</td>\n",
       "      <td>None</td>\n",
       "      <td>5000mAh</td>\n",
       "      <td>NaN</td>\n",
       "      <td>KSh 11,000</td>\n",
       "      <td>NaN</td>\n",
       "      <td>NaN</td>\n",
       "      <td>4.1</td>\n",
       "      <td>220</td>\n",
       "      <td>Page 1, Rank 1</td>\n",
       "      <td>1</td>\n",
       "      <td>1</td>\n",
       "    </tr>\n",
       "    <tr>\n",
       "      <th>1</th>\n",
       "      <td>Tecno Spark 20</td>\n",
       "      <td>6.6</td>\n",
       "      <td>4GB</td>\n",
       "      <td>128GB</td>\n",
       "      <td>Gravity Black</td>\n",
       "      <td>1</td>\n",
       "      <td>50MP</td>\n",
       "      <td>5000mAh</td>\n",
       "      <td>NaN</td>\n",
       "      <td>KSh 12,925</td>\n",
       "      <td>KSh 15,000</td>\n",
       "      <td>14%</td>\n",
       "      <td>4.4</td>\n",
       "      <td>135</td>\n",
       "      <td>Page 1, Rank 2</td>\n",
       "      <td>1</td>\n",
       "      <td>2</td>\n",
       "    </tr>\n",
       "    <tr>\n",
       "      <th>2</th>\n",
       "      <td>Itel S23</td>\n",
       "      <td>6.6</td>\n",
       "      <td>4GB</td>\n",
       "      <td>128GB</td>\n",
       "      <td>Mystery White</td>\n",
       "      <td>1</td>\n",
       "      <td>50MP</td>\n",
       "      <td>5000mAh</td>\n",
       "      <td>NaN</td>\n",
       "      <td>KSh 10,000</td>\n",
       "      <td>NaN</td>\n",
       "      <td>NaN</td>\n",
       "      <td>4.2</td>\n",
       "      <td>151</td>\n",
       "      <td>Page 1, Rank 3</td>\n",
       "      <td>1</td>\n",
       "      <td>3</td>\n",
       "    </tr>\n",
       "    <tr>\n",
       "      <th>3</th>\n",
       "      <td>Samsung Galaxy A05</td>\n",
       "      <td>6.7</td>\n",
       "      <td>4GB</td>\n",
       "      <td>128GB</td>\n",
       "      <td>Black</td>\n",
       "      <td>None</td>\n",
       "      <td>50MP</td>\n",
       "      <td>5000mAh</td>\n",
       "      <td>2.0</td>\n",
       "      <td>KSh 14,000</td>\n",
       "      <td>NaN</td>\n",
       "      <td>NaN</td>\n",
       "      <td>4.5</td>\n",
       "      <td>29</td>\n",
       "      <td>Page 1, Rank 4</td>\n",
       "      <td>1</td>\n",
       "      <td>4</td>\n",
       "    </tr>\n",
       "    <tr>\n",
       "      <th>4</th>\n",
       "      <td>Itel S23</td>\n",
       "      <td>6.6</td>\n",
       "      <td>4GB</td>\n",
       "      <td>128GB</td>\n",
       "      <td>Starry Black</td>\n",
       "      <td>None</td>\n",
       "      <td>50MP</td>\n",
       "      <td>5000mAh</td>\n",
       "      <td>NaN</td>\n",
       "      <td>KSh 10,000</td>\n",
       "      <td>NaN</td>\n",
       "      <td>NaN</td>\n",
       "      <td>4.3</td>\n",
       "      <td>249</td>\n",
       "      <td>Page 1, Rank 5</td>\n",
       "      <td>1</td>\n",
       "      <td>5</td>\n",
       "    </tr>\n",
       "  </tbody>\n",
       "</table>\n",
       "</div>"
      ],
      "text/plain": [
       "                Brand Screen Size  RAM    ROM           Color Warranty Camera  \\\n",
       "0     Xiaomi Redmi A3        6.71  3GB   64GB  Midnight Black        2   None   \n",
       "1      Tecno Spark 20         6.6  4GB  128GB   Gravity Black        1   50MP   \n",
       "2            Itel S23         6.6  4GB  128GB   Mystery White        1   50MP   \n",
       "3  Samsung Galaxy A05         6.7  4GB  128GB           Black     None   50MP   \n",
       "4            Itel S23         6.6  4GB  128GB    Starry Black     None   50MP   \n",
       "\n",
       "  Battery Power  Number of SIMs       Price   Old Price Discount Rating  \\\n",
       "0       5000mAh             NaN  KSh 11,000         NaN      NaN    4.1   \n",
       "1       5000mAh             NaN  KSh 12,925  KSh 15,000      14%    4.4   \n",
       "2       5000mAh             NaN  KSh 10,000         NaN      NaN    4.2   \n",
       "3       5000mAh             2.0  KSh 14,000         NaN      NaN    4.5   \n",
       "4       5000mAh             NaN  KSh 10,000         NaN      NaN    4.3   \n",
       "\n",
       "  Number of Reviews  Search Ranking Page Rank  \n",
       "0               220  Page 1, Rank 1    1    1  \n",
       "1               135  Page 1, Rank 2    1    2  \n",
       "2               151  Page 1, Rank 3    1    3  \n",
       "3                29  Page 1, Rank 4    1    4  \n",
       "4               249  Page 1, Rank 5    1    5  "
      ]
     },
     "execution_count": 7,
     "metadata": {},
     "output_type": "execute_result"
    }
   ],
   "source": [
    "# Clean the Rating column\n",
    "final_df['Rating'] = final_df['Rating'].str.extract(r'(\\d+\\.\\d+)')[0]\n",
    "\n",
    "# Clean the Number of Reviews column to extract the number in parentheses\n",
    "final_df['Number of Reviews'] = final_df['Number of Reviews'].str.extract(r'\\((\\d+)\\)')[0]\n",
    "\n",
    "# Define regex pattern to extract page and rank\n",
    "pattern = r'Page (?P<Page>\\d+), Rank (?P<Rank>\\d+)'\n",
    "\n",
    "# Extract page and rank into new columns\n",
    "final_df[['Page', 'Rank']] = final_df['Search Ranking'].str.extract(pattern)\n",
    "\n",
    "# Display the cleaned DataFrame\n",
    "final_df.head()"
   ]
  },
  {
   "cell_type": "markdown",
   "metadata": {},
   "source": [
    "# 4. DATA CLEANING\n",
    "1. First convert the Screen size, RAM, ROM, Page, Rank, Price, Rating and Old Price to integers or float.\n",
    "\n",
    "2. Secondly, check for null values and handle as required.\n",
    "\n",
    "3. Thirdly, check for duplicates."
   ]
  },
  {
   "cell_type": "code",
   "execution_count": 8,
   "metadata": {},
   "outputs": [
    {
     "data": {
      "text/html": [
       "<div>\n",
       "<style scoped>\n",
       "    .dataframe tbody tr th:only-of-type {\n",
       "        vertical-align: middle;\n",
       "    }\n",
       "\n",
       "    .dataframe tbody tr th {\n",
       "        vertical-align: top;\n",
       "    }\n",
       "\n",
       "    .dataframe thead th {\n",
       "        text-align: right;\n",
       "    }\n",
       "</style>\n",
       "<table border=\"1\" class=\"dataframe\">\n",
       "  <thead>\n",
       "    <tr style=\"text-align: right;\">\n",
       "      <th></th>\n",
       "      <th>Brand</th>\n",
       "      <th>Screen Size</th>\n",
       "      <th>RAM</th>\n",
       "      <th>ROM</th>\n",
       "      <th>Color</th>\n",
       "      <th>Warranty</th>\n",
       "      <th>Camera</th>\n",
       "      <th>Battery Power</th>\n",
       "      <th>Number of SIMs</th>\n",
       "      <th>Price</th>\n",
       "      <th>Old Price</th>\n",
       "      <th>Discount</th>\n",
       "      <th>Rating</th>\n",
       "      <th>Number of Reviews</th>\n",
       "      <th>Search Ranking</th>\n",
       "      <th>Page</th>\n",
       "      <th>Rank</th>\n",
       "    </tr>\n",
       "  </thead>\n",
       "  <tbody>\n",
       "    <tr>\n",
       "      <th>0</th>\n",
       "      <td>Xiaomi Redmi A3</td>\n",
       "      <td>6.71</td>\n",
       "      <td>3</td>\n",
       "      <td>64</td>\n",
       "      <td>Midnight Black</td>\n",
       "      <td>2</td>\n",
       "      <td>None</td>\n",
       "      <td>5000mAh</td>\n",
       "      <td>NaN</td>\n",
       "      <td>11000.0</td>\n",
       "      <td>NaN</td>\n",
       "      <td>NaN</td>\n",
       "      <td>4.1</td>\n",
       "      <td>220</td>\n",
       "      <td>Page 1, Rank 1</td>\n",
       "      <td>1</td>\n",
       "      <td>1</td>\n",
       "    </tr>\n",
       "    <tr>\n",
       "      <th>1</th>\n",
       "      <td>Tecno Spark 20</td>\n",
       "      <td>6.60</td>\n",
       "      <td>4</td>\n",
       "      <td>128</td>\n",
       "      <td>Gravity Black</td>\n",
       "      <td>1</td>\n",
       "      <td>50MP</td>\n",
       "      <td>5000mAh</td>\n",
       "      <td>NaN</td>\n",
       "      <td>12925.0</td>\n",
       "      <td>15000.0</td>\n",
       "      <td>14.0</td>\n",
       "      <td>4.4</td>\n",
       "      <td>135</td>\n",
       "      <td>Page 1, Rank 2</td>\n",
       "      <td>1</td>\n",
       "      <td>2</td>\n",
       "    </tr>\n",
       "    <tr>\n",
       "      <th>2</th>\n",
       "      <td>Itel S23</td>\n",
       "      <td>6.60</td>\n",
       "      <td>4</td>\n",
       "      <td>128</td>\n",
       "      <td>Mystery White</td>\n",
       "      <td>1</td>\n",
       "      <td>50MP</td>\n",
       "      <td>5000mAh</td>\n",
       "      <td>NaN</td>\n",
       "      <td>10000.0</td>\n",
       "      <td>NaN</td>\n",
       "      <td>NaN</td>\n",
       "      <td>4.2</td>\n",
       "      <td>151</td>\n",
       "      <td>Page 1, Rank 3</td>\n",
       "      <td>1</td>\n",
       "      <td>3</td>\n",
       "    </tr>\n",
       "    <tr>\n",
       "      <th>3</th>\n",
       "      <td>Samsung Galaxy A05</td>\n",
       "      <td>6.70</td>\n",
       "      <td>4</td>\n",
       "      <td>128</td>\n",
       "      <td>Black</td>\n",
       "      <td>None</td>\n",
       "      <td>50MP</td>\n",
       "      <td>5000mAh</td>\n",
       "      <td>2.0</td>\n",
       "      <td>14000.0</td>\n",
       "      <td>NaN</td>\n",
       "      <td>NaN</td>\n",
       "      <td>4.5</td>\n",
       "      <td>29</td>\n",
       "      <td>Page 1, Rank 4</td>\n",
       "      <td>1</td>\n",
       "      <td>4</td>\n",
       "    </tr>\n",
       "    <tr>\n",
       "      <th>4</th>\n",
       "      <td>Itel S23</td>\n",
       "      <td>6.60</td>\n",
       "      <td>4</td>\n",
       "      <td>128</td>\n",
       "      <td>Starry Black</td>\n",
       "      <td>None</td>\n",
       "      <td>50MP</td>\n",
       "      <td>5000mAh</td>\n",
       "      <td>NaN</td>\n",
       "      <td>10000.0</td>\n",
       "      <td>NaN</td>\n",
       "      <td>NaN</td>\n",
       "      <td>4.3</td>\n",
       "      <td>249</td>\n",
       "      <td>Page 1, Rank 5</td>\n",
       "      <td>1</td>\n",
       "      <td>5</td>\n",
       "    </tr>\n",
       "  </tbody>\n",
       "</table>\n",
       "</div>"
      ],
      "text/plain": [
       "                Brand  Screen Size  RAM  ROM           Color Warranty Camera  \\\n",
       "0     Xiaomi Redmi A3         6.71    3   64  Midnight Black        2   None   \n",
       "1      Tecno Spark 20         6.60    4  128   Gravity Black        1   50MP   \n",
       "2            Itel S23         6.60    4  128   Mystery White        1   50MP   \n",
       "3  Samsung Galaxy A05         6.70    4  128           Black     None   50MP   \n",
       "4            Itel S23         6.60    4  128    Starry Black     None   50MP   \n",
       "\n",
       "  Battery Power  Number of SIMs    Price  Old Price  Discount  Rating  \\\n",
       "0       5000mAh             NaN  11000.0        NaN       NaN     4.1   \n",
       "1       5000mAh             NaN  12925.0    15000.0      14.0     4.4   \n",
       "2       5000mAh             NaN  10000.0        NaN       NaN     4.2   \n",
       "3       5000mAh             2.0  14000.0        NaN       NaN     4.5   \n",
       "4       5000mAh             NaN  10000.0        NaN       NaN     4.3   \n",
       "\n",
       "   Number of Reviews  Search Ranking  Page  Rank  \n",
       "0                220  Page 1, Rank 1     1     1  \n",
       "1                135  Page 1, Rank 2     1     2  \n",
       "2                151  Page 1, Rank 3     1     3  \n",
       "3                 29  Page 1, Rank 4     1     4  \n",
       "4                249  Page 1, Rank 5     1     5  "
      ]
     },
     "execution_count": 8,
     "metadata": {},
     "output_type": "execute_result"
    }
   ],
   "source": [
    "# DATA TYPE CONVERSION\n",
    "\n",
    "# Convert Screen Size and Rating to float\n",
    "final_df['Screen Size'] = final_df['Screen Size'].astype(float)\n",
    "final_df['Rating'] = final_df['Rating'].astype(float)\n",
    "\n",
    "# Convert RAM and ROM to integer\n",
    "final_df['RAM'] = final_df['RAM'].str.replace('GB', '').astype(int)\n",
    "final_df['ROM'] = final_df['ROM'].str.replace('GB', '').astype(int)\n",
    "\n",
    "# Convert Page and Rank to integer\n",
    "final_df['Page'] = final_df['Page'].astype(int)\n",
    "final_df['Rank'] = final_df['Rank'].astype(int)\n",
    "\n",
    "# Convert Price and Old Price to float\n",
    "final_df['Price'] = final_df['Price'].str.replace(r'[^\\d]', '', regex=True).astype(float)\n",
    "final_df['Old Price'] = final_df['Old Price'].str.replace(r'[^\\d]', '', regex=True).astype(float)\n",
    "\n",
    "# Convert Discount to float\n",
    "final_df['Discount'] = final_df['Discount'].str.replace('%', '').astype(float)\n",
    "\n",
    "# Convert the Number of Reviews to integers, filling null values with 0\n",
    "final_df['Number of Reviews'] = final_df['Number of Reviews'].fillna(0).astype(float).astype(int)\n",
    "\n",
    "# View the first 6 rows of the final set\n",
    "final_df.head()"
   ]
  },
  {
   "cell_type": "code",
   "execution_count": 9,
   "metadata": {},
   "outputs": [
    {
     "data": {
      "text/plain": [
       "(12000, 17)"
      ]
     },
     "execution_count": 9,
     "metadata": {},
     "output_type": "execute_result"
    }
   ],
   "source": [
    "final_df.shape"
   ]
  },
  {
   "cell_type": "code",
   "execution_count": 10,
   "metadata": {},
   "outputs": [
    {
     "name": "stdout",
     "output_type": "stream",
     "text": [
      "<class 'pandas.core.frame.DataFrame'>\n",
      "RangeIndex: 12000 entries, 0 to 11999\n",
      "Data columns (total 17 columns):\n",
      " #   Column             Non-Null Count  Dtype  \n",
      "---  ------             --------------  -----  \n",
      " 0   Brand              12000 non-null  object \n",
      " 1   Screen Size        11100 non-null  float64\n",
      " 2   RAM                12000 non-null  int32  \n",
      " 3   ROM                12000 non-null  int32  \n",
      " 4   Color              9600 non-null   object \n",
      " 5   Warranty           3000 non-null   object \n",
      " 6   Camera             8700 non-null   object \n",
      " 7   Battery Power      9300 non-null   object \n",
      " 8   Number of SIMs     3300 non-null   float64\n",
      " 9   Price              12000 non-null  float64\n",
      " 10  Old Price          8101 non-null   float64\n",
      " 11  Discount           8101 non-null   float64\n",
      " 12  Rating             10200 non-null  float64\n",
      " 13  Number of Reviews  12000 non-null  int32  \n",
      " 14  Search Ranking     12000 non-null  object \n",
      " 15  Page               12000 non-null  int32  \n",
      " 16  Rank               12000 non-null  int32  \n",
      "dtypes: float64(6), int32(5), object(6)\n",
      "memory usage: 1.3+ MB\n"
     ]
    }
   ],
   "source": [
    "final_df.info()"
   ]
  },
  {
   "cell_type": "code",
   "execution_count": 11,
   "metadata": {},
   "outputs": [
    {
     "data": {
      "text/html": [
       "<div>\n",
       "<style scoped>\n",
       "    .dataframe tbody tr th:only-of-type {\n",
       "        vertical-align: middle;\n",
       "    }\n",
       "\n",
       "    .dataframe tbody tr th {\n",
       "        vertical-align: top;\n",
       "    }\n",
       "\n",
       "    .dataframe thead th {\n",
       "        text-align: right;\n",
       "    }\n",
       "</style>\n",
       "<table border=\"1\" class=\"dataframe\">\n",
       "  <thead>\n",
       "    <tr style=\"text-align: right;\">\n",
       "      <th></th>\n",
       "      <th>Screen Size</th>\n",
       "      <th>RAM</th>\n",
       "      <th>ROM</th>\n",
       "      <th>Number of SIMs</th>\n",
       "      <th>Price</th>\n",
       "      <th>Old Price</th>\n",
       "      <th>Discount</th>\n",
       "      <th>Rating</th>\n",
       "      <th>Number of Reviews</th>\n",
       "      <th>Page</th>\n",
       "      <th>Rank</th>\n",
       "    </tr>\n",
       "  </thead>\n",
       "  <tbody>\n",
       "    <tr>\n",
       "      <th>count</th>\n",
       "      <td>11100.000000</td>\n",
       "      <td>12000.000000</td>\n",
       "      <td>12000.000000</td>\n",
       "      <td>3300.000000</td>\n",
       "      <td>12000.000000</td>\n",
       "      <td>8101.000000</td>\n",
       "      <td>8101.000000</td>\n",
       "      <td>10200.000000</td>\n",
       "      <td>12000.000000</td>\n",
       "      <td>12000.000000</td>\n",
       "      <td>12000.000000</td>\n",
       "    </tr>\n",
       "    <tr>\n",
       "      <th>mean</th>\n",
       "      <td>6.576216</td>\n",
       "      <td>4.500000</td>\n",
       "      <td>128.000000</td>\n",
       "      <td>1.818182</td>\n",
       "      <td>13735.783250</td>\n",
       "      <td>21325.503024</td>\n",
       "      <td>34.257252</td>\n",
       "      <td>4.297059</td>\n",
       "      <td>79.450000</td>\n",
       "      <td>150.500000</td>\n",
       "      <td>20.500000</td>\n",
       "    </tr>\n",
       "    <tr>\n",
       "      <th>std</th>\n",
       "      <td>0.389371</td>\n",
       "      <td>1.870907</td>\n",
       "      <td>61.970316</td>\n",
       "      <td>0.385753</td>\n",
       "      <td>4733.589395</td>\n",
       "      <td>7141.805533</td>\n",
       "      <td>12.445535</td>\n",
       "      <td>0.292554</td>\n",
       "      <td>89.613708</td>\n",
       "      <td>86.605668</td>\n",
       "      <td>11.543877</td>\n",
       "    </tr>\n",
       "    <tr>\n",
       "      <th>min</th>\n",
       "      <td>5.000000</td>\n",
       "      <td>1.000000</td>\n",
       "      <td>32.000000</td>\n",
       "      <td>1.000000</td>\n",
       "      <td>4700.000000</td>\n",
       "      <td>7499.000000</td>\n",
       "      <td>3.000000</td>\n",
       "      <td>3.500000</td>\n",
       "      <td>0.000000</td>\n",
       "      <td>1.000000</td>\n",
       "      <td>1.000000</td>\n",
       "    </tr>\n",
       "    <tr>\n",
       "      <th>25%</th>\n",
       "      <td>6.600000</td>\n",
       "      <td>4.000000</td>\n",
       "      <td>64.000000</td>\n",
       "      <td>2.000000</td>\n",
       "      <td>10000.000000</td>\n",
       "      <td>14999.000000</td>\n",
       "      <td>24.000000</td>\n",
       "      <td>4.100000</td>\n",
       "      <td>12.500000</td>\n",
       "      <td>75.750000</td>\n",
       "      <td>10.750000</td>\n",
       "    </tr>\n",
       "    <tr>\n",
       "      <th>50%</th>\n",
       "      <td>6.600000</td>\n",
       "      <td>4.000000</td>\n",
       "      <td>128.000000</td>\n",
       "      <td>2.000000</td>\n",
       "      <td>13399.000000</td>\n",
       "      <td>20000.000000</td>\n",
       "      <td>37.000000</td>\n",
       "      <td>4.300000</td>\n",
       "      <td>46.500000</td>\n",
       "      <td>150.500000</td>\n",
       "      <td>20.500000</td>\n",
       "    </tr>\n",
       "    <tr>\n",
       "      <th>75%</th>\n",
       "      <td>6.710000</td>\n",
       "      <td>4.000000</td>\n",
       "      <td>128.000000</td>\n",
       "      <td>2.000000</td>\n",
       "      <td>15661.750000</td>\n",
       "      <td>29999.000000</td>\n",
       "      <td>44.000000</td>\n",
       "      <td>4.500000</td>\n",
       "      <td>117.750000</td>\n",
       "      <td>225.250000</td>\n",
       "      <td>30.250000</td>\n",
       "    </tr>\n",
       "    <tr>\n",
       "      <th>max</th>\n",
       "      <td>6.880000</td>\n",
       "      <td>8.000000</td>\n",
       "      <td>256.000000</td>\n",
       "      <td>2.000000</td>\n",
       "      <td>24999.000000</td>\n",
       "      <td>35000.000000</td>\n",
       "      <td>50.000000</td>\n",
       "      <td>4.800000</td>\n",
       "      <td>420.000000</td>\n",
       "      <td>300.000000</td>\n",
       "      <td>40.000000</td>\n",
       "    </tr>\n",
       "  </tbody>\n",
       "</table>\n",
       "</div>"
      ],
      "text/plain": [
       "        Screen Size           RAM           ROM  Number of SIMs         Price  \\\n",
       "count  11100.000000  12000.000000  12000.000000     3300.000000  12000.000000   \n",
       "mean       6.576216      4.500000    128.000000        1.818182  13735.783250   \n",
       "std        0.389371      1.870907     61.970316        0.385753   4733.589395   \n",
       "min        5.000000      1.000000     32.000000        1.000000   4700.000000   \n",
       "25%        6.600000      4.000000     64.000000        2.000000  10000.000000   \n",
       "50%        6.600000      4.000000    128.000000        2.000000  13399.000000   \n",
       "75%        6.710000      4.000000    128.000000        2.000000  15661.750000   \n",
       "max        6.880000      8.000000    256.000000        2.000000  24999.000000   \n",
       "\n",
       "          Old Price     Discount        Rating  Number of Reviews  \\\n",
       "count   8101.000000  8101.000000  10200.000000       12000.000000   \n",
       "mean   21325.503024    34.257252      4.297059          79.450000   \n",
       "std     7141.805533    12.445535      0.292554          89.613708   \n",
       "min     7499.000000     3.000000      3.500000           0.000000   \n",
       "25%    14999.000000    24.000000      4.100000          12.500000   \n",
       "50%    20000.000000    37.000000      4.300000          46.500000   \n",
       "75%    29999.000000    44.000000      4.500000         117.750000   \n",
       "max    35000.000000    50.000000      4.800000         420.000000   \n",
       "\n",
       "               Page          Rank  \n",
       "count  12000.000000  12000.000000  \n",
       "mean     150.500000     20.500000  \n",
       "std       86.605668     11.543877  \n",
       "min        1.000000      1.000000  \n",
       "25%       75.750000     10.750000  \n",
       "50%      150.500000     20.500000  \n",
       "75%      225.250000     30.250000  \n",
       "max      300.000000     40.000000  "
      ]
     },
     "execution_count": 11,
     "metadata": {},
     "output_type": "execute_result"
    }
   ],
   "source": [
    "final_df.describe()"
   ]
  },
  {
   "cell_type": "code",
   "execution_count": 12,
   "metadata": {},
   "outputs": [
    {
     "data": {
      "text/plain": [
       "Brand                   0\n",
       "Screen Size           900\n",
       "RAM                     0\n",
       "ROM                     0\n",
       "Color                2400\n",
       "Warranty             9000\n",
       "Camera               3300\n",
       "Battery Power        2700\n",
       "Number of SIMs       8700\n",
       "Price                   0\n",
       "Old Price            3899\n",
       "Discount             3899\n",
       "Rating               1800\n",
       "Number of Reviews       0\n",
       "Search Ranking          0\n",
       "Page                    0\n",
       "Rank                    0\n",
       "dtype: int64"
      ]
     },
     "execution_count": 12,
     "metadata": {},
     "output_type": "execute_result"
    }
   ],
   "source": [
    "final_df.isnull().sum()"
   ]
  },
  {
   "cell_type": "code",
   "execution_count": 13,
   "metadata": {},
   "outputs": [
    {
     "data": {
      "image/png": "[encoded data removed]",
      "text/plain": [
       "<Figure size 432x288 with 1 Axes>"
      ]
     },
     "metadata": {
      "needs_background": "light"
     },
     "output_type": "display_data"
    }
   ],
   "source": [
    "#Finding outliers in the price feature\n",
    "plt.boxplot(final_df['Price'], vert=False)\n",
    "plt.xlabel('Price')\n",
    "plt.title('Boxplot for Price')\n",
    "plt.show()"
   ]
  },
  {
   "cell_type": "markdown",
   "metadata": {},
   "source": [
    "### Top 10 brands by Count"
   ]
  },
  {
   "cell_type": "code",
   "execution_count": 14,
   "metadata": {},
   "outputs": [
    {
     "name": "stdout",
     "output_type": "stream",
     "text": [
      "Itel S23                1800\n",
      "Tecno Pop 8              900\n",
      "Xiaomi Redmi 14C         900\n",
      "Samsung Galaxy A15       900\n",
      "Samsung Galaxy A05       900\n",
      "Infinix Smart 8          600\n",
      "Samsung  Galaxy A05S     600\n",
      "Xiaomi Redmi Note 13     600\n",
      "Xiaomi Redmi A3          600\n",
      "Tecno Spark 20           600\n",
      "Name: Brand, dtype: int64\n"
     ]
    },
    {
     "data": {
      "image/png": "[encoded data removed]",
      "text/plain": [
       "<Figure size 432x288 with 1 Axes>"
      ]
     },
     "metadata": {
      "needs_background": "light"
     },
     "output_type": "display_data"
    }
   ],
   "source": [
    "top_brands = final_df['Brand'].value_counts().head(10)\n",
    "print(top_brands)\n",
    "\n",
    "#visualize\n",
    "ax = top_brands.plot(kind='barh', color=sns.color_palette(\"Set2\", n_colors=len(top_brands)))\n",
    "plt.xlabel('count')\n",
    "plt.ylabel('brands')\n",
    "plt.title('Top Brands')\n",
    "\n",
    "# Annotate each bar with the exact rating value inside the bar\n",
    "for i, v in enumerate(top_brands):\n",
    "    ax.text(v + 0.05, i, f'{v:.1f}', color='black', va='center', fontweight='bold')\n",
    "\n",
    "plt.show()"
   ]
  },
  {
   "cell_type": "markdown",
   "metadata": {},
   "source": [
    "From the visualisation, Itel S23 appears to be the brand with the highest count of sold phones.\n",
    "\n",
    "\n",
    "### Top Brands by Rating"
   ]
  },
  {
   "cell_type": "code",
   "execution_count": 15,
   "metadata": {},
   "outputs": [
    {
     "name": "stdout",
     "output_type": "stream",
     "text": [
      "Brand\n",
      "Infinix Smart 8         4.8\n",
      "Itel S23                4.8\n",
      "Xiaomi Redmi 14C        4.8\n",
      "Samsung Galaxy A05S     4.6\n",
      "Samsung Galaxy A05      4.5\n",
      "Xiaomi Redmi A3         4.5\n",
      "Xiaomi Redmi Note 13    4.5\n",
      "Samsung  Galaxy A05S    4.4\n",
      "Tecno Pova 6 Neo        4.4\n",
      "Tecno Spark 20          4.4\n",
      "Name: Rating, dtype: float64\n"
     ]
    },
    {
     "data": {
      "image/png": "[encoded data removed]",
      "text/plain": [
       "<Figure size 432x288 with 1 Axes>"
      ]
     },
     "metadata": {
      "needs_background": "light"
     },
     "output_type": "display_data"
    }
   ],
   "source": [
    "top_rated = final_df.groupby('Brand')['Rating'].max().nlargest(10)\n",
    "print(top_rated)\n",
    "\n",
    "ax = top_rated.plot(kind='barh', color=sns.color_palette(\"Set2\", n_colors=len(top_rated)))\n",
    "\n",
    "plt.xlabel('rating')\n",
    "plt.ylabel('brand')\n",
    "plt.title('Top brands by rating')\n",
    "\n",
    "# Annotate each bar with the exact rating value inside the bar\n",
    "for i, v in enumerate(top_rated):\n",
    "    ax.text(v + 0.05, i, f'{v:.1f}', color='black', va='center', fontweight='bold')\n",
    "    \n",
    "    \n",
    "plt.show()"
   ]
  },
  {
   "cell_type": "markdown",
   "metadata": {},
   "source": [
    "### Checking for missing values"
   ]
  },
  {
   "cell_type": "code",
   "execution_count": 16,
   "metadata": {},
   "outputs": [
    {
     "data": {
      "text/plain": [
       "Brand                   0\n",
       "Screen Size           900\n",
       "RAM                     0\n",
       "ROM                     0\n",
       "Color                2400\n",
       "Warranty             9000\n",
       "Camera               3300\n",
       "Battery Power        2700\n",
       "Number of SIMs       8700\n",
       "Price                   0\n",
       "Old Price            3899\n",
       "Discount             3899\n",
       "Rating               1800\n",
       "Number of Reviews       0\n",
       "Search Ranking          0\n",
       "Page                    0\n",
       "Rank                    0\n",
       "dtype: int64"
      ]
     },
     "execution_count": 16,
     "metadata": {},
     "output_type": "execute_result"
    }
   ],
   "source": [
    "final_df.isnull().sum()"
   ]
  },
  {
   "cell_type": "code",
   "execution_count": 17,
   "metadata": {},
   "outputs": [
    {
     "data": {
      "text/plain": [
       "Brand                   0\n",
       "Screen Size           900\n",
       "RAM                     0\n",
       "ROM                     0\n",
       "Color                2400\n",
       "Warranty             9000\n",
       "Camera               3300\n",
       "Battery Power        2700\n",
       "Number of SIMs       8700\n",
       "Price                   0\n",
       "Old Price               0\n",
       "Discount                0\n",
       "Rating                  0\n",
       "Number of Reviews       0\n",
       "Search Ranking          0\n",
       "Page                    0\n",
       "Rank                    0\n",
       "dtype: int64"
      ]
     },
     "execution_count": 17,
     "metadata": {},
     "output_type": "execute_result"
    }
   ],
   "source": [
    "#Fill the null values in the column Old Price with the current price of the phone\n",
    "final_df['Old Price'] = final_df['Old Price'].fillna(final_df['Price'])\n",
    "#Calculate the discounts from the Old Price and Current Price\n",
    "final_df['Discount'] = final_df['Discount'].fillna((final_df['Old Price'] - final_df['Price']) / 100)\n",
    "#For the Ratings fill 0 as it potentially mean that the product has not yet been rated or shipped.\n",
    "final_df['Rating'] = final_df['Rating'].fillna(0)\n",
    "#Check for the null values\n",
    "final_df.isnull().sum()"
   ]
  },
  {
   "cell_type": "code",
   "execution_count": 18,
   "metadata": {},
   "outputs": [
    {
     "data": {
      "text/plain": [
       "Brand                   0\n",
       "Screen Size           900\n",
       "RAM                     0\n",
       "ROM                     0\n",
       "Color                   0\n",
       "Warranty             9000\n",
       "Camera               3300\n",
       "Battery Power        2700\n",
       "Number of SIMs          0\n",
       "Price                   0\n",
       "Old Price               0\n",
       "Discount                0\n",
       "Rating                  0\n",
       "Number of Reviews       0\n",
       "Search Ranking          0\n",
       "Page                    0\n",
       "Rank                    0\n",
       "dtype: int64"
      ]
     },
     "execution_count": 18,
     "metadata": {},
     "output_type": "execute_result"
    }
   ],
   "source": [
    "# replace all missing color with 'Unknown colour'\n",
    "final_df['Color'] = final_df['Color'].fillna('Unknown')\n",
    "\n",
    "# replace number of sims missing values with 1\n",
    "final_df['Number of SIMs'] = final_df['Number of SIMs'].fillna(1.0)\n",
    "\n",
    "final_df.isnull().sum()"
   ]
  },
  {
   "cell_type": "code",
   "execution_count": 19,
   "metadata": {},
   "outputs": [],
   "source": [
    "\n",
    "# fill the missing screensize with the median whuc is better than mode since it is heavily negavitely skewed (-3.52) with most values clustering around larger screen size and a longer tail on the small screen\n",
    "# using mode can lead to a misleading imputation, especially in the case of skewed dist. where outliers have a disproportionate effect.\n",
    "final_df['Screen Size'] = final_df['Screen Size'].fillna(final_df['Screen Size'].median())\n",
    "\n"
   ]
  },
  {
   "cell_type": "code",
   "execution_count": 20,
   "metadata": {},
   "outputs": [
    {
     "name": "stdout",
     "output_type": "stream",
     "text": [
      "Xiaomi Redmi 14C       900\n",
      "Xiaomi Redmi A3        600\n",
      "Infinix Smart 8        600\n",
      "Samsung Galaxy A05S    300\n",
      "Oppo A83 4Gb Ram       300\n",
      "Oppo A17K              300\n",
      "Itel A18               300\n",
      "Name: Brand, dtype: int64\n",
      "0\n"
     ]
    }
   ],
   "source": [
    "# Filter rows where Camera is NaN\n",
    "phones_with_nan_camera = final_df[final_df['Camera'].isna()]\n",
    "\n",
    "# Count the number of unique brands with NaN Camera\n",
    "print(phones_with_nan_camera['Brand'].value_counts())\n",
    "\n",
    "# Dictionary with phone models and their corresponding rear camera megapixels (numeric only) aquired from the internet\n",
    "camera_specs = {\n",
    "    \"Xiaomi Redmi 14C\": 50,  # 50 MP camera\n",
    "    \"Xiaomi Redmi A3\": 13,   # 13 MP camera\n",
    "    \"Infinix Smart 8\": 13,   # 13 MP camera\n",
    "    \"Samsung Galaxy A05S\": 50,  # 50 MP camera\n",
    "    \"Oppo A83 4Gb Ram\": 13,   # 13 MP camera\n",
    "    \"Oppo A17K\": 50,          # 50 MP camera\n",
    "    \"Itel A18\": 5            # 5 MP camera\n",
    "}\n",
    "\n",
    "# Function to replace NaN values with the camera specs from the dictionary (numeric only)\n",
    "def replace_camera_specs(row):\n",
    "    if pd.isna(row['Camera']) and row['Brand'] in camera_specs:\n",
    "        return camera_specs[row['Brand']]\n",
    "    return row['Camera']\n",
    "\n",
    "# Apply the function to the 'Camera' column\n",
    "final_df['Camera'] = final_df.apply(replace_camera_specs, axis=1)\n",
    "\n",
    "# Check unique values in the 'Camera' column\n",
    "final_df['Camera'].unique()\n",
    "\n",
    "# Remove the 'MP' suffix and convert the values to numeric (integer)\n",
    "final_df['Camera'] = final_df['Camera'].replace(to_replace=r'\\D', value='', regex=True).astype(float)\n",
    "\n",
    "print(final_df['Camera'].isna().sum())"
   ]
  },
  {
   "cell_type": "code",
   "execution_count": 21,
   "metadata": {},
   "outputs": [
    {
     "data": {
      "text/plain": [
       "0    2.0\n",
       "1    1.0\n",
       "2    1.0\n",
       "3    0.0\n",
       "4    0.0\n",
       "Name: Warranty, dtype: float64"
      ]
     },
     "execution_count": 21,
     "metadata": {},
     "output_type": "execute_result"
    }
   ],
   "source": [
    "# replace warranty missing values with 'None'\n",
    "final_df['Warranty'] = final_df['Warranty'].fillna(0)\n",
    "\n",
    "# use regx to extract only the numeric part from Warranty\n",
    "final_df['Warranty'] = final_df['Warranty'].astype(float)\n",
    "\n",
    "final_df['Warranty'].head(5)"
   ]
  },
  {
   "cell_type": "code",
   "execution_count": 22,
   "metadata": {},
   "outputs": [
    {
     "name": "stdout",
     "output_type": "stream",
     "text": [
      "5000mAh    7500\n",
      "5160mAh     600\n",
      "7000mAh     300\n",
      "2400mAh     300\n",
      "3000mAh     300\n",
      "5057mAh     300\n",
      "Name: Battery Power, dtype: int64\n"
     ]
    }
   ],
   "source": [
    "# Check the count of each unique value in the 'Battery Power' column\n",
    "battery_power_counts = final_df['Battery Power'].value_counts()\n",
    "\n",
    "# Display the counts of the unique values in 'Battery Power'\n",
    "print(battery_power_counts)\n",
    "\n",
    "# Impute missing values with the most frequent value (mode)\n",
    "final_df['Battery Power'] = final_df['Battery Power'].fillna(final_df['Battery Power'].mode()[0])\n",
    "\n",
    "# use regx to extract only the numeric part from Battery Power\n",
    "final_df['Battery Power'] = final_df['Battery Power'].str.extract('(\\d+)')\n",
    "\n",
    "# change tofloat\n",
    "final_df['Battery Power'] = final_df['Battery Power'].astype(float)\n"
   ]
  },
  {
   "cell_type": "code",
   "execution_count": 23,
   "metadata": {},
   "outputs": [
    {
     "data": {
      "text/plain": [
       "Brand                0\n",
       "Screen Size          0\n",
       "RAM                  0\n",
       "ROM                  0\n",
       "Color                0\n",
       "Warranty             0\n",
       "Camera               0\n",
       "Battery Power        0\n",
       "Number of SIMs       0\n",
       "Price                0\n",
       "Old Price            0\n",
       "Discount             0\n",
       "Rating               0\n",
       "Number of Reviews    0\n",
       "Search Ranking       0\n",
       "Page                 0\n",
       "Rank                 0\n",
       "dtype: int64"
      ]
     },
     "execution_count": 23,
     "metadata": {},
     "output_type": "execute_result"
    }
   ],
   "source": [
    "final_df.isnull().sum()"
   ]
  },
  {
   "cell_type": "markdown",
   "metadata": {},
   "source": [
    "### Check for dupliates"
   ]
  },
  {
   "cell_type": "code",
   "execution_count": 24,
   "metadata": {},
   "outputs": [
    {
     "data": {
      "text/plain": [
       "0"
      ]
     },
     "execution_count": 24,
     "metadata": {},
     "output_type": "execute_result"
    }
   ],
   "source": [
    "final_df.duplicated().sum()"
   ]
  },
  {
   "cell_type": "markdown",
   "metadata": {},
   "source": [
    "### Correlation"
   ]
  },
  {
   "cell_type": "code",
   "execution_count": 25,
   "metadata": {},
   "outputs": [
    {
     "data": {
      "text/plain": [
       "Price                1.000000\n",
       "Old Price            0.778953\n",
       "Camera               0.694238\n",
       "ROM                  0.676142\n",
       "RAM                  0.533064\n",
       "Battery Power        0.509556\n",
       "Screen Size          0.446941\n",
       "Rating               0.106853\n",
       "Rank                 0.071768\n",
       "Warranty             0.049099\n",
       "Number of Reviews    0.045858\n",
       "Number of SIMs       0.005919\n",
       "Page                 0.000060\n",
       "Discount            -0.037581\n",
       "Name: Price, dtype: float64"
      ]
     },
     "execution_count": 25,
     "metadata": {},
     "output_type": "execute_result"
    }
   ],
   "source": [
    "final_df.corr()['Price'].sort_values(ascending=False)"
   ]
  },
  {
   "cell_type": "markdown",
   "metadata": {},
   "source": [
    "In this dataset, Old price, ROM, RAM have the highest positive correlation to price unlike page and discount. Number of sims is negatively correlated to price. A heatmap demonstrates this relationship of the features to other featres and price.\n",
    "\n",
    "### A HeatMap to visualize patterns"
   ]
  },
  {
   "cell_type": "code",
   "execution_count": 26,
   "metadata": {},
   "outputs": [
    {
     "data": {
      "image/png": "[encoded data removed]",
      "text/plain": [
       "<Figure size 720x576 with 2 Axes>"
      ]
     },
     "metadata": {
      "needs_background": "light"
     },
     "output_type": "display_data"
    }
   ],
   "source": [
    "correlation_matrix = final_df.corr()\n",
    "\n",
    "# Plotting the heatmap\n",
    "plt.figure(figsize=(10, 8))\n",
    "sns.heatmap(correlation_matrix, annot=True, cmap='coolwarm', vmin=-1, vmax=1, square=True)\n",
    "plt.title(\"Correlation Matrix\")\n",
    "plt.show()"
   ]
  },
  {
   "cell_type": "code",
   "execution_count": null,
   "metadata": {},
   "outputs": [],
   "source": []
  },
  {
   "cell_type": "markdown",
   "metadata": {},
   "source": [
    "### DATA PRE-PROCESSING\n",
    "Before training the model, it is crucial to ensure that the data is clean, well-structured, and ready for analysis. The pre-processing steps below will help in preparing the data for modeling, ensuring that the model can learn effectively and provide accurate predictions.\n",
    "\n",
    "We followed this steps to avoid Data leakage:\n",
    "\n",
    "1. Split the Data: Divide the dataset into training, validation, and test sets to properly evaluate the model's performance. The training set is used to train the model, the validation set helps with hyperparameter tuning, and the test set provides an unbiased evaluation of the final model.\n",
    "\n",
    "2. Confirm Missing Values: Identify and address any missing values to ensure data consistency which helps improve the model's reliability and performance.\n",
    "\n",
    "3. Handle Categorical Data: Convert categorical data into a format that the model can interpret. This allows the model to capture relationships between categories, which enhances overall model performance.\n",
    "\n",
    "4. Standardize the Data: Standardizing features to a common scale improves model convergence speed, stability, and performance by preventing features with larger ranges from disproportionately influencing the model."
   ]
  },
  {
   "cell_type": "markdown",
   "metadata": {},
   "source": [
    "### TRAIN TEST SPLIT"
   ]
  },
  {
   "cell_type": "code",
   "execution_count": 27,
   "metadata": {},
   "outputs": [
    {
     "name": "stdout",
     "output_type": "stream",
     "text": [
      "Training size: 9000\n",
      "Validation size: 1800\n",
      "Test size: 1200\n"
     ]
    }
   ],
   "source": [
    "#Define the x variables\n",
    "x = final_df.drop(columns=['Price', 'Page', 'Rank', 'Search Ranking', 'Discount', 'Rating', 'Number of Reviews', 'Old Price'])\n",
    "\n",
    "# Define the target variable y as 'Price'\n",
    "y = final_df['Price']\n",
    "\n",
    "# First, split into train and temp (75% train, 25% temp)\n",
    "X_train, X_temp, y_train, y_temp = train_test_split(x, y, test_size=0.25, random_state=42)\n",
    "\n",
    "# Then, split temp into validation and test (50% of the temp data for validation, 50% for testing)\n",
    "X_val, X_test, y_val, y_test = train_test_split(X_temp, y_temp, test_size=0.4, random_state=42)\n",
    "\n",
    "print(f\"Training size:\", len(X_train))\n",
    "print(f\"Validation size:\", len(X_val))\n",
    "print(f\"Test size:\", len(X_test))"
   ]
  },
  {
   "cell_type": "code",
   "execution_count": 28,
   "metadata": {},
   "outputs": [],
   "source": [
    "# import relevant libraries\n",
    "from sklearn.preprocessing import StandardScaler, OneHotEncoder\n",
    "from sklearn.model_selection import train_test_split\n",
    "from sklearn.impute import SimpleImputer\n",
    "from sklearn.compose import ColumnTransformer\n",
    "from sklearn.pipeline import Pipeline\n",
    "import warnings\n",
    "warnings.filterwarnings(\"ignore\")"
   ]
  },
  {
   "cell_type": "code",
   "execution_count": 29,
   "metadata": {},
   "outputs": [
    {
     "name": "stdout",
     "output_type": "stream",
     "text": [
      "Shape of X_train_processed_df: (9000, 45)\n",
      "Shape of X_val_processed_df: (1800, 45)\n",
      "Shape of X_test_processed_df: (1200, 45)\n"
     ]
    }
   ],
   "source": [
    "\n",
    "\n",
    "# Define preprocessing for numeric and categorical features\n",
    "numeric_features = X_train.select_dtypes(include=['float64', 'int64', 'int32']).columns\n",
    "categorical_features = X_train.select_dtypes(include=['object']).columns\n",
    "\n",
    "# Pipeline for numeric features (scaling)\n",
    "numeric_transformer = Pipeline(steps=[\n",
    "    ('scaler', StandardScaler())\n",
    "])\n",
    "\n",
    "# Pipeline for categorical features (imputation and encoding)\n",
    "categorical_transformer = Pipeline(steps=[  # Handle missing categorical values\n",
    "    ('encoder', OneHotEncoder(handle_unknown='ignore', sparse=False))  \n",
    "])\n",
    "\n",
    "# Combine numeric and categorical transformers\n",
    "preprocessor = ColumnTransformer(\n",
    "    transformers=[\n",
    "        ('num', numeric_transformer, numeric_features),\n",
    "        ('cat', categorical_transformer, categorical_features)\n",
    "    ]\n",
    ")\n",
    "\n",
    "# Apply the preprocessor to the training, validation, and test data\n",
    "X_train_processed = preprocessor.fit_transform(X_train)  # Apply transformation to training data\n",
    "X_val_processed = preprocessor.transform(X_val)  # Apply transformation to validation data\n",
    "X_test_processed = preprocessor.transform(X_test)  # Apply transformation to test data\n",
    "\n",
    "# Get the names of the transformed columns\n",
    "# This will handle the column names for both numeric and categorical features\n",
    "numeric_col_names = numeric_features\n",
    "categorical_col_names = preprocessor.named_transformers_['cat']['encoder'].get_feature_names(categorical_features)\n",
    "\n",
    "# Combine numeric and categorical feature names\n",
    "all_feature_names = pd.Index(numeric_col_names).append(pd.Index(categorical_col_names))\n",
    "\n",
    "\n",
    "# Create DataFrames with proper shapes\n",
    "X_train_processed_df = pd.DataFrame(X_train_processed, index=X_train.index, columns=all_feature_names)\n",
    "X_val_processed_df = pd.DataFrame(X_val_processed, index=X_val.index, columns=all_feature_names[:X_val_processed.shape[1]])  # Adjusting to the right shape\n",
    "X_test_processed_df = pd.DataFrame(X_test_processed, index=X_test.index, columns=all_feature_names[:X_test_processed.shape[1]])  # Adjusting to the right shape\n",
    "\n",
    "# Print the processed DataFrames and their shapes\n",
    "print(\"Shape of X_train_processed_df:\", X_train_processed_df.shape)\n",
    "print(\"Shape of X_val_processed_df:\", X_val_processed_df.shape)\n",
    "print(\"Shape of X_test_processed_df:\", X_test_processed_df.shape)\n",
    "\n",
    "\n",
    "\n"
   ]
  },
  {
   "cell_type": "code",
   "execution_count": 30,
   "metadata": {},
   "outputs": [
    {
     "name": "stdout",
     "output_type": "stream",
     "text": [
      "Index(['Screen Size', 'RAM', 'ROM', 'Warranty', 'Camera', 'Battery Power',\n",
      "       'Number of SIMs', 'Brand_Infinix Hot', 'Brand_Infinix Hot 40I',\n",
      "       'Brand_Infinix Smart 8', 'Brand_Itel A18', 'Brand_Itel S23',\n",
      "       'Brand_Oale Pop 8', 'Brand_Oppo A17K', 'Brand_Oppo A83 4Gb Ram',\n",
      "       'Brand_Samsung  Galaxy A05S', 'Brand_Samsung Galaxy A05',\n",
      "       'Brand_Samsung Galaxy A05S', 'Brand_Samsung Galaxy A15',\n",
      "       'Brand_Tecno Pop 8', 'Brand_Tecno Pova 6 Neo', 'Brand_Tecno Spark',\n",
      "       'Brand_Tecno Spark 20', 'Brand_Tecno Spark 20C', 'Brand_Villaon V20 Se',\n",
      "       'Brand_Xiaomi Redmi 13C', 'Brand_Xiaomi Redmi 14C',\n",
      "       'Brand_Xiaomi Redmi A3', 'Brand_Xiaomi Redmi Note 13', 'Color_Black',\n",
      "       'Color_Blue', 'Color_Crystal Green', 'Color_Cyber White',\n",
      "       'Color_Elemental Blue', 'Color_Energetic Orange', 'Color_Gravity Black',\n",
      "       'Color_Luxurious Gold', 'Color_Midnight Black', 'Color_Mystery White',\n",
      "       'Color_Navy Blue', 'Color_Shiny Gold', 'Color_Silver',\n",
      "       'Color_Speed Black', 'Color_Starry Black', 'Color_Unknown'],\n",
      "      dtype='object')\n"
     ]
    }
   ],
   "source": [
    "print(X_train_processed_df.columns)"
   ]
  },
  {
   "cell_type": "markdown",
   "metadata": {},
   "source": [
    "### DATA MODELING\n",
    "We shall build different models using our clean data to find the optimal model that will predict the price of the phone based on the brand."
   ]
  },
  {
   "cell_type": "code",
   "execution_count": 31,
   "metadata": {},
   "outputs": [],
   "source": [
    "# import relevant libraries\n",
    "# Model Training and Evaluation\n",
    "\n",
    "from sklearn.linear_model import LogisticRegression\n",
    "from sklearn.tree import DecisionTreeClassifier\n",
    "from sklearn.preprocessing import PolynomialFeatures\n",
    "from sklearn.tree import DecisionTreeRegressor\n",
    "from sklearn.ensemble import GradientBoostingRegressor, RandomForestRegressor\n",
    "from xgboost import XGBRegressor\n",
    "from sklearn.svm import SVR\n",
    "from sklearn.metrics import confusion_matrix, classification_report, accuracy_score, recall_score, f1_score, precision_score\n",
    "from sklearn.linear_model import LogisticRegression\n",
    "from sklearn.model_selection import train_test_split\n",
    "from sklearn.metrics import mean_absolute_error, r2_score, mean_squared_error\n",
    "from sklearn.linear_model import LogisticRegression, Ridge, Lasso\n",
    "from sklearn.model_selection import cross_val_score, KFold, GridSearchCV\n",
    "\n",
    "\n"
   ]
  },
  {
   "cell_type": "markdown",
   "metadata": {},
   "source": [
    "#### Linear Regression"
   ]
  },
  {
   "cell_type": "code",
   "execution_count": 32,
   "metadata": {},
   "outputs": [
    {
     "name": "stdout",
     "output_type": "stream",
     "text": [
      "Training Mean Absolute Error: 2.5246226092444526\n",
      "Validation Mean Absolute Error: 3.4442896631028916\n",
      "\n",
      "\n",
      "Training R2 Score: 0.9999943274532466\n",
      "Validation R2 Score: 0.9998957377711128\n"
     ]
    },
    {
     "data": {
      "image/png": "[encoded data removed]",
      "text/plain": [
       "<Figure size 576x432 with 1 Axes>"
      ]
     },
     "metadata": {
      "needs_background": "light"
     },
     "output_type": "display_data"
    }
   ],
   "source": [
    "# Fit the model\n",
    "lr_model = LinearRegression()\n",
    "lr_model.fit(X_train_processed, y_train)\n",
    "\n",
    "# Predict the values\n",
    "y_hat_train = lr_model.predict(X_train_processed)\n",
    "y_hat_val = lr_model.predict(X_val_processed)\n",
    "\n",
    "# Calculate the regression scores\n",
    "train_mae = mean_absolute_error(y_train, y_hat_train)\n",
    "train_r2 = r2_score(y_train, y_hat_train)\n",
    "val_mae = mean_absolute_error(y_val, y_hat_val)\n",
    "val_r2 = r2_score(y_val, y_hat_val)\n",
    "\n",
    "print(f\"Training Mean Absolute Error:\", train_mae)\n",
    "print(f\"Validation Mean Absolute Error:\", val_mae)\n",
    "print(\"\\n\")\n",
    "print(f\"Training R2 Score:\", train_r2)\n",
    "print(f\"Validation R2 Score:\", val_r2)\n",
    "\n",
    "# Calculate residuals\n",
    "residuals = y_val - y_hat_val\n",
    "\n",
    "# Plot residuals\n",
    "plt.figure(figsize=(8, 6))\n",
    "sns.scatterplot(x=y_hat_val, y=residuals)\n",
    "plt.axhline(0, color='red', linestyle='--')\n",
    "plt.xlabel(\"Predicted Values\")\n",
    "plt.ylabel(\"Residuals\")\n",
    "plt.title(\"Residuals vs. Predicted Values\")\n",
    "plt.show()"
   ]
  },
  {
   "cell_type": "markdown",
   "metadata": {},
   "source": [
    "Training MAE: 2.52, Validation MAE: 3.44 – Slight increase in error on the validation set suggests some overfitting.\n",
    "Training R²: 0.99999, Validation R²: 0.99989 – Small difference in R² scores also indicates minor overfitting.\n",
    "The model is performing extremely well, but slight overfitting is a concern."
   ]
  },
  {
   "cell_type": "markdown",
   "metadata": {},
   "source": [
    "#### K-Folds On Baseline Model\n",
    "Cross validation provides a comprehensive understanding of our model’s performance because it tests the model on multiple sets of data reducing the risk of our model’s performance being overly optimistic or pessimistic based on one split. In summary it helps detect overfitting or underfitting by observing how the model performs across multiple different subsets."
   ]
  },
  {
   "cell_type": "code",
   "execution_count": 33,
   "metadata": {},
   "outputs": [
    {
     "name": "stdout",
     "output_type": "stream",
     "text": [
      "Cross-validated Training MAE: 2.5366800519095523\n",
      "Cross-Validation R-squared for each fold: [0.99999542 0.9999935  0.99999334 0.99999442 0.99999456]\n",
      "Average R-squared from Cross-Validation: 0.9999942501545405\n"
     ]
    }
   ],
   "source": [
    "# Calculate cross-validation MAE scores on training data\n",
    "cv_mae_baseline = cross_val_score(lr_model, X_train_processed, y_train, \n",
    "                                cv=5, scoring='neg_mean_absolute_error')\n",
    "mean_cv_mae = -cv_mae_baseline.mean()  \n",
    "print(f\"Cross-validated Training MAE: {mean_cv_mae}\")\n",
    "\n",
    "# Perform K-Fold Cross-Validation (R-squared scoring)\n",
    "cv_r2_scores = cross_val_score(lr_model, X_train_processed, y_train, cv=5, scoring='r2')\n",
    "\n",
    "# Print the R-squared for each fold\n",
    "print(\"Cross-Validation R-squared for each fold:\", cv_r2_scores)\n",
    "\n",
    "# Print the average R-squared score across all folds\n",
    "print(\"Average R-squared from Cross-Validation:\", np.mean(cv_r2_scores))\n"
   ]
  },
  {
   "cell_type": "markdown",
   "metadata": {},
   "source": [
    "Summary:\n",
    "\n",
    "The Mean Absolute Error (MAE) from cross-validation is approximately 2.54. This means, on average, the model’s predicted smartphone prices deviate from the actual prices by about 2.54 units. This indicates that the model is making relatively small errors in its predictions, which is a good sign of its performance.\n",
    "\n",
    "The R² scores for each of the 5 folds in the cross-validation are extremely high. These values indicate that in each fold, the model is explaining around 99.999% of the variance in the target variable (smartphone prices). This suggests that the model fits the data very well and is very effective at capturing the underlying relationships.\n",
    "\n",
    "\n",
    "The model performs well with high R² scores and low MAE values, indicating it is predicting smartphone prices with a high degree of accuracy. The model's performance appears stable across both training and validation sets and cross-validation results reinforce this with a difference in 0.297 on the train mae. However, a slight improvement in MAE is possible, especially in terms of reducing prediction errors further.\n",
    "\n",
    "The residual plot above shows that we have some points close to the predicted line and also some which have deviated significantly. This signals that the model isn't perfect for all data points. One possible reason for this might be due to non-linearity. We shall therefore proceed to model using polynomial regression or other models capable of capturing non-linear relationships like the decision trees, random forests, or support vector machines.\n",
    "\n"
   ]
  },
  {
   "cell_type": "markdown",
   "metadata": {},
   "source": [
    "### Decision Tree Regressor\n",
    "Trying a Decision Tree Regressor would allow us to explore a non-linear model that doesn’t rely on the polynomial feature transformations of linear models. It could reveal different insights into the feature interactions and provide a more interpretable model. The tree’s flexibility to capture complex patterns and the ability to control overfitting with hyperparameters makes it an attractive candidate to compare with your existing polynomial regression model."
   ]
  },
  {
   "cell_type": "code",
   "execution_count": 34,
   "metadata": {},
   "outputs": [
    {
     "name": "stdout",
     "output_type": "stream",
     "text": [
      "Training Accuracy: 0.9755555555555555\n",
      "Validation Accuracy: 0.975\n",
      "\n",
      "Classification Report (Validation):\n",
      "Training MAE: 2.468888888888889\n",
      "Training MSE: 249.35777777777778\n",
      "Training R2: 0.9999889015391162\n",
      "\n",
      "\n",
      "Validation MAE: 3.5805555555555557\n",
      "Validation MSE: 2473.802777777778\n",
      "Validation R2: 0.9998898893779362\n"
     ]
    }
   ],
   "source": [
    "# Initialize Decision Tree Classifier\n",
    "clf = DecisionTreeClassifier(random_state=42)\n",
    "\n",
    "# Train the Model\n",
    "clf.fit(X_train_processed, y_train)\n",
    "\n",
    "# Make Predictions\n",
    "y_hat_train = clf.predict(X_train_processed)\n",
    "y_hat_val = clf.predict(X_val_processed)\n",
    "\n",
    "# Calculate the MAE for the training and validation sets\n",
    "train_mae = mean_absolute_error(y_train, y_hat_train)\n",
    "train_mse = mean_squared_error(y_train, y_hat_train)\n",
    "train_r2 = r2_score(y_train, y_hat_train)\n",
    "\n",
    "val_mae = mean_absolute_error(y_val, y_hat_val)\n",
    "val_mse = mean_squared_error(y_val, y_hat_val)\n",
    "val_r2 = r2_score(y_val, y_hat_val)\n",
    "\n",
    "\n",
    "# Evaluate the model using classification metrics\n",
    "train_accuracy = accuracy_score(y_train, y_hat_train)\n",
    "val_accuracy = accuracy_score(y_val, y_hat_val)\n",
    "\n",
    "# Print the results\n",
    "print(f\"Training Accuracy: {train_accuracy}\")\n",
    "print(f\"Validation Accuracy: {val_accuracy}\")\n",
    "print(\"\\nClassification Report (Validation):\")\n",
    "\n",
    "# Print the results\n",
    "print(f\"Training MAE: {train_mae}\")\n",
    "print(f\"Training MSE: {train_mse}\")\n",
    "print(f\"Training R2: {train_r2}\")\n",
    "print(\"\\n\")\n",
    "print(f\"Validation MAE: {val_mae}\")\n",
    "print(f\"Validation MSE: {val_mse}\")\n",
    "print(f\"Validation R2: {val_r2}\")\n",
    "\n",
    "\n"
   ]
  },
  {
   "cell_type": "markdown",
   "metadata": {},
   "source": [
    "\n",
    "MAE (2.46) and MSE (249.35) for the training set indicate the model fits the training data well. R² is close to 1, which typically suggests the model captures almost all variance in the training data.\n",
    "\n",
    "Validation MAE (3.58) and MSE (2473.80) are significantly higher, showing that the model might be overfitting the training data.\n",
    "Despite this, the R² for validation (0.9998) is still extremely high, which seems unusual if there’s a substantial increase in MAE and MSE.\n",
    "\n",
    "To handle any overfitting concerns we shall proceed to try the Random Forest as this is an ensemble model that combines the predictions of multiple decision trees. Each tree in the forest is trained on a random subset of the data and features. This helps reduce the variance that can be high in a single decision tree, thus preventing overfitting."
   ]
  },
  {
   "cell_type": "markdown",
   "metadata": {},
   "source": [
    "### Random Forest Classifier"
   ]
  },
  {
   "cell_type": "code",
   "execution_count": 39,
   "metadata": {},
   "outputs": [
    {
     "name": "stdout",
     "output_type": "stream",
     "text": [
      "Train Mean Absolute Error:2.523698344376543\n",
      "Train Squared Error: 127.449652230195\n",
      "Train R-squared: 0.9999943274479243\n",
      "\n",
      "\n",
      "Val Mean Absolute Error:3.4435319168364207\n",
      "Val Squared Error: 2342.431811536008\n",
      "Val R-squared: 0.9998957367878203\n"
     ]
    }
   ],
   "source": [
    "# Random Forest Classifier Initialization\n",
    "rf = RandomForestRegressor(n_estimators=100, random_state=42)\n",
    "\n",
    "# Train the classifier\n",
    "rf.fit(X_train_processed, y_train)\n",
    "\n",
    "# Predict on the validation and train set\n",
    "y_pred_train = rf.predict(X_train_processed)\n",
    "y_pred_val = rf.predict(X_val_processed)\n",
    "\n",
    "#calculate the metrics value on train set\n",
    "mae_train = mean_absolute_error(y_train, y_pred_train)\n",
    "mse_train = mean_squared_error(y_train, y_pred_train)\n",
    "r2_train = r2_score(y_train, y_pred_train)\n",
    "\n",
    "\n",
    "#calculate the metrics value on validation set\n",
    "mae = mean_absolute_error(y_val, y_pred_val)\n",
    "mse = mean_squared_error(y_val, y_pred_val)\n",
    "r2 = r2_score(y_val, y_pred_val)\n",
    "\n",
    "print(f\"Train Mean Absolute Error:{mae_train}\")\n",
    "print(f\"Train Squared Error: {mse_train}\")\n",
    "print(f\"Train R-squared: {r2_train}\")\n",
    "print(\"\\n\")\n",
    "print(f\"Val Mean Absolute Error:{mae}\")\n",
    "print(f\"Val Squared Error: {mse}\")\n",
    "print(f\"Val R-squared: {r2}\")\n",
    "\n"
   ]
  },
  {
   "cell_type": "markdown",
   "metadata": {},
   "source": [
    "The Random Forest Regressor model shows nearly identical results to the Decision Tree model. The MAE, MSE, and R² values are extremely close between the two models suggesting that the Random Forest model has provided similar performance on the training and validation sets.\n",
    "\n",
    "Both models perform excellently but if we are aiming for even more stability or anticipate working with more complex data in the future then Random Forest will be our generally preferred model."
   ]
  },
  {
   "cell_type": "markdown",
   "metadata": {},
   "source": [
    "#### Hyperparameter Tuning The Random Forest"
   ]
  },
  {
   "cell_type": "code",
   "execution_count": null,
   "metadata": {},
   "outputs": [
    {
     "name": "stdout",
     "output_type": "stream",
     "text": [
      "Fitting 5 folds for each of 324 candidates, totalling 1620 fits\n"
     ]
    },
    {
     "name": "stderr",
     "output_type": "stream",
     "text": [
      "[Parallel(n_jobs=-1)]: Using backend LokyBackend with 4 concurrent workers.\n",
      "[Parallel(n_jobs=-1)]: Done  33 tasks      | elapsed:   35.5s\n",
      "[Parallel(n_jobs=-1)]: Done 154 tasks      | elapsed:  2.2min\n",
      "[Parallel(n_jobs=-1)]: Done 357 tasks      | elapsed:  3.2min\n",
      "[Parallel(n_jobs=-1)]: Done 640 tasks      | elapsed:  6.0min\n",
      "[Parallel(n_jobs=-1)]: Done 1005 tasks      | elapsed:  9.4min\n",
      "[Parallel(n_jobs=-1)]: Done 1450 tasks      | elapsed: 13.5min\n",
      "[Parallel(n_jobs=-1)]: Done 1620 out of 1620 | elapsed: 15.0min finished\n"
     ]
    },
    {
     "name": "stdout",
     "output_type": "stream",
     "text": [
      "Best parameters found:  {'max_depth': None, 'max_features': 'auto', 'min_samples_leaf': 1, 'min_samples_split': 2, 'n_estimators': 100}\n",
      "Training MAE: 2.523698344376543\n",
      "Training MSE: 127.449652230195\n",
      "Training R-squared: 0.9999943274479243\n",
      "-------------------\n",
      "Validation MAE: 3.4435319168364207\n",
      "Validation MSE: 2342.431811536008\n",
      "Validation R-squared: 0.9998957367878203\n"
     ]
    }
   ],
   "source": [
    "# Define parameter grid\n",
    "param_grid = {\n",
    "    'n_estimators': [100, 200, 300],\n",
    "    'max_depth': [5, 10, 15, None],\n",
    "    'min_samples_leaf': [1, 2, 5],\n",
    "    'min_samples_split': [2, 5, 10],\n",
    "    'max_features': ['auto', 'sqrt', 'log2']\n",
    "}\n",
    "\n",
    "# Initialize the model\n",
    "rf = RandomForestRegressor(random_state=42)\n",
    "\n",
    "# Set up GridSearchCV\n",
    "grid_search = GridSearchCV(estimator=rf, param_grid=param_grid, cv=5, n_jobs=-1, scoring='neg_mean_squared_error', verbose=2)\n",
    "grid_search.fit(X_train_processed, y_train)\n",
    "\n",
    "# Get the best parameters\n",
    "print(\"Best parameters found: \", grid_search.best_params_)\n",
    "\n",
    "# Use the best model found\n",
    "best_rf = grid_search.best_estimator_\n",
    "\n",
    "#Evaluate on Train Data\n",
    "y_pred_train = best_rf.predict(X_train_processed)\n",
    "train_mae = mean_absolute_error(y_train, y_pred_train)\n",
    "train_mse = mean_squared_error(y_train, y_pred_train)\n",
    "train_r2 = r2_score(y_train, y_pred_train)\n",
    "\n",
    "# Evaluate on validation set\n",
    "y_pred_val = best_rf.predict(X_val_processed)\n",
    "val_mae = mean_absolute_error(y_val, y_pred_val)\n",
    "val_mse = mean_squared_error(y_val, y_pred_val)\n",
    "val_r2 = r2_score(y_val, y_pred_val)\n",
    "\n",
    "print(f\"Training MAE: {train_mae}\")\n",
    "print(f\"Training MSE: {train_mse}\")\n",
    "print(f\"Training R-squared: {train_r2}\")\n",
    "print(\"-------------------\")\n",
    "\n",
    "print(f\"Validation MAE: {val_mae}\")\n",
    "print(f\"Validation MSE: {val_mse}\")\n",
    "print(f\"Validation R-squared: {val_r2}\")"
   ]
  },
  {
   "cell_type": "markdown",
   "metadata": {},
   "source": [
    "The hyperparameter-tuned Random Forest model is highly effective for your regression problem. It achieves:\n",
    "\n",
    "Excellent predictive performance with very high R² on both training and validation sets.\n",
    "Low prediction errors (MAE and MSE).\n",
    "Minimal signs of overfitting, as training and validation metrics are consistent.\n",
    "This indicates that Random Forest is a strong and reliable model for this dataset. You can confidently use this model for making predictions on new, unseen data\n",
    "\n",
    "\n",
    "#### Results on Test Data"
   ]
  },
  {
   "cell_type": "code",
   "execution_count": null,
   "metadata": {},
   "outputs": [
    {
     "name": "stdout",
     "output_type": "stream",
     "text": [
      "Test MAE: 2.8244645419212975\n",
      "Test MSE: 142.95858545116766\n",
      "Test R-squared: 0.9999934514755243\n"
     ]
    }
   ],
   "source": [
    "# Predict on Test data\n",
    "y_pred_test = best_rf.predict(X_test_processed)\n",
    "#Metrics on test set\n",
    "test_mae = mean_absolute_error(y_test, y_pred_test)\n",
    "test_mse= mean_squared_error(y_test, y_pred_test)\n",
    "test_r2 = r2_score(y_test, y_pred_test)\n",
    "#print the results\n",
    "print(f\"Test MAE: {test_mae}\")\n",
    "print(f\"Test MSE: {test_mse}\")\n",
    "print(f\"Test R-squared: {test_r2}\")"
   ]
  },
  {
   "cell_type": "markdown",
   "metadata": {},
   "source": [
    "Performance: The model shows outstanding predictive accuracy across all datasets (training, validation, and test).\n",
    "Generalization: There is very little discrepancy between training, validation, and test performances, confirming that the model generalizes well to new data.\n",
    "Model Choice: Random Forest is a great choice for this regression task, as it handles the complexity and the relationships between features very effectively.\n",
    "\n",
    "\n",
    "### Extreme Gradient Boost"
   ]
  },
  {
   "cell_type": "code",
   "execution_count": 40,
   "metadata": {},
   "outputs": [
    {
     "name": "stdout",
     "output_type": "stream",
     "text": [
      "Training MAE: 2.5254344075520834\n",
      "Training MSE: 127.44953522181511\n",
      "Training R-squared: 0.9999943274531321\n",
      "\n",
      "\n",
      "Validation MAE: 3.4451082356770835\n",
      "Validation MSE: 2342.4116783773898\n",
      "Validation R-squared: 0.9998957376839607\n",
      "\n",
      "\n"
     ]
    }
   ],
   "source": [
    "# Instantiate the model\n",
    "xgb_model = XGBRegressor()\n",
    "\n",
    "# Fit the model\n",
    "xgb_model.fit(X_train_processed, y_train)\n",
    "\n",
    "# Make predictions\n",
    "y_pred_train = xgb_model.predict(X_train_processed)\n",
    "y_pred_val = xgb_model.predict(X_val_processed)\n",
    "y_pred_test = xgb_model.predict(X_test_processed)\n",
    "\n",
    "# Evaluate on the training set\n",
    "train_mae = mean_absolute_error(y_train, y_pred_train)\n",
    "train_mse = mean_squared_error(y_train, y_pred_train)\n",
    "train_r2 = r2_score(y_train, y_pred_train)\n",
    "\n",
    "# Evaluate on the validation set\n",
    "val_mae = mean_absolute_error(y_val, y_pred_val)\n",
    "val_mse = mean_squared_error(y_val, y_pred_val)\n",
    "val_r2 = r2_score(y_val, y_pred_val)\n",
    "\n",
    "\n",
    "\n",
    "# Print the results\n",
    "print(f\"Training MAE: {train_mae}\")\n",
    "print(f\"Training MSE: {train_mse}\")\n",
    "print(f\"Training R-squared: {train_r2}\")\n",
    "print(\"\\n\")\n",
    "print(f\"Validation MAE: {val_mae}\")\n",
    "print(f\"Validation MSE: {val_mse}\")\n",
    "print(f\"Validation R-squared: {val_r2}\")\n",
    "print(\"\\n\")\n"
   ]
  },
  {
   "cell_type": "markdown",
   "metadata": {},
   "source": [
    "The performance on the training data is excellent, with both MAE, MSE, and R² metrics indicating that the model is fitting the data very well. However, the model's performance on the validation set is still strong, though slightly worse (higher MAE and MSE, lower R²), which is typical for machine learning models. The model is likely overfitting slightly to the training data, but the drop in performance is minimal."
   ]
  },
  {
   "cell_type": "code",
   "execution_count": 41,
   "metadata": {},
   "outputs": [
    {
     "name": "stdout",
     "output_type": "stream",
     "text": [
      "Test MAE: 2.8259236653645834\n",
      "Test MSE: 142.93306375026702\n",
      "Test R-squared: 0.9999934526446006\n"
     ]
    }
   ],
   "source": [
    "# Evaluate on the test set\n",
    "test_mae = mean_absolute_error(y_test, y_pred_test)\n",
    "test_mse = mean_squared_error(y_test, y_pred_test)\n",
    "test_r2 = r2_score(y_test, y_pred_test)\n",
    "\n",
    "print(f\"Test MAE: {test_mae}\")\n",
    "print(f\"Test MSE: {test_mse}\")\n",
    "print(f\"Test R-squared: {test_r2}\")"
   ]
  },
  {
   "cell_type": "markdown",
   "metadata": {},
   "source": [
    "Test MAE: A lower value means your model’s predictions are closer to the actual values.\n",
    "Test MSE: A lower value indicates fewer large errors in predictions.\n",
    "Test R-squared: A value close to 1 means the model is doing well at explaining the variance in the test set, while a lower value indicates the model doesn’t explain the data as well.\n",
    "\n",
    "### Gradient Boosting Regressor"
   ]
  },
  {
   "cell_type": "code",
   "execution_count": 42,
   "metadata": {},
   "outputs": [
    {
     "name": "stdout",
     "output_type": "stream",
     "text": [
      "Fitting 5 folds for each of 11 candidates, totalling 55 fits\n"
     ]
    },
    {
     "name": "stderr",
     "output_type": "stream",
     "text": [
      "[Parallel(n_jobs=-1)]: Using backend LokyBackend with 4 concurrent workers.\n",
      "[Parallel(n_jobs=-1)]: Done  42 tasks      | elapsed:  1.3min\n",
      "[Parallel(n_jobs=-1)]: Done  55 out of  55 | elapsed:  1.6min finished\n"
     ]
    },
    {
     "name": "stdout",
     "output_type": "stream",
     "text": [
      "Best Learning Rate: {'learning_rate': 1.0}\n",
      "Train Mean Absolute Error: 2.5237530872904017\n",
      "Train Squared Error: 127.44953086419753\n",
      "Train R-squared: 0.9999943274533261\n",
      "\n",
      "\n",
      "Val Mean Absolute Error: 3.4433950625957297\n",
      "Val Squared Error: 2342.412778319609\n",
      "Val R-squared: 0.9998957376350015\n"
     ]
    }
   ],
   "source": [
    "# Define a parameter grid with different learning rates to try\n",
    "param_grid = {\n",
    "    'learning_rate': [0.05, 0.1, 0.2, 0.3, 0.4, 0.5, 0.6, 0.7, 0.8, 0.9, 1.0]  # Different learning rates to try\n",
    "}\n",
    "\n",
    "# Initialize the GradientBoostingRegressor\n",
    "gbr = GradientBoostingRegressor(random_state=42)\n",
    "\n",
    "# Set up GridSearchCV with 5-fold cross-validation and Mean Squared Error as the scoring metric\n",
    "grid_search = GridSearchCV(estimator=gbr, param_grid=param_grid, \n",
    "                           cv=5, scoring='neg_mean_absolute_error', n_jobs=-1, verbose=1)\n",
    "\n",
    "# Fit the grid search on the training data\n",
    "grid_search.fit(X_train_processed, y_train)\n",
    "\n",
    "# Best hyperparameters from the grid search\n",
    "best_params = grid_search.best_params_\n",
    "print(f\"Best Learning Rate: {best_params}\")\n",
    "\n",
    "# Get the best model after grid search\n",
    "best_gbr = grid_search.best_estimator_\n",
    "\n",
    "# Predict on the train and validation set with the best model\n",
    "y_pred_train = best_gbr.predict(X_train_processed)\n",
    "y_pred_val = best_gbr.predict(X_val_processed)\n",
    "\n",
    "# Calculate MAE, MSE, and R2 score on Train Data\n",
    "train_mae = mean_absolute_error(y_train, y_pred_train)\n",
    "train_mse = mean_squared_error(y_train, y_pred_train)\n",
    "train_r2 = r2_score(y_train, y_pred_train)\n",
    "\n",
    "# Calculate MAE, MSE, and R2 score on Validation Data\n",
    "val_mae = mean_absolute_error(y_val, y_pred_val)\n",
    "val_mse = mean_squared_error(y_val, y_pred_val)\n",
    "val_r2 = r2_score(y_val, y_pred_val)\n",
    "\n",
    "# Print the results\n",
    "print(f\"Train Mean Absolute Error: {train_mae}\")\n",
    "print(f\"Train Squared Error: {train_mse}\")\n",
    "print(f\"Train R-squared: {train_r2}\")\n",
    "print(\"\\n\")\n",
    "print(f\"Val Mean Absolute Error: {val_mae}\")\n",
    "print(f\"Val Squared Error: {val_mse}\")\n",
    "print(f\"Val R-squared: {val_r2}\")"
   ]
  },
  {
   "cell_type": "markdown",
   "metadata": {},
   "source": [
    "Your model shows excellent performance on both the training and validation datasets, as indicated by the low MAE, low MSE, and high R² scores. The model performs slightly better on the training set compared to the validation set.  Despite the slight overfitting, the model still generalizes well, and the high R² for both training and validation sets shows that the model can predict new, unseen data with high accuracy."
   ]
  },
  {
   "cell_type": "code",
   "execution_count": 43,
   "metadata": {},
   "outputs": [
    {
     "name": "stdout",
     "output_type": "stream",
     "text": [
      "Test MAE: 2.8242592601169516\n",
      "Test MSE: 142.93154238755156\n",
      "Test R-squared: 0.9999934527142899\n"
     ]
    }
   ],
   "source": [
    "\n",
    "# Predict on Test data\n",
    "y_pred_test = best_gbr.predict(X_test_processed)\n",
    "#Metrics on test set\n",
    "test_mae = mean_absolute_error(y_test, y_pred_test)\n",
    "test_mse= mean_squared_error(y_test, y_pred_test)\n",
    "test_r2 = r2_score(y_test, y_pred_test)\n",
    "#print the results\n",
    "print(f\"Test MAE: {test_mae}\")\n",
    "print(f\"Test MSE: {test_mse}\")\n",
    "print(f\"Test R-squared: {test_r2}\")"
   ]
  },
  {
   "cell_type": "markdown",
   "metadata": {},
   "source": [
    ": The model is not overfitting as the results on the test set are still excellent, indicating that the model generalizes well across different data sets (training, validation, and testing)\n",
    "\n",
    "### Summary\n",
    "The Random Forest and Gradient Boosting models provided the best results in terms of predictive performance, generalization, and error minimization. Both models demonstrated strong R² values (close to 1) and low MAE, indicating that they could effectively predict the target variable with minimal error. These models are preferable when seeking robust, non-linear predictions, especially in complex datasets with multiple features.\n",
    "\n",
    "Mean Squared Error (MSE): Random Forest again has the lowest MSE (24,035.17), with Gradient Boosting and XGBoost both slightly higher at around 24,065.98. Lower MSE in Random Forest suggests it has slightly fewer large errors on the test data, though the differences are minimal.\n",
    "\n",
    "R-squared: All three models achieved virtually identical R-squared scores of 0.99889, indicating that each model explains roughly 99.89% of the variance in the test data. This very high R-squared demonstrates that all three models effectively capture the data’s trends.\n",
    "\n",
    "Conclusion While all three models perform similarly and have almost identical test metrics, Random Forest has a slight edge due to its lowest MAE and MSE. If computational efficiency is a factor, Random Forest might be preferred as it generally trains faster than boosting models. However, XGBoost and Gradient Boosting could still be considered if stability and ensemble robustness are priorities."
   ]
  },
  {
   "cell_type": "code",
   "execution_count": null,
   "metadata": {},
   "outputs": [],
   "source": []
  }
 ],
 "metadata": {
  "kernelspec": {
   "display_name": "base",
   "language": "python",
   "name": "python3"
  },
  "language_info": {
   "codemirror_mode": {
    "name": "ipython",
    "version": 3
   },
   "file_extension": ".py",
   "mimetype": "text/x-python",
   "name": "python",
   "nbconvert_exporter": "python",
   "pygments_lexer": "ipython3",
   "version": "3.8.5"
  }
 },
 "nbformat": 4,
 "nbformat_minor": 2
}
