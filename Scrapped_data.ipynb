{
 "cells": [
  {
   "cell_type": "markdown",
   "metadata": {},
   "source": [
    "### Data Scrapping"
   ]
  },
  {
   "cell_type": "code",
   "execution_count": null,
   "metadata": {},
   "outputs": [
    {
     "name": "stdout",
     "output_type": "stream",
     "text": [
      "Data scraping complete. Total products scraped: 12000\n"
     ]
    }
   ],
   "source": [
    "import requests\n",
    "from bs4 import BeautifulSoup\n",
    "import pandas as pd\n",
    "\n",
    "# URL for mobile phones\n",
    "base_url = 'https://www.jumia.co.ke/mobile-phones/#catalog-listing'\n",
    "headers = {\n",
    "    \"User-Agent\": \"Mozilla/5.0 (Windows NT 10.0; Win64; x64) AppleWebKit/537.36 (KHTML, like Gecko) Chrome/129.0.0.0 Safari/537.36\",\n",
    "    \"Accept-Language\": \"en-GB,en-US;q=0.9,en;q=0.8\"\n",
    "}\n",
    "\n",
    "# Create an empty list to store the products\n",
    "all_products = []\n",
    "\n",
    "# Set the maximum number of pages to scrape based on the number of items found\n",
    "max_pages = 300 \n",
    "\n",
    "# Iterate through pages\n",
    "for page in range(1, max_pages + 1):\n",
    "    # Jumia's URL\n",
    "    next_url = f\"https://www.jumia.co.ke/mobile-phones/#catalog-listing?page={page}\"\n",
    "\n",
    "    # Send a GET request\n",
    "    response = requests.get(next_url, headers=headers)\n",
    "\n",
    "    # Check if the request was successful\n",
    "    if response.status_code == 200:\n",
    "        soup = BeautifulSoup(response.text, \"html.parser\")\n",
    "\n",
    "        # Find all product containers\n",
    "        products = soup.find_all(\"div\", class_=\"info\")\n",
    "\n",
    "        # Check if products were found\n",
    "        if not products:\n",
    "            print(f\"No products found on page {page}.\")\n",
    "            break  # Exit if no products are found\n",
    "\n",
    "        # Extract product details\n",
    "        for index, product in enumerate(products):\n",
    "            name = product.find(\"h3\", class_=\"name\").get_text(strip=True)\n",
    "            price = product.find(\"div\", class_=\"prc\").get_text(strip=True)\n",
    "            old_price = product.find(\"div\", class_=\"old\")\n",
    "            discount = product.find(\"div\", class_=\"bdg _dsct _sm\")\n",
    "            rating = product.find(\"div\", class_=\"stars _s\")\n",
    "            reviews = product.find(\"div\", class_=\"rev\")\n",
    "\n",
    "            # Extract text and set as None if not available\n",
    "            old_price = old_price.get_text(strip=True) if old_price else None\n",
    "            discount = discount.get_text(strip=True) if discount else None\n",
    "            rating = rating.get_text(strip=True) if rating else None\n",
    "            num_reviews = reviews.get_text(strip=True) if reviews else None\n",
    "\n",
    "            # Search ranking (based on order on page and page number)\n",
    "            search_ranking = f\"Page {page}, Rank {index + 1}\"  # Adjust index for 1-based ranking\n",
    "\n",
    "            # Store the product details in a dictionary\n",
    "            product_info = {\n",
    "                \"Name\": name,\n",
    "                \"Price\": price,\n",
    "                \"Old Price\": old_price,\n",
    "                \"Discount\": discount,\n",
    "                \"Rating\": rating,\n",
    "                \"Number of Reviews\": num_reviews,\n",
    "                \"Search Ranking\": search_ranking\n",
    "            }\n",
    "\n",
    "            # Append the product info to the list\n",
    "            all_products.append(product_info)\n",
    "    else:\n",
    "        print(f\"Failed to retrieve page {page}: {response.status_code}\")\n",
    "        break  # Exit if a page cannot be found\n",
    "\n",
    "# Create a DataFrame from the scraped data\n",
    "df = pd.DataFrame(all_products)\n",
    "\n",
    "# Save the DataFrame to a CSV file jumia phones\n",
    "df.to_csv(\"jumia_phones.csv\", index=False)\n",
    "\n",
    "print(\"Data scraping complete. Total products scraped:\", len(df))\n"
   ]
  }
 ],
 "metadata": {
  "kernelspec": {
   "display_name": "learn-env",
   "language": "python",
   "name": "python3"
  },
  "language_info": {
   "codemirror_mode": {
    "name": "ipython",
    "version": 3
   },
   "file_extension": ".py",
   "mimetype": "text/x-python",
   "name": "python",
   "nbconvert_exporter": "python",
   "pygments_lexer": "ipython3",
   "version": "3.8.5"
  }
 },
 "nbformat": 4,
 "nbformat_minor": 2
}
