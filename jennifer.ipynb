{
 "cells": [
  {
   "cell_type": "markdown",
   "metadata": {},
   "source": [
    "# Jumia Phone Price Prediction"
   ]
  },
  {
   "cell_type": "markdown",
   "metadata": {},
   "source": [
    "## Business Understanding\n",
    " Retailers on Jumia's e-commerce platform face challenges in determining optimal pricing due to the competitive nature of the marketplace with over 100,000 of them and the time-consuming process of evaluating other competitor prices. Jumia has tasked us to analyze the phone catalog data and develop a predictive model that provides data-driven insights, enabling sellers to set competitive prices and maximize profitability effectively ahead of the November black Friday Big Sale.This model is expected to reduce the stress that retailers/sellers have to go through to determins the optimal average price of the product they intend to list on the platform.\n",
    " \n",
    " The objective of our project is as outlined below:\n",
    "* Identify factors contributing to higher product visibility and marketability on Jumia’s first top pages.\n",
    "* Explore the relationship between phone features and customer reviews.\n",
    "* Develop a predictive model to recommend competitive, optimal pricing that promotes first-page placement.\n",
    "* Assess the potential relationship between buyer ratings and product pricing.\n",
    "\n"
   ]
  },
  {
   "cell_type": "markdown",
   "metadata": {},
   "source": [
    "## Data Understanding\n",
    "The data we used was scrapped on 31st October 2024 from the Jumia Kenya e-commerce platform specifically under the smartphones category and sorted by popularity from the 1at to the last page. This gave us 12,000 listed devices. The python code used to scrape the data has been stored on a separate file **scrapped_data.ipynb** The packages used included the Beautiful Soup and Pandas. We saved the data in the csv format on our local machine as jumia_phones.csv that contains the below features respectively outlines:\n",
    "\n",
    "**Name** This describes the brand and the feature of the phone.\n",
    "\n",
    "**Price** This describes the current price the phone retails at.\n",
    "\n",
    "**Old Price** This describes the previous price of the phone.\n",
    "\n",
    "**Discount** The % discount calculated\n",
    "\n",
    "**Rating** The buyers explicit rating of the product and service.\n",
    "\n",
    "**Number of Reviews** The number of reviews from possible buyers.\n",
    "\n",
    "**Search Ranking** The page and position of the product in terms of listing and popularity.\n",
    "\n",
    " The Name column contains unstructured text, combining brand names and product specifications (e.g., “Samsung Galaxy A12, 5000mAh, 128GB ROM, 6GB RAM”). To transform these into separate, structured attributes, we shall use Regex as it allows for consistent pattern matching, enabling the extraction of information such as battery capacity (e.g., numbers followed by \"mAh\") and storage (e.g., \"GB\" or \"MB\"), making data more structured and accessible for analysis.\n",
    "\n",
    "Data Limitation:\n",
    "\n",
    "* Dynamic Pricing: Prices on e-commerce platforms fluctuate frequently. Therefore, the scraped prices reflect only the prices at the time of scraping and may not represent current or future values.\n",
    "\n",
    "* Incomplete or Inconsistent Data: Due to the variety of phone models and brands, some listings may lack uniform information (e.g., missing battery details or memory specifications), which could lead to variability in the parsed features.\n",
    "\n",
    "* Unverified Ratings and Reviews: Ratings and reviews might be biased or manipulated, affecting any insights or model predictions derived from them.\n",
    "\n",
    "* Potential Duplicate Listings: Duplicate or near-duplicate entries may exist if the same model is listed by multiple sellers, which could influence popularity and ranking statistics.\n",
    "\n",
    "\n"
   ]
  },
  {
   "cell_type": "markdown",
   "metadata": {},
   "source": [
    "### Import Relevant Libraries"
   ]
  },
  {
   "cell_type": "code",
   "execution_count": 42,
   "metadata": {},
   "outputs": [],
   "source": [
    "# Import libraries for inspecting, loading, cleaning and visualizing data\n",
    "import pandas as pd\n",
    "import numpy as np\n",
    "#Visualization \n",
    "import matplotlib.pyplot as plt\n",
    "import seaborn as sns\n",
    "%matplotlib inline\n",
    "#regular expression\n",
    "import re"
   ]
  },
  {
   "cell_type": "markdown",
   "metadata": {},
   "source": [
    "## Data Preparation\n"
   ]
  },
  {
   "cell_type": "markdown",
   "metadata": {},
   "source": [
    "### 1. Loading and Inspecting Data\n",
    "Here we shall load the data using the pandas library imported.\n",
    "\n",
    "Thereafter we shall inspect our files using the pandas attributes and methods."
   ]
  },
  {
   "cell_type": "code",
   "execution_count": 43,
   "metadata": {},
   "outputs": [
    {
     "data": {
      "text/html": [
       "<div>\n",
       "<style scoped>\n",
       "    .dataframe tbody tr th:only-of-type {\n",
       "        vertical-align: middle;\n",
       "    }\n",
       "\n",
       "    .dataframe tbody tr th {\n",
       "        vertical-align: top;\n",
       "    }\n",
       "\n",
       "    .dataframe thead th {\n",
       "        text-align: right;\n",
       "    }\n",
       "</style>\n",
       "<table border=\"1\" class=\"dataframe\">\n",
       "  <thead>\n",
       "    <tr style=\"text-align: right;\">\n",
       "      <th></th>\n",
       "      <th>Name</th>\n",
       "      <th>Price</th>\n",
       "      <th>Old Price</th>\n",
       "      <th>Discount</th>\n",
       "      <th>Rating</th>\n",
       "      <th>Number of Reviews</th>\n",
       "      <th>Search Ranking</th>\n",
       "    </tr>\n",
       "  </thead>\n",
       "  <tbody>\n",
       "    <tr>\n",
       "      <th>0</th>\n",
       "      <td>XIAOMI Redmi A3, 6.71\", 3GB RAM + 64GB (Dual S...</td>\n",
       "      <td>KSh 11,000</td>\n",
       "      <td>NaN</td>\n",
       "      <td>NaN</td>\n",
       "      <td>4.1 out of 5</td>\n",
       "      <td>4.1 out of 5(220)</td>\n",
       "      <td>Page 1, Rank 1</td>\n",
       "    </tr>\n",
       "    <tr>\n",
       "      <th>1</th>\n",
       "      <td>Tecno Spark 20, Android 13, 6.6\", 128GB + 4GB ...</td>\n",
       "      <td>KSh 12,925</td>\n",
       "      <td>KSh 15,000</td>\n",
       "      <td>14%</td>\n",
       "      <td>4.4 out of 5</td>\n",
       "      <td>4.4 out of 5(135)</td>\n",
       "      <td>Page 1, Rank 2</td>\n",
       "    </tr>\n",
       "    <tr>\n",
       "      <th>2</th>\n",
       "      <td>Itel S23 6.6\", 128GB + 4GB RAM, 50MP Camera, (...</td>\n",
       "      <td>KSh 10,000</td>\n",
       "      <td>NaN</td>\n",
       "      <td>NaN</td>\n",
       "      <td>4.2 out of 5</td>\n",
       "      <td>4.2 out of 5(151)</td>\n",
       "      <td>Page 1, Rank 3</td>\n",
       "    </tr>\n",
       "    <tr>\n",
       "      <th>3</th>\n",
       "      <td>Samsung Galaxy A05, 6.7'' 4GB RAM + 128GB ROM ...</td>\n",
       "      <td>KSh 14,000</td>\n",
       "      <td>NaN</td>\n",
       "      <td>NaN</td>\n",
       "      <td>4.5 out of 5</td>\n",
       "      <td>4.5 out of 5(29)</td>\n",
       "      <td>Page 1, Rank 4</td>\n",
       "    </tr>\n",
       "    <tr>\n",
       "      <th>4</th>\n",
       "      <td>Itel S23 6.6\", 128GB + 4GB RAM, 50MP Camera, (...</td>\n",
       "      <td>KSh 10,000</td>\n",
       "      <td>NaN</td>\n",
       "      <td>NaN</td>\n",
       "      <td>4.3 out of 5</td>\n",
       "      <td>4.3 out of 5(249)</td>\n",
       "      <td>Page 1, Rank 5</td>\n",
       "    </tr>\n",
       "  </tbody>\n",
       "</table>\n",
       "</div>"
      ],
      "text/plain": [
       "                                                Name       Price   Old Price  \\\n",
       "0  XIAOMI Redmi A3, 6.71\", 3GB RAM + 64GB (Dual S...  KSh 11,000         NaN   \n",
       "1  Tecno Spark 20, Android 13, 6.6\", 128GB + 4GB ...  KSh 12,925  KSh 15,000   \n",
       "2  Itel S23 6.6\", 128GB + 4GB RAM, 50MP Camera, (...  KSh 10,000         NaN   \n",
       "3  Samsung Galaxy A05, 6.7'' 4GB RAM + 128GB ROM ...  KSh 14,000         NaN   \n",
       "4  Itel S23 6.6\", 128GB + 4GB RAM, 50MP Camera, (...  KSh 10,000         NaN   \n",
       "\n",
       "  Discount        Rating  Number of Reviews  Search Ranking  \n",
       "0      NaN  4.1 out of 5  4.1 out of 5(220)  Page 1, Rank 1  \n",
       "1      14%  4.4 out of 5  4.4 out of 5(135)  Page 1, Rank 2  \n",
       "2      NaN  4.2 out of 5  4.2 out of 5(151)  Page 1, Rank 3  \n",
       "3      NaN  4.5 out of 5   4.5 out of 5(29)  Page 1, Rank 4  \n",
       "4      NaN  4.3 out of 5  4.3 out of 5(249)  Page 1, Rank 5  "
      ]
     },
     "execution_count": 43,
     "metadata": {},
     "output_type": "execute_result"
    }
   ],
   "source": [
    "# load the two datasets\n",
    "phone_df = pd.read_csv('jumia_phones.csv')\n",
    "#View the first 5 rows of the phone_pricing df\n",
    "phone_df.head()"
   ]
  },
  {
   "cell_type": "code",
   "execution_count": 44,
   "metadata": {},
   "outputs": [
    {
     "data": {
      "text/plain": [
       "Index(['Name', 'Price', 'Old Price', 'Discount', 'Rating', 'Number of Reviews',\n",
       "       'Search Ranking'],\n",
       "      dtype='object')"
      ]
     },
     "execution_count": 44,
     "metadata": {},
     "output_type": "execute_result"
    }
   ],
   "source": [
    "#To see the column names\n",
    "phone_df.columns"
   ]
  },
  {
   "cell_type": "code",
   "execution_count": 45,
   "metadata": {},
   "outputs": [
    {
     "data": {
      "text/plain": [
       "(12000, 7)"
      ]
     },
     "execution_count": 45,
     "metadata": {},
     "output_type": "execute_result"
    }
   ],
   "source": [
    "#To inspect the size of the df\n",
    "phone_df.shape"
   ]
  },
  {
   "cell_type": "code",
   "execution_count": 46,
   "metadata": {},
   "outputs": [
    {
     "name": "stdout",
     "output_type": "stream",
     "text": [
      "<class 'pandas.core.frame.DataFrame'>\n",
      "RangeIndex: 12000 entries, 0 to 11999\n",
      "Data columns (total 7 columns):\n",
      " #   Column             Non-Null Count  Dtype \n",
      "---  ------             --------------  ----- \n",
      " 0   Name               12000 non-null  object\n",
      " 1   Price              12000 non-null  object\n",
      " 2   Old Price          8101 non-null   object\n",
      " 3   Discount           8101 non-null   object\n",
      " 4   Rating             11700 non-null  object\n",
      " 5   Number of Reviews  11700 non-null  object\n",
      " 6   Search Ranking     12000 non-null  object\n",
      "dtypes: object(7)\n",
      "memory usage: 656.4+ KB\n"
     ]
    }
   ],
   "source": [
    "#To inspect the detailed information of the dataset \n",
    "phone_df.info()"
   ]
  },
  {
   "cell_type": "code",
   "execution_count": 47,
   "metadata": {},
   "outputs": [
    {
     "data": {
      "text/html": [
       "<div>\n",
       "<style scoped>\n",
       "    .dataframe tbody tr th:only-of-type {\n",
       "        vertical-align: middle;\n",
       "    }\n",
       "\n",
       "    .dataframe tbody tr th {\n",
       "        vertical-align: top;\n",
       "    }\n",
       "\n",
       "    .dataframe thead th {\n",
       "        text-align: right;\n",
       "    }\n",
       "</style>\n",
       "<table border=\"1\" class=\"dataframe\">\n",
       "  <thead>\n",
       "    <tr style=\"text-align: right;\">\n",
       "      <th></th>\n",
       "      <th>Name</th>\n",
       "      <th>Price</th>\n",
       "      <th>Old Price</th>\n",
       "      <th>Discount</th>\n",
       "      <th>Rating</th>\n",
       "      <th>Number of Reviews</th>\n",
       "      <th>Search Ranking</th>\n",
       "    </tr>\n",
       "  </thead>\n",
       "  <tbody>\n",
       "    <tr>\n",
       "      <th>count</th>\n",
       "      <td>12000</td>\n",
       "      <td>12000</td>\n",
       "      <td>8101</td>\n",
       "      <td>8101</td>\n",
       "      <td>11700</td>\n",
       "      <td>11700</td>\n",
       "      <td>12000</td>\n",
       "    </tr>\n",
       "    <tr>\n",
       "      <th>unique</th>\n",
       "      <td>40</td>\n",
       "      <td>34</td>\n",
       "      <td>19</td>\n",
       "      <td>22</td>\n",
       "      <td>12</td>\n",
       "      <td>38</td>\n",
       "      <td>12000</td>\n",
       "    </tr>\n",
       "    <tr>\n",
       "      <th>top</th>\n",
       "      <td>Itel A18 5.0\", 32GB + 1GB RAM, 2400mAh - Lime ...</td>\n",
       "      <td>KSh 10,000</td>\n",
       "      <td>KSh 29,999</td>\n",
       "      <td>45%</td>\n",
       "      <td>4.3 out of 5</td>\n",
       "      <td>4.6 out of 5(9)</td>\n",
       "      <td>Page 166, Rank 4</td>\n",
       "    </tr>\n",
       "    <tr>\n",
       "      <th>freq</th>\n",
       "      <td>300</td>\n",
       "      <td>1500</td>\n",
       "      <td>1200</td>\n",
       "      <td>900</td>\n",
       "      <td>1800</td>\n",
       "      <td>600</td>\n",
       "      <td>1</td>\n",
       "    </tr>\n",
       "  </tbody>\n",
       "</table>\n",
       "</div>"
      ],
      "text/plain": [
       "                                                     Name       Price  \\\n",
       "count                                               12000       12000   \n",
       "unique                                                 40          34   \n",
       "top     Itel A18 5.0\", 32GB + 1GB RAM, 2400mAh - Lime ...  KSh 10,000   \n",
       "freq                                                  300        1500   \n",
       "\n",
       "         Old Price Discount        Rating Number of Reviews    Search Ranking  \n",
       "count         8101     8101         11700             11700             12000  \n",
       "unique          19       22            12                38             12000  \n",
       "top     KSh 29,999      45%  4.3 out of 5   4.6 out of 5(9)  Page 166, Rank 4  \n",
       "freq          1200      900          1800               600                 1  "
      ]
     },
     "execution_count": 47,
     "metadata": {},
     "output_type": "execute_result"
    }
   ],
   "source": [
    "phone_df.describe()"
   ]
  },
  {
   "cell_type": "markdown",
   "metadata": {},
   "source": [
    "Summary Findings From Data Loading and Inspection:\n",
    "\n",
    "* We have 7 columns in our DataFrame tagged 'Name', 'Price', 'Old Price', 'Discount', 'Rating', 'Number of Reviews' and 'Search Ranking'\n",
    "\n",
    "* Our Dataset has 120,000 rows indicating 120,000 phones listed.\n",
    "\n",
    "* All the columns are in the datatype object.\n",
    "\n",
    "* We have 40 unique products signifying that one phone brand has multiple listing, 34 unique prices indicate price variations, likely due to discounts or seller pricing strategies, 19 unique old prices suggest that some products have similar prices,  22 unique discount percentages point to varying discount rates across products, 12 unique ratings indicate that products have received different levels of customer feedback, 38 unique values in the number of reviews column suggest variability in how many reviews each product has received and 12,000 unique values imply that each product has a unique search ranking based on its page position.\n",
    "\n",
    "* The most frequently listed product is the \"Samsung GALAXY A15,\" which indicates its popularity among sellers or consumers, KSh 10,000 is the most common price, suggesting that many products are priced around this figure. The most common old price is KSh 29,999, indicating that many products have been discounted from this price.\n",
    "The most common discount of 45% suggests aggressive pricing strategies to attract buyers, The most common rating is 4.3 out of 5, indicating a generally positive perception of the products, 4.6 out of 5 from 9 reviews is the top rating, showing strong customer satisfaction for that specific product.\n",
    "The top search ranking is \"Page 21, Rank 35,\" suggesting the ranking method is working as intended, with many products on the site.\n"
   ]
  },
  {
   "cell_type": "markdown",
   "metadata": {},
   "source": [
    "### 3. Feature Splitting\n",
    "Here we intend to split the name column into several features containing"
   ]
  },
  {
   "cell_type": "code",
   "execution_count": 48,
   "metadata": {},
   "outputs": [
    {
     "data": {
      "text/html": [
       "<div>\n",
       "<style scoped>\n",
       "    .dataframe tbody tr th:only-of-type {\n",
       "        vertical-align: middle;\n",
       "    }\n",
       "\n",
       "    .dataframe tbody tr th {\n",
       "        vertical-align: top;\n",
       "    }\n",
       "\n",
       "    .dataframe thead th {\n",
       "        text-align: right;\n",
       "    }\n",
       "</style>\n",
       "<table border=\"1\" class=\"dataframe\">\n",
       "  <thead>\n",
       "    <tr style=\"text-align: right;\">\n",
       "      <th></th>\n",
       "      <th>brand</th>\n",
       "    </tr>\n",
       "  </thead>\n",
       "  <tbody>\n",
       "    <tr>\n",
       "      <th>0</th>\n",
       "      <td>XIAOMI Redmi A3</td>\n",
       "    </tr>\n",
       "    <tr>\n",
       "      <th>1</th>\n",
       "      <td>Tecno Spark 20</td>\n",
       "    </tr>\n",
       "    <tr>\n",
       "      <th>2</th>\n",
       "      <td>Itel S23</td>\n",
       "    </tr>\n",
       "    <tr>\n",
       "      <th>3</th>\n",
       "      <td>Samsung Galaxy A05</td>\n",
       "    </tr>\n",
       "    <tr>\n",
       "      <th>4</th>\n",
       "      <td>Itel S23</td>\n",
       "    </tr>\n",
       "  </tbody>\n",
       "</table>\n",
       "</div>"
      ],
      "text/plain": [
       "                brand\n",
       "0     XIAOMI Redmi A3\n",
       "1      Tecno Spark 20\n",
       "2            Itel S23\n",
       "3  Samsung Galaxy A05\n",
       "4            Itel S23"
      ]
     },
     "execution_count": 48,
     "metadata": {},
     "output_type": "execute_result"
    }
   ],
   "source": [
    "# Define regex pattern to extract brand\n",
    "pattern = r\"\"\"\n",
    "    (?P<brand>[\\w\\s]+)(?=,\\s|\\s|$)  # Brand can include words and spaces, followed by a comma or space\n",
    "\"\"\"\n",
    "\n",
    "# Compile the regex with verbose mode for readability\n",
    "pattern_brand = re.compile(pattern, re.VERBOSE | re.IGNORECASE)\n",
    "\n",
    "# Function to extract features\n",
    "def extract_features(name):\n",
    "    match = pattern_brand.search(name)\n",
    "    if match:\n",
    "        return match.groupdict()\n",
    "    else:\n",
    "        return {\n",
    "            'brand': None,\n",
    "        }\n",
    "\n",
    "# Apply the function to each entry in the 'Name' column\n",
    "brand_df = phone_df['Name'].apply(extract_features).apply(pd.Series)\n",
    "\n",
    "# Display the resulting DataFrame\n",
    "brand_df.head()  "
   ]
  },
  {
   "cell_type": "code",
   "execution_count": 49,
   "metadata": {},
   "outputs": [
    {
     "data": {
      "text/html": [
       "<div>\n",
       "<style scoped>\n",
       "    .dataframe tbody tr th:only-of-type {\n",
       "        vertical-align: middle;\n",
       "    }\n",
       "\n",
       "    .dataframe tbody tr th {\n",
       "        vertical-align: top;\n",
       "    }\n",
       "\n",
       "    .dataframe thead th {\n",
       "        text-align: right;\n",
       "    }\n",
       "</style>\n",
       "<table border=\"1\" class=\"dataframe\">\n",
       "  <thead>\n",
       "    <tr style=\"text-align: right;\">\n",
       "      <th></th>\n",
       "      <th>screen_size</th>\n",
       "    </tr>\n",
       "  </thead>\n",
       "  <tbody>\n",
       "    <tr>\n",
       "      <th>0</th>\n",
       "      <td>6.71\"</td>\n",
       "    </tr>\n",
       "    <tr>\n",
       "      <th>1</th>\n",
       "      <td>6.6\"</td>\n",
       "    </tr>\n",
       "    <tr>\n",
       "      <th>2</th>\n",
       "      <td>6.6\"</td>\n",
       "    </tr>\n",
       "    <tr>\n",
       "      <th>3</th>\n",
       "      <td>6.7''</td>\n",
       "    </tr>\n",
       "    <tr>\n",
       "      <th>4</th>\n",
       "      <td>6.6\"</td>\n",
       "    </tr>\n",
       "  </tbody>\n",
       "</table>\n",
       "</div>"
      ],
      "text/plain": [
       "  screen_size\n",
       "0       6.71\"\n",
       "1        6.6\"\n",
       "2        6.6\"\n",
       "3       6.7''\n",
       "4        6.6\""
      ]
     },
     "execution_count": 49,
     "metadata": {},
     "output_type": "execute_result"
    }
   ],
   "source": [
    "# Define regex pattern to extract screen size\n",
    "screen_size_pattern = r\"\"\"\n",
    "    (?P<screen_size>\\d+(\\.\\d+)?['\\\"]{1,2})  # Matches numbers with optional decimal followed by \" or '\n",
    "\"\"\"\n",
    "# Compile the regex with verbose mode for readability\n",
    "pattern_size = re.compile(screen_size_pattern, re.VERBOSE | re.IGNORECASE)\n",
    "\n",
    "# Function to extract features\n",
    "def extract_features(name):\n",
    "    match = pattern_size.search(name)  # Use pattern_size instead of pattern_size_compiled\n",
    "    if match:\n",
    "        return match.groupdict()\n",
    "    else:\n",
    "        return {\n",
    "            'screen_size': None,\n",
    "        }\n",
    "\n",
    "# Apply the function to each entry in the 'Name' column\n",
    "size_df = phone_df['Name'].apply(extract_features).apply(pd.Series)\n",
    "\n",
    "# Display the resulting DataFrame\n",
    "size_df.head()"
   ]
  },
  {
   "cell_type": "code",
   "execution_count": 50,
   "metadata": {},
   "outputs": [
    {
     "data": {
      "text/html": [
       "<div>\n",
       "<style scoped>\n",
       "    .dataframe tbody tr th:only-of-type {\n",
       "        vertical-align: middle;\n",
       "    }\n",
       "\n",
       "    .dataframe tbody tr th {\n",
       "        vertical-align: top;\n",
       "    }\n",
       "\n",
       "    .dataframe thead th {\n",
       "        text-align: right;\n",
       "    }\n",
       "</style>\n",
       "<table border=\"1\" class=\"dataframe\">\n",
       "  <thead>\n",
       "    <tr style=\"text-align: right;\">\n",
       "      <th></th>\n",
       "      <th>RAM</th>\n",
       "    </tr>\n",
       "  </thead>\n",
       "  <tbody>\n",
       "    <tr>\n",
       "      <th>0</th>\n",
       "      <td>3GB</td>\n",
       "    </tr>\n",
       "    <tr>\n",
       "      <th>1</th>\n",
       "      <td>4GB</td>\n",
       "    </tr>\n",
       "    <tr>\n",
       "      <th>2</th>\n",
       "      <td>4GB</td>\n",
       "    </tr>\n",
       "    <tr>\n",
       "      <th>3</th>\n",
       "      <td>4GB</td>\n",
       "    </tr>\n",
       "    <tr>\n",
       "      <th>4</th>\n",
       "      <td>4GB</td>\n",
       "    </tr>\n",
       "  </tbody>\n",
       "</table>\n",
       "</div>"
      ],
      "text/plain": [
       "   RAM\n",
       "0  3GB\n",
       "1  4GB\n",
       "2  4GB\n",
       "3  4GB\n",
       "4  4GB"
      ]
     },
     "execution_count": 50,
     "metadata": {},
     "output_type": "execute_result"
    }
   ],
   "source": [
    "# Define regex pattern to extract RAM without requiring whitespace\n",
    "ram_pattern = r\"\"\"\n",
    "    \\b(?P<RAM>\\d\\s?GB)\\b  # Matches a single digit followed by optional whitespace and then \"GB\"\n",
    "\"\"\"\n",
    "\n",
    "# Compile the regex with verbose mode for readability\n",
    "pattern_ram = re.compile(ram_pattern, re.VERBOSE | re.IGNORECASE)\n",
    "\n",
    "# Function to extract RAM\n",
    "def extract_ram(name):\n",
    "    match = pattern_ram.search(name)\n",
    "    if match:\n",
    "        return match.groupdict()\n",
    "    else:\n",
    "        return {\n",
    "            'RAM': None,\n",
    "        }\n",
    "# Apply the function to each entry in the 'Name' column\n",
    "ram_df = phone_df['Name'].apply(extract_ram).apply(pd.Series)\n",
    "\n",
    "# Display the resulting DataFrame\n",
    "ram_df.head()"
   ]
  },
  {
   "cell_type": "code",
   "execution_count": 51,
   "metadata": {},
   "outputs": [
    {
     "name": "stdout",
     "output_type": "stream",
     "text": [
      "     ROM\n",
      "0   64GB\n",
      "1  128GB\n",
      "2  128GB\n",
      "3  128GB\n",
      "4  128GB\n"
     ]
    }
   ],
   "source": [
    "# Define regex pattern to extract ROM\n",
    "rom_pattern = r\"\"\"\n",
    "    \\b(?P<ROM>\\d{2,}\\s?GB)\\b  # Matches two or more digits followed by optional whitespace and then \"GB\"\n",
    "\"\"\"\n",
    "\n",
    "# Compile the regex with verbose mode for readability\n",
    "pattern_rom = re.compile(rom_pattern, re.VERBOSE | re.IGNORECASE)\n",
    "\n",
    "# Function to extract ROM\n",
    "def extract_rom(name):\n",
    "    match = pattern_rom.search(name)\n",
    "    if match:\n",
    "        return match.groupdict()\n",
    "    else:\n",
    "        return {\n",
    "            'ROM': None,\n",
    "        }\n",
    "# Apply the function to each entry in the 'Name' column\n",
    "rom_df = phone_df['Name'].apply(extract_rom).apply(pd.Series)\n",
    "\n",
    "# Display the resulting DataFrame\n",
    "print(rom_df.head())"
   ]
  },
  {
   "cell_type": "code",
   "execution_count": 61,
   "metadata": {},
   "outputs": [
    {
     "data": {
      "text/html": [
       "<div>\n",
       "<style scoped>\n",
       "    .dataframe tbody tr th:only-of-type {\n",
       "        vertical-align: middle;\n",
       "    }\n",
       "\n",
       "    .dataframe tbody tr th {\n",
       "        vertical-align: top;\n",
       "    }\n",
       "\n",
       "    .dataframe thead th {\n",
       "        text-align: right;\n",
       "    }\n",
       "</style>\n",
       "<table border=\"1\" class=\"dataframe\">\n",
       "  <thead>\n",
       "    <tr style=\"text-align: right;\">\n",
       "      <th></th>\n",
       "      <th>Color</th>\n",
       "    </tr>\n",
       "  </thead>\n",
       "  <tbody>\n",
       "    <tr>\n",
       "      <th>0</th>\n",
       "      <td>Midnight Black</td>\n",
       "    </tr>\n",
       "    <tr>\n",
       "      <th>1</th>\n",
       "      <td>Gravity Black</td>\n",
       "    </tr>\n",
       "    <tr>\n",
       "      <th>2</th>\n",
       "      <td>Mystery White</td>\n",
       "    </tr>\n",
       "    <tr>\n",
       "      <th>3</th>\n",
       "      <td>Black</td>\n",
       "    </tr>\n",
       "    <tr>\n",
       "      <th>4</th>\n",
       "      <td>Starry Black</td>\n",
       "    </tr>\n",
       "  </tbody>\n",
       "</table>\n",
       "</div>"
      ],
      "text/plain": [
       "            Color\n",
       "0  Midnight Black\n",
       "1   Gravity Black\n",
       "2   Mystery White\n",
       "3           Black\n",
       "4    Starry Black"
      ]
     },
     "execution_count": 61,
     "metadata": {},
     "output_type": "execute_result"
    }
   ],
   "source": [
    "# Define regex pattern to extract Color\n",
    "color_pattern = r\"\"\"\n",
    "    [,-]\\s*                               # Matches a comma or hyphen followed by optional whitespace\n",
    "    (?P<Color>([A-Z][a-z]+(?:\\s[A-Z][a-z]+)*))  # Matches one or two capitalized words (color names)\n",
    "    \\s*(?:\\+.*)?                          # Matches any additional text (like + Smart Watch & Buds)\n",
    "    (?=\\s*\\(|$)                           # Lookahead for an open parenthesis or end of string\n",
    "\"\"\"\n",
    "\n",
    "# Compile the regex with verbose mode for readability\n",
    "pattern_color = re.compile(color_pattern, re.VERBOSE)\n",
    "\n",
    "# Function to extract Color\n",
    "def extract_color(name):\n",
    "    match = pattern_color.search(name)  # Search for the pattern\n",
    "    if match:\n",
    "        return {\n",
    "            'Color': match.group('Color').strip(),  # Return the extracted color\n",
    "        }\n",
    "    return {\n",
    "        'Color': None,\n",
    "    }\n",
    "\n",
    "# Apply the function to each entry in the 'Name' column\n",
    "color_df = phone_df['Name'].apply(extract_color).apply(pd.Series)\n",
    "# Display the resulting DataFrame\n",
    "color_df.head()"
   ]
  },
  {
   "cell_type": "code",
   "execution_count": 67,
   "metadata": {},
   "outputs": [
    {
     "data": {
      "text/plain": [
       "0       2\n",
       "1       1\n",
       "2       1\n",
       "3    None\n",
       "4    None\n",
       "Name: Name, dtype: object"
      ]
     },
     "execution_count": 67,
     "metadata": {},
     "output_type": "execute_result"
    }
   ],
   "source": [
    "# Define regex pattern for extracting Warranty\n",
    "warranty_pattern = r\"(\\d+)\\s*(?:YR|WRTY)\"\n",
    "\n",
    "# Function to extract Warranty\n",
    "def extract_warranty(name):\n",
    "    # Find warranty\n",
    "    warranty_match = re.search(warranty_pattern, name)\n",
    "    return warranty_match.group(1) if warranty_match else None\n",
    "\n",
    "# Apply the function to each entry in the 'Name' column\n",
    "warranty_df = phone_df['Name'].apply(extract_warranty)\n",
    "\n",
    "# Display the resulting DataFrame\n",
    "warranty_df.head()"
   ]
  },
  {
   "cell_type": "markdown",
   "metadata": {},
   "source": [
    "Now lets combine these feature split series into a dataframe and concat to the rest of the columns"
   ]
  },
  {
   "cell_type": "code",
   "execution_count": null,
   "metadata": {},
   "outputs": [],
   "source": []
  },
  {
   "cell_type": "markdown",
   "metadata": {},
   "source": [
    "## Modeling"
   ]
  },
  {
   "cell_type": "code",
   "execution_count": null,
   "metadata": {},
   "outputs": [],
   "source": []
  },
  {
   "cell_type": "code",
   "execution_count": null,
   "metadata": {},
   "outputs": [],
   "source": []
  },
  {
   "cell_type": "markdown",
   "metadata": {},
   "source": [
    "## Evaluation"
   ]
  },
  {
   "cell_type": "code",
   "execution_count": null,
   "metadata": {},
   "outputs": [],
   "source": []
  },
  {
   "cell_type": "code",
   "execution_count": null,
   "metadata": {},
   "outputs": [],
   "source": []
  },
  {
   "cell_type": "markdown",
   "metadata": {},
   "source": [
    "## Deployment"
   ]
  },
  {
   "cell_type": "code",
   "execution_count": null,
   "metadata": {},
   "outputs": [],
   "source": []
  },
  {
   "cell_type": "code",
   "execution_count": null,
   "metadata": {},
   "outputs": [],
   "source": []
  },
  {
   "cell_type": "markdown",
   "metadata": {},
   "source": [
    "## Conclusions & Recommendations"
   ]
  },
  {
   "cell_type": "markdown",
   "metadata": {},
   "source": []
  }
 ],
 "metadata": {
  "kernelspec": {
   "display_name": "learn-env",
   "language": "python",
   "name": "python3"
  },
  "language_info": {
   "codemirror_mode": {
    "name": "ipython",
    "version": 3
   },
   "file_extension": ".py",
   "mimetype": "text/x-python",
   "name": "python",
   "nbconvert_exporter": "python",
   "pygments_lexer": "ipython3",
   "version": "3.8.5"
  }
 },
 "nbformat": 4,
 "nbformat_minor": 2
}
