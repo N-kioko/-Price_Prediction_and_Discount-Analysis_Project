{
 "cells": [
  {
   "cell_type": "markdown",
   "metadata": {},
   "source": [
    "# Jumia Phone Price Prediction"
   ]
  },
  {
   "cell_type": "markdown",
   "metadata": {},
   "source": [
    "## Business Understanding\n",
    " Retailers on Jumia's e-commerce platform face challenges in determining optimal pricing due to the competitive nature of the marketplace with over 100,000 of them and the time-consuming process of evaluating other competitor prices. Jumia has tasked us to analyze the phone catalog data and develop a predictive model that provides data-driven insights, enabling sellers to set competitive prices and maximize profitability effectively ahead of the November black Friday Big Sale.This model is expected to reduce the stress that retailers/sellers have to go through to determins the optimal average price of the product they intend to list on the platform.\n",
    " \n",
    " The objective of our project is as outlined below:\n",
    "* Identify factors contributing to higher product visibility and marketability on Jumia’s first top pages.\n",
    "* Explore the relationship between phone features and customer reviews.\n",
    "* Develop a predictive model to recommend competitive, optimal pricing that promotes first-page placement.\n",
    "* Assess the potential relationship between buyer ratings and product pricing.\n",
    "\n"
   ]
  },
  {
   "cell_type": "markdown",
   "metadata": {},
   "source": [
    "## Data Understanding\n",
    "The data we used was scrapped on 29th October 2024 from the Jumia Kenya e-commerce platform specifically under the smartphones category and sorted by popularity from the 1at to the last page. This gave us 12,000 listed devices. The python code used to scrape the data has been stored on a separate file **scrapped_data_code.ipynb** The packages used included the Beautiful Soup and Pandas. We saved the data in the csv format on our local machine as jumia_mobile_phone.csv and jumia_phone_catalog_popularity.csv that contains the below features respectively outlines:\n",
    "\n",
    "**Name** This describes the brand and the feature of the phone.\n",
    "\n",
    "**Price** This describes the current price the phone retails at.\n",
    "\n",
    "**Old Price** This describes the previous price of the phone.\n",
    "\n",
    "**Discount** The % discount calculated\n",
    "\n",
    "**Rating** The buyers explicit rating of the product and service.\n",
    "\n",
    "**Number of Reviews** The number of reviews from possible buyers.\n",
    "\n",
    "**Search Ranking** The page and position of the product in terms of listing and popularity.\n",
    "\n",
    "**Best Seller** Whether the product was a best seller or not. \n",
    "\n",
    "The two files have the Name column in common we therefore will merge them to one file on this column. The Name column contains unstructured text, combining brand names and product specifications (e.g., “Samsung Galaxy A12, 5000mAh, 128GB ROM, 6GB RAM”). To transform these into separate, structured attributes, we shall use Regex as it allows for consistent pattern matching, enabling the extraction of information such as battery capacity (e.g., numbers followed by \"mAh\") and storage (e.g., \"GB\" or \"MB\"), making data more structured and accessible for analysis.\n",
    "\n",
    "Data Limitation:\n",
    "\n",
    "* Dynamic Pricing: Prices on e-commerce platforms fluctuate frequently. Therefore, the scraped prices reflect only the prices at the time of scraping and may not represent current or future values.\n",
    "\n",
    "* Incomplete or Inconsistent Data: Due to the variety of phone models and brands, some listings may lack uniform information (e.g., missing battery details or memory specifications), which could lead to variability in the parsed features.\n",
    "\n",
    "* Unverified Ratings and Reviews: Ratings and reviews might be biased or manipulated, affecting any insights or model predictions derived from them.\n",
    "\n",
    "* Potential Duplicate Listings: Duplicate or near-duplicate entries may exist if the same model is listed by multiple sellers, which could influence popularity and ranking statistics.\n",
    "\n",
    "\n"
   ]
  },
  {
   "cell_type": "markdown",
   "metadata": {},
   "source": [
    "### Import Relevant Libraries"
   ]
  },
  {
   "cell_type": "code",
   "execution_count": 3,
   "metadata": {},
   "outputs": [],
   "source": [
    "# Import libraries for inspecting, loading, cleaning and visualizing data\n",
    "import pandas as pd\n",
    "import numpy as np\n",
    "#Visualization \n",
    "import matplotlib.pyplot as plt\n",
    "import seaborn as sns\n",
    "%matplotlib inline\n",
    "#regular expression\n",
    "import re"
   ]
  },
  {
   "cell_type": "code",
   "execution_count": null,
   "metadata": {},
   "outputs": [],
   "source": []
  },
  {
   "cell_type": "code",
   "execution_count": null,
   "metadata": {},
   "outputs": [],
   "source": []
  },
  {
   "cell_type": "code",
   "execution_count": null,
   "metadata": {},
   "outputs": [],
   "source": []
  },
  {
   "cell_type": "code",
   "execution_count": null,
   "metadata": {},
   "outputs": [],
   "source": []
  },
  {
   "cell_type": "code",
   "execution_count": null,
   "metadata": {},
   "outputs": [],
   "source": []
  }
 ],
 "metadata": {
  "kernelspec": {
   "display_name": "learn-env",
   "language": "python",
   "name": "python3"
  },
  "language_info": {
   "codemirror_mode": {
    "name": "ipython",
    "version": 3
   },
   "file_extension": ".py",
   "mimetype": "text/x-python",
   "name": "python",
   "nbconvert_exporter": "python",
   "pygments_lexer": "ipython3",
   "version": "3.8.5"
  }
 },
 "nbformat": 4,
 "nbformat_minor": 2
}
