{
 "cells": [
  {
   "cell_type": "markdown",
   "metadata": {},
   "source": [
    "# Jumia Phone Price Prediction"
   ]
  },
  {
   "cell_type": "markdown",
   "metadata": {},
   "source": [
    "## Business Understanding\n",
    " Retailers on Jumia's e-commerce platform face challenges in determining optimal pricing due to the competitive nature of the marketplace with over 100,000 of them and the time-consuming process of evaluating other competitor prices. Jumia has tasked us to analyze the phone catalog data and develop a predictive model that provides data-driven insights, enabling sellers to set competitive prices and maximize profitability effectively ahead of the November black Friday Big Sale.This model is expected to reduce the stress that retailers/sellers have to go through to determins the optimal average price of the product they intend to list on the platform.\n",
    " \n",
    " The objective of our project is as outlined below:\n",
    "* Identify factors contributing to higher product visibility and marketability on Jumia’s first top pages.\n",
    "* Explore the relationship between phone features and customer reviews.\n",
    "* Develop a predictive model to recommend competitive, optimal pricing that promotes first-page placement.\n",
    "* Assess the potential relationship between buyer ratings and product pricing.\n",
    "\n"
   ]
  },
  {
   "cell_type": "markdown",
   "metadata": {},
   "source": [
    "## Data Understanding\n",
    "The data we used was scrapped on 31st October 2024 from the Jumia Kenya e-commerce platform specifically under the smartphones category and sorted by popularity from the 1at to the last page. This gave us 12,000 listed devices. The python code used to scrape the data has been stored on a separate file **scrapped_data.ipynb** The packages used included the Beautiful Soup and Pandas. We saved the data in the csv format on our local machine as jumia_phones.csv that contains the below features respectively outlines:\n",
    "\n",
    "**Name** This describes the brand and the feature of the phone.\n",
    "\n",
    "**Price** This describes the current price the phone retails at.\n",
    "\n",
    "**Old Price** This describes the previous price of the phone.\n",
    "\n",
    "**Discount** The % discount calculated\n",
    "\n",
    "**Rating** The buyers explicit rating of the product and service.\n",
    "\n",
    "**Number of Reviews** The number of reviews from possible buyers.\n",
    "\n",
    "**Search Ranking** The page and position of the product in terms of listing and popularity.\n",
    "\n",
    " The Name column contains unstructured text, combining brand names and product specifications (e.g., “Samsung Galaxy A12, 5000mAh, 128GB ROM, 6GB RAM”). To transform these into separate, structured attributes, we shall use Regex as it allows for consistent pattern matching, enabling the extraction of information such as battery capacity (e.g., numbers followed by \"mAh\") and storage (e.g., \"GB\" or \"MB\"), making data more structured and accessible for analysis.\n",
    "\n",
    "Data Limitation:\n",
    "\n",
    "* Dynamic Pricing: Prices on e-commerce platforms fluctuate frequently. Therefore, the scraped prices reflect only the prices at the time of scraping and may not represent current or future values.\n",
    "\n",
    "* Incomplete or Inconsistent Data: Due to the variety of phone models and brands, some listings may lack uniform information (e.g., missing battery details or memory specifications), which could lead to variability in the parsed features.\n",
    "\n",
    "* Unverified Ratings and Reviews: Ratings and reviews might be biased or manipulated, affecting any insights or model predictions derived from them.\n",
    "\n",
    "* Potential Duplicate Listings: Duplicate or near-duplicate entries may exist if the same model is listed by multiple sellers, which could influence popularity and ranking statistics.\n",
    "\n",
    "\n"
   ]
  },
  {
   "cell_type": "markdown",
   "metadata": {},
   "source": [
    "### Import Relevant Libraries"
   ]
  },
  {
   "cell_type": "code",
   "execution_count": 2,
   "metadata": {},
   "outputs": [],
   "source": [
    "# Import libraries for inspecting, loading, cleaning and visualizing data\n",
    "import pandas as pd\n",
    "import numpy as np\n",
    "#Visualization \n",
    "import matplotlib.pyplot as plt\n",
    "import seaborn as sns\n",
    "%matplotlib inline\n",
    "#regular expression\n",
    "import re"
   ]
  },
  {
   "cell_type": "markdown",
   "metadata": {},
   "source": [
    "## Data Preparation\n"
   ]
  },
  {
   "cell_type": "markdown",
   "metadata": {},
   "source": [
    "### 1. Loading and Inspecting Data\n",
    "Here we shall load the data using the pandas library imported.\n",
    "\n",
    "Thereafter we shall inspect our files using the pandas attributes and methods."
   ]
  },
  {
   "cell_type": "code",
   "execution_count": 3,
   "metadata": {},
   "outputs": [
    {
     "data": {
      "text/html": [
       "<div>\n",
       "<style scoped>\n",
       "    .dataframe tbody tr th:only-of-type {\n",
       "        vertical-align: middle;\n",
       "    }\n",
       "\n",
       "    .dataframe tbody tr th {\n",
       "        vertical-align: top;\n",
       "    }\n",
       "\n",
       "    .dataframe thead th {\n",
       "        text-align: right;\n",
       "    }\n",
       "</style>\n",
       "<table border=\"1\" class=\"dataframe\">\n",
       "  <thead>\n",
       "    <tr style=\"text-align: right;\">\n",
       "      <th></th>\n",
       "      <th>Name</th>\n",
       "      <th>Price</th>\n",
       "      <th>Old Price</th>\n",
       "      <th>Discount</th>\n",
       "      <th>Rating</th>\n",
       "      <th>Number of Reviews</th>\n",
       "      <th>Search Ranking</th>\n",
       "    </tr>\n",
       "  </thead>\n",
       "  <tbody>\n",
       "    <tr>\n",
       "      <th>0</th>\n",
       "      <td>XIAOMI Redmi A3, 6.71\", 3GB RAM + 64GB (Dual S...</td>\n",
       "      <td>KSh 11,000</td>\n",
       "      <td>NaN</td>\n",
       "      <td>NaN</td>\n",
       "      <td>4.1 out of 5</td>\n",
       "      <td>4.1 out of 5(220)</td>\n",
       "      <td>Page 1, Rank 1</td>\n",
       "    </tr>\n",
       "    <tr>\n",
       "      <th>1</th>\n",
       "      <td>Tecno Spark 20, Android 13, 6.6\", 128GB + 4GB ...</td>\n",
       "      <td>KSh 12,925</td>\n",
       "      <td>KSh 15,000</td>\n",
       "      <td>14%</td>\n",
       "      <td>4.4 out of 5</td>\n",
       "      <td>4.4 out of 5(135)</td>\n",
       "      <td>Page 1, Rank 2</td>\n",
       "    </tr>\n",
       "    <tr>\n",
       "      <th>2</th>\n",
       "      <td>Itel S23 6.6\", 128GB + 4GB RAM, 50MP Camera, (...</td>\n",
       "      <td>KSh 10,000</td>\n",
       "      <td>NaN</td>\n",
       "      <td>NaN</td>\n",
       "      <td>4.2 out of 5</td>\n",
       "      <td>4.2 out of 5(151)</td>\n",
       "      <td>Page 1, Rank 3</td>\n",
       "    </tr>\n",
       "    <tr>\n",
       "      <th>3</th>\n",
       "      <td>Samsung Galaxy A05, 6.7'' 4GB RAM + 128GB ROM ...</td>\n",
       "      <td>KSh 14,000</td>\n",
       "      <td>NaN</td>\n",
       "      <td>NaN</td>\n",
       "      <td>4.5 out of 5</td>\n",
       "      <td>4.5 out of 5(29)</td>\n",
       "      <td>Page 1, Rank 4</td>\n",
       "    </tr>\n",
       "    <tr>\n",
       "      <th>4</th>\n",
       "      <td>Itel S23 6.6\", 128GB + 4GB RAM, 50MP Camera, (...</td>\n",
       "      <td>KSh 10,000</td>\n",
       "      <td>NaN</td>\n",
       "      <td>NaN</td>\n",
       "      <td>4.3 out of 5</td>\n",
       "      <td>4.3 out of 5(249)</td>\n",
       "      <td>Page 1, Rank 5</td>\n",
       "    </tr>\n",
       "  </tbody>\n",
       "</table>\n",
       "</div>"
      ],
      "text/plain": [
       "                                                Name       Price   Old Price  \\\n",
       "0  XIAOMI Redmi A3, 6.71\", 3GB RAM + 64GB (Dual S...  KSh 11,000         NaN   \n",
       "1  Tecno Spark 20, Android 13, 6.6\", 128GB + 4GB ...  KSh 12,925  KSh 15,000   \n",
       "2  Itel S23 6.6\", 128GB + 4GB RAM, 50MP Camera, (...  KSh 10,000         NaN   \n",
       "3  Samsung Galaxy A05, 6.7'' 4GB RAM + 128GB ROM ...  KSh 14,000         NaN   \n",
       "4  Itel S23 6.6\", 128GB + 4GB RAM, 50MP Camera, (...  KSh 10,000         NaN   \n",
       "\n",
       "  Discount        Rating  Number of Reviews  Search Ranking  \n",
       "0      NaN  4.1 out of 5  4.1 out of 5(220)  Page 1, Rank 1  \n",
       "1      14%  4.4 out of 5  4.4 out of 5(135)  Page 1, Rank 2  \n",
       "2      NaN  4.2 out of 5  4.2 out of 5(151)  Page 1, Rank 3  \n",
       "3      NaN  4.5 out of 5   4.5 out of 5(29)  Page 1, Rank 4  \n",
       "4      NaN  4.3 out of 5  4.3 out of 5(249)  Page 1, Rank 5  "
      ]
     },
     "execution_count": 3,
     "metadata": {},
     "output_type": "execute_result"
    }
   ],
   "source": [
    "# load the two datasets\n",
    "phone_df = pd.read_csv('jumia_phones.csv')\n",
    "#View the first 5 rows of the phone_pricing df\n",
    "phone_df.head()"
   ]
  },
  {
   "cell_type": "code",
   "execution_count": 4,
   "metadata": {},
   "outputs": [
    {
     "data": {
      "text/plain": [
       "Index(['Name', 'Price', 'Old Price', 'Discount', 'Rating', 'Number of Reviews',\n",
       "       'Search Ranking'],\n",
       "      dtype='object')"
      ]
     },
     "execution_count": 4,
     "metadata": {},
     "output_type": "execute_result"
    }
   ],
   "source": [
    "#To see the column names\n",
    "phone_df.columns"
   ]
  },
  {
   "cell_type": "code",
   "execution_count": 5,
   "metadata": {},
   "outputs": [
    {
     "data": {
      "text/plain": [
       "(12000, 7)"
      ]
     },
     "execution_count": 5,
     "metadata": {},
     "output_type": "execute_result"
    }
   ],
   "source": [
    "#To inspect the size of the df\n",
    "phone_df.shape"
   ]
  },
  {
   "cell_type": "code",
   "execution_count": 6,
   "metadata": {},
   "outputs": [
    {
     "name": "stdout",
     "output_type": "stream",
     "text": [
      "<class 'pandas.core.frame.DataFrame'>\n",
      "RangeIndex: 12000 entries, 0 to 11999\n",
      "Data columns (total 7 columns):\n",
      " #   Column             Non-Null Count  Dtype \n",
      "---  ------             --------------  ----- \n",
      " 0   Name               12000 non-null  object\n",
      " 1   Price              12000 non-null  object\n",
      " 2   Old Price          8101 non-null   object\n",
      " 3   Discount           8101 non-null   object\n",
      " 4   Rating             11700 non-null  object\n",
      " 5   Number of Reviews  11700 non-null  object\n",
      " 6   Search Ranking     12000 non-null  object\n",
      "dtypes: object(7)\n",
      "memory usage: 656.4+ KB\n"
     ]
    }
   ],
   "source": [
    "#To inspect the detailed information of the dataset \n",
    "phone_df.info()"
   ]
  },
  {
   "cell_type": "code",
   "execution_count": 7,
   "metadata": {},
   "outputs": [
    {
     "data": {
      "text/html": [
       "<div>\n",
       "<style scoped>\n",
       "    .dataframe tbody tr th:only-of-type {\n",
       "        vertical-align: middle;\n",
       "    }\n",
       "\n",
       "    .dataframe tbody tr th {\n",
       "        vertical-align: top;\n",
       "    }\n",
       "\n",
       "    .dataframe thead th {\n",
       "        text-align: right;\n",
       "    }\n",
       "</style>\n",
       "<table border=\"1\" class=\"dataframe\">\n",
       "  <thead>\n",
       "    <tr style=\"text-align: right;\">\n",
       "      <th></th>\n",
       "      <th>Name</th>\n",
       "      <th>Price</th>\n",
       "      <th>Old Price</th>\n",
       "      <th>Discount</th>\n",
       "      <th>Rating</th>\n",
       "      <th>Number of Reviews</th>\n",
       "      <th>Search Ranking</th>\n",
       "    </tr>\n",
       "  </thead>\n",
       "  <tbody>\n",
       "    <tr>\n",
       "      <th>count</th>\n",
       "      <td>12000</td>\n",
       "      <td>12000</td>\n",
       "      <td>8101</td>\n",
       "      <td>8101</td>\n",
       "      <td>11700</td>\n",
       "      <td>11700</td>\n",
       "      <td>12000</td>\n",
       "    </tr>\n",
       "    <tr>\n",
       "      <th>unique</th>\n",
       "      <td>40</td>\n",
       "      <td>34</td>\n",
       "      <td>19</td>\n",
       "      <td>22</td>\n",
       "      <td>12</td>\n",
       "      <td>38</td>\n",
       "      <td>12000</td>\n",
       "    </tr>\n",
       "    <tr>\n",
       "      <th>top</th>\n",
       "      <td>Itel S23 6.6\", 128GB + 4GB RAM, 50MP Camera, (...</td>\n",
       "      <td>KSh 10,000</td>\n",
       "      <td>KSh 29,999</td>\n",
       "      <td>45%</td>\n",
       "      <td>4.3 out of 5</td>\n",
       "      <td>4.6 out of 5(9)</td>\n",
       "      <td>Page 228, Rank 1</td>\n",
       "    </tr>\n",
       "    <tr>\n",
       "      <th>freq</th>\n",
       "      <td>300</td>\n",
       "      <td>1500</td>\n",
       "      <td>1200</td>\n",
       "      <td>900</td>\n",
       "      <td>1800</td>\n",
       "      <td>600</td>\n",
       "      <td>1</td>\n",
       "    </tr>\n",
       "  </tbody>\n",
       "</table>\n",
       "</div>"
      ],
      "text/plain": [
       "                                                     Name       Price  \\\n",
       "count                                               12000       12000   \n",
       "unique                                                 40          34   \n",
       "top     Itel S23 6.6\", 128GB + 4GB RAM, 50MP Camera, (...  KSh 10,000   \n",
       "freq                                                  300        1500   \n",
       "\n",
       "         Old Price Discount        Rating Number of Reviews    Search Ranking  \n",
       "count         8101     8101         11700             11700             12000  \n",
       "unique          19       22            12                38             12000  \n",
       "top     KSh 29,999      45%  4.3 out of 5   4.6 out of 5(9)  Page 228, Rank 1  \n",
       "freq          1200      900          1800               600                 1  "
      ]
     },
     "execution_count": 7,
     "metadata": {},
     "output_type": "execute_result"
    }
   ],
   "source": [
    "phone_df.describe()"
   ]
  },
  {
   "cell_type": "markdown",
   "metadata": {},
   "source": [
    "Summary Findings From Data Loading and Inspection:\n",
    "\n",
    "* We have 7 columns in our DataFrame tagged 'Name', 'Price', 'Old Price', 'Discount', 'Rating', 'Number of Reviews' and 'Search Ranking'\n",
    "\n",
    "* Our Dataset has 12,000 rows indicating 12,000 phones listed.\n",
    "\n",
    "* All the columns are in the datatype object.\n",
    "\n",
    "* We have 40 unique products signifying that one phone brand has multiple listing, 34 unique prices indicate price variations, likely due to discounts or seller pricing strategies, 19 unique old prices suggest that some products have similar prices,  22 unique discount percentages point to varying discount rates across products, 12 unique ratings indicate that products have received different levels of customer feedback, 38 unique values in the number of reviews column suggest variability in how many reviews each product has received and 12,000 unique values imply that each product has a unique search ranking based on its page position.\n",
    "\n",
    "* The most frequently listed product is the \"Samsung GALAXY A15,\" which indicates its popularity among sellers or consumers, KSh 10,000 is the most common price, suggesting that many products are priced around this figure. The most common old price is KSh 29,999, indicating that many products have been discounted from this price.\n",
    "The most common discount of 45% suggests aggressive pricing strategies to attract buyers, The most common rating is 4.3 out of 5, indicating a generally positive perception of the products, 4.6 out of 5 from 9 reviews is the top rating, showing strong customer satisfaction for that specific product.\n",
    "The top search ranking is \"Page 21, Rank 35,\" suggesting the ranking method is working as intended, with many products on the site.\n"
   ]
  },
  {
   "cell_type": "markdown",
   "metadata": {},
   "source": [
    "### 2. Feature Splitting\n",
    "Here we intend to split the name column into several features containing"
   ]
  },
  {
   "cell_type": "code",
   "execution_count": 8,
   "metadata": {},
   "outputs": [
    {
     "data": {
      "text/html": [
       "<div>\n",
       "<style scoped>\n",
       "    .dataframe tbody tr th:only-of-type {\n",
       "        vertical-align: middle;\n",
       "    }\n",
       "\n",
       "    .dataframe tbody tr th {\n",
       "        vertical-align: top;\n",
       "    }\n",
       "\n",
       "    .dataframe thead th {\n",
       "        text-align: right;\n",
       "    }\n",
       "</style>\n",
       "<table border=\"1\" class=\"dataframe\">\n",
       "  <thead>\n",
       "    <tr style=\"text-align: right;\">\n",
       "      <th></th>\n",
       "      <th>Brand</th>\n",
       "      <th>Screen Size</th>\n",
       "      <th>RAM</th>\n",
       "      <th>ROM</th>\n",
       "      <th>Color</th>\n",
       "      <th>Warranty</th>\n",
       "      <th>Price</th>\n",
       "      <th>Old Price</th>\n",
       "      <th>Discount</th>\n",
       "      <th>Rating</th>\n",
       "      <th>Number of Reviews</th>\n",
       "      <th>Search Ranking</th>\n",
       "    </tr>\n",
       "  </thead>\n",
       "  <tbody>\n",
       "    <tr>\n",
       "      <th>0</th>\n",
       "      <td>Xiaomi Redmi A3</td>\n",
       "      <td>6.71</td>\n",
       "      <td>3GB</td>\n",
       "      <td>64GB</td>\n",
       "      <td>Midnight Black</td>\n",
       "      <td>2</td>\n",
       "      <td>KSh 11,000</td>\n",
       "      <td>NaN</td>\n",
       "      <td>NaN</td>\n",
       "      <td>4.1 out of 5</td>\n",
       "      <td>4.1 out of 5(220)</td>\n",
       "      <td>Page 1, Rank 1</td>\n",
       "    </tr>\n",
       "    <tr>\n",
       "      <th>1</th>\n",
       "      <td>Tecno Spark 20</td>\n",
       "      <td>6.6</td>\n",
       "      <td>4GB</td>\n",
       "      <td>128GB</td>\n",
       "      <td>Gravity Black</td>\n",
       "      <td>1</td>\n",
       "      <td>KSh 12,925</td>\n",
       "      <td>KSh 15,000</td>\n",
       "      <td>14%</td>\n",
       "      <td>4.4 out of 5</td>\n",
       "      <td>4.4 out of 5(135)</td>\n",
       "      <td>Page 1, Rank 2</td>\n",
       "    </tr>\n",
       "    <tr>\n",
       "      <th>2</th>\n",
       "      <td>Itel S23</td>\n",
       "      <td>6.6</td>\n",
       "      <td>4GB</td>\n",
       "      <td>128GB</td>\n",
       "      <td>Mystery White</td>\n",
       "      <td>1</td>\n",
       "      <td>KSh 10,000</td>\n",
       "      <td>NaN</td>\n",
       "      <td>NaN</td>\n",
       "      <td>4.2 out of 5</td>\n",
       "      <td>4.2 out of 5(151)</td>\n",
       "      <td>Page 1, Rank 3</td>\n",
       "    </tr>\n",
       "    <tr>\n",
       "      <th>3</th>\n",
       "      <td>Samsung Galaxy A05</td>\n",
       "      <td>6.7</td>\n",
       "      <td>4GB</td>\n",
       "      <td>128GB</td>\n",
       "      <td>Black</td>\n",
       "      <td>None</td>\n",
       "      <td>KSh 14,000</td>\n",
       "      <td>NaN</td>\n",
       "      <td>NaN</td>\n",
       "      <td>4.5 out of 5</td>\n",
       "      <td>4.5 out of 5(29)</td>\n",
       "      <td>Page 1, Rank 4</td>\n",
       "    </tr>\n",
       "    <tr>\n",
       "      <th>4</th>\n",
       "      <td>Itel S23</td>\n",
       "      <td>6.6</td>\n",
       "      <td>4GB</td>\n",
       "      <td>128GB</td>\n",
       "      <td>Starry Black</td>\n",
       "      <td>None</td>\n",
       "      <td>KSh 10,000</td>\n",
       "      <td>NaN</td>\n",
       "      <td>NaN</td>\n",
       "      <td>4.3 out of 5</td>\n",
       "      <td>4.3 out of 5(249)</td>\n",
       "      <td>Page 1, Rank 5</td>\n",
       "    </tr>\n",
       "  </tbody>\n",
       "</table>\n",
       "</div>"
      ],
      "text/plain": [
       "                Brand Screen Size  RAM    ROM           Color Warranty  \\\n",
       "0     Xiaomi Redmi A3        6.71  3GB   64GB  Midnight Black        2   \n",
       "1      Tecno Spark 20         6.6  4GB  128GB   Gravity Black        1   \n",
       "2            Itel S23         6.6  4GB  128GB   Mystery White        1   \n",
       "3  Samsung Galaxy A05         6.7  4GB  128GB           Black     None   \n",
       "4            Itel S23         6.6  4GB  128GB    Starry Black     None   \n",
       "\n",
       "        Price   Old Price Discount        Rating  Number of Reviews  \\\n",
       "0  KSh 11,000         NaN      NaN  4.1 out of 5  4.1 out of 5(220)   \n",
       "1  KSh 12,925  KSh 15,000      14%  4.4 out of 5  4.4 out of 5(135)   \n",
       "2  KSh 10,000         NaN      NaN  4.2 out of 5  4.2 out of 5(151)   \n",
       "3  KSh 14,000         NaN      NaN  4.5 out of 5   4.5 out of 5(29)   \n",
       "4  KSh 10,000         NaN      NaN  4.3 out of 5  4.3 out of 5(249)   \n",
       "\n",
       "   Search Ranking  \n",
       "0  Page 1, Rank 1  \n",
       "1  Page 1, Rank 2  \n",
       "2  Page 1, Rank 3  \n",
       "3  Page 1, Rank 4  \n",
       "4  Page 1, Rank 5  "
      ]
     },
     "execution_count": 8,
     "metadata": {},
     "output_type": "execute_result"
    }
   ],
   "source": [
    "#Have the Name column in the variable name product_column\n",
    "product_column = 'Name'  \n",
    "\n",
    "# Define regex pattern to extract brand\n",
    "pattern_brand = r\"(?P<brand>[\\w\\s]+)(?=\\+|,\\s|\\s|$)\"\n",
    "\n",
    "# Function to extract brand\n",
    "def extract_brand(name):\n",
    "    match = re.search(pattern_brand, name)\n",
    "    return match.group('brand').strip() if match else None\n",
    "\n",
    "# Extract brand\n",
    "brand_df = phone_df[product_column].apply(extract_brand).rename('Brand')\n",
    "# Convert to lowercase and then title case for uniformity\n",
    "brand_df = brand_df.str.lower().str.title()\n",
    "\n",
    "# Define regex pattern to extract screen size\n",
    "screen_size_pattern = r\"(?P<screen_size>\\d+(\\.\\d+)?)(?=['\\\"]{1,2})\"\n",
    "# Function to extract screen size\n",
    "def extract_screen_size(name):\n",
    "    match = re.search(screen_size_pattern, name)\n",
    "    return match.group('screen_size').strip() if match else None\n",
    "\n",
    "# Extract screen size\n",
    "size_df = phone_df[product_column].apply(extract_screen_size).rename('Screen Size')\n",
    "\n",
    "# Define regex pattern to extract RAM\n",
    "ram_pattern = r\"\\b(?P<RAM>\\d\\s?GB)\\b\"\n",
    "\n",
    "# Function to extract RAM\n",
    "def extract_ram(name):\n",
    "    match = re.search(ram_pattern, name)\n",
    "    return match.group('RAM').strip() if match else None\n",
    "\n",
    "# Extract RAM\n",
    "ram_df = phone_df[product_column].apply(extract_ram).rename('RAM')\n",
    "\n",
    "# Define regex pattern to extract ROM\n",
    "rom_pattern = r\"\\b(?P<ROM>\\d{2,}\\s?GB)\\b\"\n",
    "\n",
    "# Function to extract ROM\n",
    "def extract_rom(name):\n",
    "    match = re.search(rom_pattern, name)\n",
    "    return match.group('ROM').strip() if match else None\n",
    "\n",
    "# Extract ROM\n",
    "rom_df = phone_df[product_column].apply(extract_rom).rename('ROM')\n",
    "\n",
    "# Define regex pattern to extract Color\n",
    "color_pattern = r\"[,-]\\s*(?P<Color>([A-Z][a-z]+(?:\\s[A-Z][a-z]+)*))\\s*(?:\\+.*)?(?=\\s*\\(|$)\"\n",
    "\n",
    "# Function to extract Color\n",
    "def extract_color(name):\n",
    "    match = re.search(color_pattern, name)\n",
    "    return match.group('Color').strip() if match else None\n",
    "\n",
    "# Extract Color\n",
    "color_df = phone_df[product_column].apply(extract_color).rename('Color')\n",
    "\n",
    "# Define regex pattern for extracting Warranty\n",
    "warranty_pattern = r\"(\\d+)\\s*(?:YR|WRTY)\"\n",
    "\n",
    "# Function to extract Warranty\n",
    "def extract_warranty(name):\n",
    "    warranty_match = re.search(warranty_pattern, name)\n",
    "    return warranty_match.group(1) if warranty_match else None\n",
    "\n",
    "# Extract Warranty\n",
    "warranty_df = phone_df[product_column].apply(extract_warranty).rename('Warranty')\n",
    "\n",
    "# Concatenate extracted features with the original DataFrame (excluding the product column)\n",
    "extracted_features_df = pd.concat(\n",
    "    [brand_df, size_df, ram_df, rom_df, color_df, warranty_df],\n",
    "    axis=1\n",
    ")\n",
    "\n",
    "# Concatenate with the original DataFrame, excluding the product column\n",
    "final_df = pd.concat(\n",
    "    [extracted_features_df, phone_df.drop(columns=[product_column])],\n",
    "    axis=1\n",
    ")\n",
    "\n",
    "# Display the final DataFrame\n",
    "final_df.head()"
   ]
  },
  {
   "cell_type": "markdown",
   "metadata": {},
   "source": [
    "Further cleaning of the other three columns (Rating, Number of Reviews and Search Ranking) from the original DataFrame."
   ]
  },
  {
   "cell_type": "code",
   "execution_count": 9,
   "metadata": {},
   "outputs": [
    {
     "data": {
      "text/html": [
       "<div>\n",
       "<style scoped>\n",
       "    .dataframe tbody tr th:only-of-type {\n",
       "        vertical-align: middle;\n",
       "    }\n",
       "\n",
       "    .dataframe tbody tr th {\n",
       "        vertical-align: top;\n",
       "    }\n",
       "\n",
       "    .dataframe thead th {\n",
       "        text-align: right;\n",
       "    }\n",
       "</style>\n",
       "<table border=\"1\" class=\"dataframe\">\n",
       "  <thead>\n",
       "    <tr style=\"text-align: right;\">\n",
       "      <th></th>\n",
       "      <th>Brand</th>\n",
       "      <th>Screen Size</th>\n",
       "      <th>RAM</th>\n",
       "      <th>ROM</th>\n",
       "      <th>Color</th>\n",
       "      <th>Warranty</th>\n",
       "      <th>Price</th>\n",
       "      <th>Old Price</th>\n",
       "      <th>Discount</th>\n",
       "      <th>Rating</th>\n",
       "      <th>Number of Reviews</th>\n",
       "      <th>Search Ranking</th>\n",
       "      <th>Page</th>\n",
       "      <th>Rank</th>\n",
       "    </tr>\n",
       "  </thead>\n",
       "  <tbody>\n",
       "    <tr>\n",
       "      <th>0</th>\n",
       "      <td>Xiaomi Redmi A3</td>\n",
       "      <td>6.71</td>\n",
       "      <td>3GB</td>\n",
       "      <td>64GB</td>\n",
       "      <td>Midnight Black</td>\n",
       "      <td>2</td>\n",
       "      <td>KSh 11,000</td>\n",
       "      <td>NaN</td>\n",
       "      <td>NaN</td>\n",
       "      <td>4.1</td>\n",
       "      <td>220</td>\n",
       "      <td>Page 1, Rank 1</td>\n",
       "      <td>1</td>\n",
       "      <td>1</td>\n",
       "    </tr>\n",
       "    <tr>\n",
       "      <th>1</th>\n",
       "      <td>Tecno Spark 20</td>\n",
       "      <td>6.6</td>\n",
       "      <td>4GB</td>\n",
       "      <td>128GB</td>\n",
       "      <td>Gravity Black</td>\n",
       "      <td>1</td>\n",
       "      <td>KSh 12,925</td>\n",
       "      <td>KSh 15,000</td>\n",
       "      <td>14%</td>\n",
       "      <td>4.4</td>\n",
       "      <td>135</td>\n",
       "      <td>Page 1, Rank 2</td>\n",
       "      <td>1</td>\n",
       "      <td>2</td>\n",
       "    </tr>\n",
       "    <tr>\n",
       "      <th>2</th>\n",
       "      <td>Itel S23</td>\n",
       "      <td>6.6</td>\n",
       "      <td>4GB</td>\n",
       "      <td>128GB</td>\n",
       "      <td>Mystery White</td>\n",
       "      <td>1</td>\n",
       "      <td>KSh 10,000</td>\n",
       "      <td>NaN</td>\n",
       "      <td>NaN</td>\n",
       "      <td>4.2</td>\n",
       "      <td>151</td>\n",
       "      <td>Page 1, Rank 3</td>\n",
       "      <td>1</td>\n",
       "      <td>3</td>\n",
       "    </tr>\n",
       "    <tr>\n",
       "      <th>3</th>\n",
       "      <td>Samsung Galaxy A05</td>\n",
       "      <td>6.7</td>\n",
       "      <td>4GB</td>\n",
       "      <td>128GB</td>\n",
       "      <td>Black</td>\n",
       "      <td>None</td>\n",
       "      <td>KSh 14,000</td>\n",
       "      <td>NaN</td>\n",
       "      <td>NaN</td>\n",
       "      <td>4.5</td>\n",
       "      <td>29</td>\n",
       "      <td>Page 1, Rank 4</td>\n",
       "      <td>1</td>\n",
       "      <td>4</td>\n",
       "    </tr>\n",
       "    <tr>\n",
       "      <th>4</th>\n",
       "      <td>Itel S23</td>\n",
       "      <td>6.6</td>\n",
       "      <td>4GB</td>\n",
       "      <td>128GB</td>\n",
       "      <td>Starry Black</td>\n",
       "      <td>None</td>\n",
       "      <td>KSh 10,000</td>\n",
       "      <td>NaN</td>\n",
       "      <td>NaN</td>\n",
       "      <td>4.3</td>\n",
       "      <td>249</td>\n",
       "      <td>Page 1, Rank 5</td>\n",
       "      <td>1</td>\n",
       "      <td>5</td>\n",
       "    </tr>\n",
       "  </tbody>\n",
       "</table>\n",
       "</div>"
      ],
      "text/plain": [
       "                Brand Screen Size  RAM    ROM           Color Warranty  \\\n",
       "0     Xiaomi Redmi A3        6.71  3GB   64GB  Midnight Black        2   \n",
       "1      Tecno Spark 20         6.6  4GB  128GB   Gravity Black        1   \n",
       "2            Itel S23         6.6  4GB  128GB   Mystery White        1   \n",
       "3  Samsung Galaxy A05         6.7  4GB  128GB           Black     None   \n",
       "4            Itel S23         6.6  4GB  128GB    Starry Black     None   \n",
       "\n",
       "        Price   Old Price Discount Rating Number of Reviews  Search Ranking  \\\n",
       "0  KSh 11,000         NaN      NaN    4.1               220  Page 1, Rank 1   \n",
       "1  KSh 12,925  KSh 15,000      14%    4.4               135  Page 1, Rank 2   \n",
       "2  KSh 10,000         NaN      NaN    4.2               151  Page 1, Rank 3   \n",
       "3  KSh 14,000         NaN      NaN    4.5                29  Page 1, Rank 4   \n",
       "4  KSh 10,000         NaN      NaN    4.3               249  Page 1, Rank 5   \n",
       "\n",
       "  Page Rank  \n",
       "0    1    1  \n",
       "1    1    2  \n",
       "2    1    3  \n",
       "3    1    4  \n",
       "4    1    5  "
      ]
     },
     "execution_count": 9,
     "metadata": {},
     "output_type": "execute_result"
    }
   ],
   "source": [
    "# Clean the Rating column\n",
    "final_df['Rating'] = final_df['Rating'].str.extract(r'(\\d+\\.\\d)')[0]\n",
    "\n",
    "# Clean the Number of Reviews column to extract the number in parentheses\n",
    "final_df['Number of Reviews'] = final_df['Number of Reviews'].str.extract(r'\\((\\d+)\\)')[0]\n",
    "\n",
    "# Define regex pattern to extract page and rank\n",
    "pattern = r'Page (?P<Page>\\d+), Rank (?P<Rank>\\d+)'\n",
    "\n",
    "# Extract page and rank into new columns\n",
    "final_df[['Page', 'Rank']] = final_df['Search Ranking'].str.extract(pattern)\n",
    "\n",
    "# Display the cleaned DataFrame\n",
    "final_df.head()"
   ]
  },
  {
   "cell_type": "markdown",
   "metadata": {},
   "source": [
    "### 3. Cleaning\n",
    "1. Let us first convert the Screen size, RAM, ROM, Page, Rank, Price, Rating and Old Price to integers to numericals that is floats and integers.\n",
    "\n",
    "2. Secondly, check for null values and handle as required.\n",
    "\n",
    "3. Thirdly, check for duplicates."
   ]
  },
  {
   "cell_type": "markdown",
   "metadata": {},
   "source": [
    "#### 3.1 DataType Conversion"
   ]
  },
  {
   "cell_type": "code",
   "execution_count": 10,
   "metadata": {},
   "outputs": [
    {
     "data": {
      "text/html": [
       "<div>\n",
       "<style scoped>\n",
       "    .dataframe tbody tr th:only-of-type {\n",
       "        vertical-align: middle;\n",
       "    }\n",
       "\n",
       "    .dataframe tbody tr th {\n",
       "        vertical-align: top;\n",
       "    }\n",
       "\n",
       "    .dataframe thead th {\n",
       "        text-align: right;\n",
       "    }\n",
       "</style>\n",
       "<table border=\"1\" class=\"dataframe\">\n",
       "  <thead>\n",
       "    <tr style=\"text-align: right;\">\n",
       "      <th></th>\n",
       "      <th>Brand</th>\n",
       "      <th>Screen Size</th>\n",
       "      <th>RAM</th>\n",
       "      <th>ROM</th>\n",
       "      <th>Color</th>\n",
       "      <th>Warranty</th>\n",
       "      <th>Price</th>\n",
       "      <th>Old Price</th>\n",
       "      <th>Discount</th>\n",
       "      <th>Rating</th>\n",
       "      <th>Number of Reviews</th>\n",
       "      <th>Search Ranking</th>\n",
       "      <th>Page</th>\n",
       "      <th>Rank</th>\n",
       "    </tr>\n",
       "  </thead>\n",
       "  <tbody>\n",
       "    <tr>\n",
       "      <th>0</th>\n",
       "      <td>Xiaomi Redmi A3</td>\n",
       "      <td>6.71</td>\n",
       "      <td>3</td>\n",
       "      <td>64</td>\n",
       "      <td>Midnight Black</td>\n",
       "      <td>2</td>\n",
       "      <td>11000.0</td>\n",
       "      <td>NaN</td>\n",
       "      <td>NaN</td>\n",
       "      <td>4.1</td>\n",
       "      <td>220</td>\n",
       "      <td>Page 1, Rank 1</td>\n",
       "      <td>1</td>\n",
       "      <td>1</td>\n",
       "    </tr>\n",
       "    <tr>\n",
       "      <th>1</th>\n",
       "      <td>Tecno Spark 20</td>\n",
       "      <td>6.60</td>\n",
       "      <td>4</td>\n",
       "      <td>128</td>\n",
       "      <td>Gravity Black</td>\n",
       "      <td>1</td>\n",
       "      <td>12925.0</td>\n",
       "      <td>15000.0</td>\n",
       "      <td>14.0</td>\n",
       "      <td>4.4</td>\n",
       "      <td>135</td>\n",
       "      <td>Page 1, Rank 2</td>\n",
       "      <td>1</td>\n",
       "      <td>2</td>\n",
       "    </tr>\n",
       "    <tr>\n",
       "      <th>2</th>\n",
       "      <td>Itel S23</td>\n",
       "      <td>6.60</td>\n",
       "      <td>4</td>\n",
       "      <td>128</td>\n",
       "      <td>Mystery White</td>\n",
       "      <td>1</td>\n",
       "      <td>10000.0</td>\n",
       "      <td>NaN</td>\n",
       "      <td>NaN</td>\n",
       "      <td>4.2</td>\n",
       "      <td>151</td>\n",
       "      <td>Page 1, Rank 3</td>\n",
       "      <td>1</td>\n",
       "      <td>3</td>\n",
       "    </tr>\n",
       "    <tr>\n",
       "      <th>3</th>\n",
       "      <td>Samsung Galaxy A05</td>\n",
       "      <td>6.70</td>\n",
       "      <td>4</td>\n",
       "      <td>128</td>\n",
       "      <td>Black</td>\n",
       "      <td>None</td>\n",
       "      <td>14000.0</td>\n",
       "      <td>NaN</td>\n",
       "      <td>NaN</td>\n",
       "      <td>4.5</td>\n",
       "      <td>29</td>\n",
       "      <td>Page 1, Rank 4</td>\n",
       "      <td>1</td>\n",
       "      <td>4</td>\n",
       "    </tr>\n",
       "    <tr>\n",
       "      <th>4</th>\n",
       "      <td>Itel S23</td>\n",
       "      <td>6.60</td>\n",
       "      <td>4</td>\n",
       "      <td>128</td>\n",
       "      <td>Starry Black</td>\n",
       "      <td>None</td>\n",
       "      <td>10000.0</td>\n",
       "      <td>NaN</td>\n",
       "      <td>NaN</td>\n",
       "      <td>4.3</td>\n",
       "      <td>249</td>\n",
       "      <td>Page 1, Rank 5</td>\n",
       "      <td>1</td>\n",
       "      <td>5</td>\n",
       "    </tr>\n",
       "  </tbody>\n",
       "</table>\n",
       "</div>"
      ],
      "text/plain": [
       "                Brand  Screen Size  RAM  ROM           Color Warranty  \\\n",
       "0     Xiaomi Redmi A3         6.71    3   64  Midnight Black        2   \n",
       "1      Tecno Spark 20         6.60    4  128   Gravity Black        1   \n",
       "2            Itel S23         6.60    4  128   Mystery White        1   \n",
       "3  Samsung Galaxy A05         6.70    4  128           Black     None   \n",
       "4            Itel S23         6.60    4  128    Starry Black     None   \n",
       "\n",
       "     Price  Old Price  Discount  Rating  Number of Reviews  Search Ranking  \\\n",
       "0  11000.0        NaN       NaN     4.1                220  Page 1, Rank 1   \n",
       "1  12925.0    15000.0      14.0     4.4                135  Page 1, Rank 2   \n",
       "2  10000.0        NaN       NaN     4.2                151  Page 1, Rank 3   \n",
       "3  14000.0        NaN       NaN     4.5                 29  Page 1, Rank 4   \n",
       "4  10000.0        NaN       NaN     4.3                249  Page 1, Rank 5   \n",
       "\n",
       "   Page  Rank  \n",
       "0     1     1  \n",
       "1     1     2  \n",
       "2     1     3  \n",
       "3     1     4  \n",
       "4     1     5  "
      ]
     },
     "execution_count": 10,
     "metadata": {},
     "output_type": "execute_result"
    }
   ],
   "source": [
    "# Convert Screen Size to float\n",
    "final_df['Screen Size'] = final_df['Screen Size'].astype(float)\n",
    "final_df['Rating'] = final_df['Rating'].astype(float)\n",
    "\n",
    "# Convert RAM and ROM to integer\n",
    "final_df['RAM'] = final_df['RAM'].str.replace('GB', '').astype(int)\n",
    "final_df['ROM'] = final_df['ROM'].str.replace('GB', '').astype(int)\n",
    "\n",
    "# Convert Page and Rank to integer\n",
    "final_df['Page'] = final_df['Page'].astype(int)\n",
    "final_df['Rank'] = final_df['Rank'].astype(int)\n",
    "\n",
    "# Convert Price and Old Price to float\n",
    "final_df['Price'] = final_df['Price'].str.replace(r'[^\\d]', '', regex=True).astype(float)\n",
    "final_df['Old Price'] = final_df['Old Price'].str.replace(r'[^\\d]', '', regex=True).astype(float)\n",
    "\n",
    "# Convert Discount to float\n",
    "final_df['Discount'] = final_df['Discount'].str.replace('%', '').astype(float)\n",
    "\n",
    "# Convert the Reviews to numbers\n",
    "final_df['Number of Reviews'] = final_df['Number of Reviews'].fillna(0).astype(float).astype(int)\n",
    "\n",
    "#View the first 6 rows of the final set\n",
    "final_df.head()\n"
   ]
  },
  {
   "cell_type": "code",
   "execution_count": 11,
   "metadata": {},
   "outputs": [
    {
     "data": {
      "text/plain": [
       "(12000, 14)"
      ]
     },
     "execution_count": 11,
     "metadata": {},
     "output_type": "execute_result"
    }
   ],
   "source": [
    "#Now lets do the inspection of our final DataFrame shape\n",
    "final_df.shape"
   ]
  },
  {
   "cell_type": "code",
   "execution_count": 12,
   "metadata": {},
   "outputs": [
    {
     "name": "stdout",
     "output_type": "stream",
     "text": [
      "<class 'pandas.core.frame.DataFrame'>\n",
      "RangeIndex: 12000 entries, 0 to 11999\n",
      "Data columns (total 14 columns):\n",
      " #   Column             Non-Null Count  Dtype  \n",
      "---  ------             --------------  -----  \n",
      " 0   Brand              12000 non-null  object \n",
      " 1   Screen Size        11100 non-null  float64\n",
      " 2   RAM                12000 non-null  int32  \n",
      " 3   ROM                12000 non-null  int32  \n",
      " 4   Color              9600 non-null   object \n",
      " 5   Warranty           3000 non-null   object \n",
      " 6   Price              12000 non-null  float64\n",
      " 7   Old Price          8101 non-null   float64\n",
      " 8   Discount           8101 non-null   float64\n",
      " 9   Rating             10200 non-null  float64\n",
      " 10  Number of Reviews  12000 non-null  int32  \n",
      " 11  Search Ranking     12000 non-null  object \n",
      " 12  Page               12000 non-null  int32  \n",
      " 13  Rank               12000 non-null  int32  \n",
      "dtypes: float64(5), int32(5), object(4)\n",
      "memory usage: 1.1+ MB\n"
     ]
    }
   ],
   "source": [
    "#To confirm the information of the set\n",
    "final_df.info()"
   ]
  },
  {
   "cell_type": "code",
   "execution_count": 13,
   "metadata": {},
   "outputs": [
    {
     "data": {
      "text/html": [
       "<div>\n",
       "<style scoped>\n",
       "    .dataframe tbody tr th:only-of-type {\n",
       "        vertical-align: middle;\n",
       "    }\n",
       "\n",
       "    .dataframe tbody tr th {\n",
       "        vertical-align: top;\n",
       "    }\n",
       "\n",
       "    .dataframe thead th {\n",
       "        text-align: right;\n",
       "    }\n",
       "</style>\n",
       "<table border=\"1\" class=\"dataframe\">\n",
       "  <thead>\n",
       "    <tr style=\"text-align: right;\">\n",
       "      <th></th>\n",
       "      <th>Screen Size</th>\n",
       "      <th>RAM</th>\n",
       "      <th>ROM</th>\n",
       "      <th>Price</th>\n",
       "      <th>Old Price</th>\n",
       "      <th>Discount</th>\n",
       "      <th>Rating</th>\n",
       "      <th>Number of Reviews</th>\n",
       "      <th>Page</th>\n",
       "      <th>Rank</th>\n",
       "    </tr>\n",
       "  </thead>\n",
       "  <tbody>\n",
       "    <tr>\n",
       "      <th>count</th>\n",
       "      <td>11100.000000</td>\n",
       "      <td>12000.000000</td>\n",
       "      <td>12000.000000</td>\n",
       "      <td>12000.000000</td>\n",
       "      <td>8101.000000</td>\n",
       "      <td>8101.000000</td>\n",
       "      <td>10200.000000</td>\n",
       "      <td>12000.000000</td>\n",
       "      <td>12000.000000</td>\n",
       "      <td>12000.000000</td>\n",
       "    </tr>\n",
       "    <tr>\n",
       "      <th>mean</th>\n",
       "      <td>6.576216</td>\n",
       "      <td>4.500000</td>\n",
       "      <td>128.000000</td>\n",
       "      <td>13735.783250</td>\n",
       "      <td>21325.503024</td>\n",
       "      <td>34.257252</td>\n",
       "      <td>4.297059</td>\n",
       "      <td>79.450000</td>\n",
       "      <td>150.500000</td>\n",
       "      <td>20.500000</td>\n",
       "    </tr>\n",
       "    <tr>\n",
       "      <th>std</th>\n",
       "      <td>0.389371</td>\n",
       "      <td>1.870907</td>\n",
       "      <td>61.970316</td>\n",
       "      <td>4733.589395</td>\n",
       "      <td>7141.805533</td>\n",
       "      <td>12.445535</td>\n",
       "      <td>0.292554</td>\n",
       "      <td>89.613708</td>\n",
       "      <td>86.605668</td>\n",
       "      <td>11.543877</td>\n",
       "    </tr>\n",
       "    <tr>\n",
       "      <th>min</th>\n",
       "      <td>5.000000</td>\n",
       "      <td>1.000000</td>\n",
       "      <td>32.000000</td>\n",
       "      <td>4700.000000</td>\n",
       "      <td>7499.000000</td>\n",
       "      <td>3.000000</td>\n",
       "      <td>3.500000</td>\n",
       "      <td>0.000000</td>\n",
       "      <td>1.000000</td>\n",
       "      <td>1.000000</td>\n",
       "    </tr>\n",
       "    <tr>\n",
       "      <th>25%</th>\n",
       "      <td>6.600000</td>\n",
       "      <td>4.000000</td>\n",
       "      <td>64.000000</td>\n",
       "      <td>10000.000000</td>\n",
       "      <td>14999.000000</td>\n",
       "      <td>24.000000</td>\n",
       "      <td>4.100000</td>\n",
       "      <td>12.500000</td>\n",
       "      <td>75.750000</td>\n",
       "      <td>10.750000</td>\n",
       "    </tr>\n",
       "    <tr>\n",
       "      <th>50%</th>\n",
       "      <td>6.600000</td>\n",
       "      <td>4.000000</td>\n",
       "      <td>128.000000</td>\n",
       "      <td>13399.000000</td>\n",
       "      <td>20000.000000</td>\n",
       "      <td>37.000000</td>\n",
       "      <td>4.300000</td>\n",
       "      <td>46.500000</td>\n",
       "      <td>150.500000</td>\n",
       "      <td>20.500000</td>\n",
       "    </tr>\n",
       "    <tr>\n",
       "      <th>75%</th>\n",
       "      <td>6.710000</td>\n",
       "      <td>4.000000</td>\n",
       "      <td>128.000000</td>\n",
       "      <td>15661.750000</td>\n",
       "      <td>29999.000000</td>\n",
       "      <td>44.000000</td>\n",
       "      <td>4.500000</td>\n",
       "      <td>117.750000</td>\n",
       "      <td>225.250000</td>\n",
       "      <td>30.250000</td>\n",
       "    </tr>\n",
       "    <tr>\n",
       "      <th>max</th>\n",
       "      <td>6.880000</td>\n",
       "      <td>8.000000</td>\n",
       "      <td>256.000000</td>\n",
       "      <td>24999.000000</td>\n",
       "      <td>35000.000000</td>\n",
       "      <td>50.000000</td>\n",
       "      <td>4.800000</td>\n",
       "      <td>420.000000</td>\n",
       "      <td>300.000000</td>\n",
       "      <td>40.000000</td>\n",
       "    </tr>\n",
       "  </tbody>\n",
       "</table>\n",
       "</div>"
      ],
      "text/plain": [
       "        Screen Size           RAM           ROM         Price     Old Price  \\\n",
       "count  11100.000000  12000.000000  12000.000000  12000.000000   8101.000000   \n",
       "mean       6.576216      4.500000    128.000000  13735.783250  21325.503024   \n",
       "std        0.389371      1.870907     61.970316   4733.589395   7141.805533   \n",
       "min        5.000000      1.000000     32.000000   4700.000000   7499.000000   \n",
       "25%        6.600000      4.000000     64.000000  10000.000000  14999.000000   \n",
       "50%        6.600000      4.000000    128.000000  13399.000000  20000.000000   \n",
       "75%        6.710000      4.000000    128.000000  15661.750000  29999.000000   \n",
       "max        6.880000      8.000000    256.000000  24999.000000  35000.000000   \n",
       "\n",
       "          Discount        Rating  Number of Reviews          Page  \\\n",
       "count  8101.000000  10200.000000       12000.000000  12000.000000   \n",
       "mean     34.257252      4.297059          79.450000    150.500000   \n",
       "std      12.445535      0.292554          89.613708     86.605668   \n",
       "min       3.000000      3.500000           0.000000      1.000000   \n",
       "25%      24.000000      4.100000          12.500000     75.750000   \n",
       "50%      37.000000      4.300000          46.500000    150.500000   \n",
       "75%      44.000000      4.500000         117.750000    225.250000   \n",
       "max      50.000000      4.800000         420.000000    300.000000   \n",
       "\n",
       "               Rank  \n",
       "count  12000.000000  \n",
       "mean      20.500000  \n",
       "std       11.543877  \n",
       "min        1.000000  \n",
       "25%       10.750000  \n",
       "50%       20.500000  \n",
       "75%       30.250000  \n",
       "max       40.000000  "
      ]
     },
     "execution_count": 13,
     "metadata": {},
     "output_type": "execute_result"
    }
   ],
   "source": [
    "#Now that the conversion has been done lets also check the statistical data using describe\n",
    "final_df.describe()"
   ]
  },
  {
   "cell_type": "markdown",
   "metadata": {},
   "source": [
    "Now the number of columns have increased after we did the feature splitting from the name column to 14.\n",
    "We also changed converted some columns to numerical so that we can during cleaning fill the null values with the suitable measure of central tendancies.\n",
    "\n",
    "Also we dont seem to see any ouliers from the statistical data. The maximum value under number of reviews is 420 which cant be viewed as an outlier because the buyers reviewed the product for the particular product. "
   ]
  },
  {
   "cell_type": "markdown",
   "metadata": {},
   "source": [
    "##### Top 10 Most Common Phones Visualization"
   ]
  },
  {
   "cell_type": "code",
   "execution_count": 14,
   "metadata": {},
   "outputs": [
    {
     "data": {
      "image/png": "[encoded data removed]",
      "text/plain": [
       "<Figure size 432x288 with 1 Axes>"
      ]
     },
     "metadata": {
      "needs_background": "light"
     },
     "output_type": "display_data"
    }
   ],
   "source": [
    "# Get the top 10 brands\n",
    "top_brands = final_df['Brand'].value_counts().head(10)\n",
    "\n",
    "# Plot using the horizontal bar\n",
    "top_brands.plot(kind='barh')\n",
    "\n",
    "# Add titles and labels\n",
    "plt.title('Top 10 Brands by Count')\n",
    "plt.xlabel('Count')\n",
    "plt.ylabel('Brand')\n",
    "plt.xticks(rotation=90)  \n",
    "\n",
    "# Show the plot\n",
    "plt.show()"
   ]
  },
  {
   "cell_type": "markdown",
   "metadata": {},
   "source": [
    "**Summary**: From the above top 10 brands visualization, we note that IteS23 appears to be the most listed product which could possible imply that this phone is a fast moving product due to deman among customers on the platform followed by Samsung Galaxy A05 and XIOMI Redmi 14C and Tecno POP 8 at a very close range which highlights the competitive landscape in this segment.\n",
    "\n",
    "**Impact**: These findings could inform inventory decisions and marketing strategies to enhance visibility and sales for these trending products."
   ]
  },
  {
   "cell_type": "markdown",
   "metadata": {},
   "source": [
    "#### Top 10 Brands By Number Of Reviews"
   ]
  },
  {
   "cell_type": "code",
   "execution_count": 15,
   "metadata": {},
   "outputs": [
    {
     "data": {
      "image/png": "[encoded data removed]",
      "text/plain": [
       "<Figure size 432x288 with 1 Axes>"
      ]
     },
     "metadata": {
      "needs_background": "light"
     },
     "output_type": "display_data"
    }
   ],
   "source": [
    "# Get the top 10 brands by summing the number of reviews\n",
    "mostly_reviewed = final_df.groupby('Brand')['Number of Reviews'].max().nlargest(10)\n",
    "\n",
    "# Plot using a vertical bar\n",
    "mostly_reviewed.plot(kind='bar')\n",
    "\n",
    "# Add titles and labels\n",
    "plt.title('Top 10 Brands Reviewed')\n",
    "plt.xlabel('Brands')\n",
    "plt.ylabel('Total Number of Reviews')\n",
    "plt.xticks(rotation=90)  \n",
    "\n",
    "# Show the plot\n",
    "plt.show()"
   ]
  },
  {
   "cell_type": "markdown",
   "metadata": {},
   "source": [
    "**Summary**: The product that received the highest numbe rof reviews is the Samsung Galaxy A15 followed by Itel S23 and Xiomi Redmi A3. "
   ]
  },
  {
   "cell_type": "markdown",
   "metadata": {},
   "source": [
    "#### Top 10 Brands By Rating"
   ]
  },
  {
   "cell_type": "code",
   "execution_count": 16,
   "metadata": {},
   "outputs": [
    {
     "data": {
      "image/png": "[encoded data removed]",
      "text/plain": [
       "<Figure size 576x576 with 1 Axes>"
      ]
     },
     "metadata": {},
     "output_type": "display_data"
    }
   ],
   "source": [
    "# Get the top 10 brands by maximum rating\n",
    "top_rated = final_df.groupby('Brand')['Rating'].max().nlargest(10)\n",
    "\n",
    "# Plot using a pie chart\n",
    "plt.figure(figsize=(8, 8))\n",
    "plt.pie(top_rated.values, labels=top_rated.index, autopct='%1.1f%%', startangle=100, colors=plt.cm.Paired.colors)\n",
    "\n",
    "# Add title\n",
    "plt.title('Top 10 Brands by Rating')\n",
    "\n",
    "# Show the plot\n",
    "plt.show()"
   ]
  },
  {
   "cell_type": "markdown",
   "metadata": {},
   "source": [
    "#### Top 10 Brands By Price"
   ]
  },
  {
   "cell_type": "code",
   "execution_count": 17,
   "metadata": {},
   "outputs": [
    {
     "data": {
      "image/png": "[encoded data removed]",
      "text/plain": [
       "<Figure size 432x288 with 1 Axes>"
      ]
     },
     "metadata": {
      "needs_background": "light"
     },
     "output_type": "display_data"
    }
   ],
   "source": [
    "# Get the top 10 brands by summing the number of reviews\n",
    "top_prices = final_df.groupby('Brand')['Price'].max().nlargest(10)\n",
    "\n",
    "# Plot using a vertical bar\n",
    "top_prices.plot(kind='bar')\n",
    "\n",
    "# Add titles and labels\n",
    "plt.title('Top 10 Brands By Price')\n",
    "plt.xlabel('Brands')\n",
    "plt.ylabel('Price')\n",
    "plt.xticks(rotation=90)  \n",
    "\n",
    "# Show the plot\n",
    "plt.show()"
   ]
  },
  {
   "cell_type": "markdown",
   "metadata": {},
   "source": [
    "#### 3.2 Checking for Missing Values"
   ]
  },
  {
   "cell_type": "code",
   "execution_count": 18,
   "metadata": {},
   "outputs": [
    {
     "data": {
      "text/plain": [
       "Brand                   0\n",
       "Screen Size           900\n",
       "RAM                     0\n",
       "ROM                     0\n",
       "Color                2400\n",
       "Warranty             9000\n",
       "Price                   0\n",
       "Old Price            3899\n",
       "Discount             3899\n",
       "Rating               1800\n",
       "Number of Reviews       0\n",
       "Search Ranking          0\n",
       "Page                    0\n",
       "Rank                    0\n",
       "dtype: int64"
      ]
     },
     "execution_count": 18,
     "metadata": {},
     "output_type": "execute_result"
    }
   ],
   "source": [
    "#To check for null values\n",
    "null_values = final_df.isnull().sum()\n",
    "null_values"
   ]
  },
  {
   "cell_type": "markdown",
   "metadata": {},
   "source": [
    "**Summary Finding**:\n",
    "We have null values in the columns Screen Size has 900 null values, Color has 2,400 null values, Warranty has a large number of null values (9,000), Old Price and Discount each have 3,899 null values, Rating has 1,800 null values, Number of Reviews has 300 null values.  We shall handle the missing values in the next phase which is the pre-processing using the simple imputer library ahead of the modeling step. However in the mean time lets use the price amount to fill the null values in the Old Price column and calculate the respective discounts to fill the null values for both columns\n"
   ]
  },
  {
   "cell_type": "code",
   "execution_count": 19,
   "metadata": {},
   "outputs": [
    {
     "data": {
      "text/plain": [
       "Brand                   0\n",
       "Screen Size           900\n",
       "RAM                     0\n",
       "ROM                     0\n",
       "Color                2400\n",
       "Warranty             9000\n",
       "Price                   0\n",
       "Old Price               0\n",
       "Discount                0\n",
       "Rating                  0\n",
       "Number of Reviews       0\n",
       "Search Ranking          0\n",
       "Page                    0\n",
       "Rank                    0\n",
       "dtype: int64"
      ]
     },
     "execution_count": 19,
     "metadata": {},
     "output_type": "execute_result"
    }
   ],
   "source": [
    "#Fill the null values in the column Old Price with the current price of the phone\n",
    "final_df['Old Price'] = final_df['Old Price'].fillna(final_df['Price'])\n",
    "#Calculate the discounts from the Old Price and Current Price\n",
    "final_df['Discount'] = final_df['Discount'].fillna((final_df['Old Price'] - final_df['Price']) / 100)\n",
    "#For the Ratings fill 0 as it potentially mean that the product has not yet been rated or shipped.\n",
    "final_df['Rating'] = final_df['Rating'].fillna(0)\n",
    "#Check for the null values\n",
    "final_df.isnull().sum()"
   ]
  },
  {
   "cell_type": "markdown",
   "metadata": {},
   "source": [
    "#### 3.3 Checking For Duplicates"
   ]
  },
  {
   "cell_type": "code",
   "execution_count": 20,
   "metadata": {},
   "outputs": [
    {
     "data": {
      "text/plain": [
       "0"
      ]
     },
     "execution_count": 20,
     "metadata": {},
     "output_type": "execute_result"
    }
   ],
   "source": [
    "#To check for Duplicates\n",
    "final_df.duplicated().sum()"
   ]
  },
  {
   "cell_type": "markdown",
   "metadata": {},
   "source": [
    "#### Heatmap to visualize patterns"
   ]
  },
  {
   "cell_type": "code",
   "execution_count": 21,
   "metadata": {},
   "outputs": [
    {
     "data": {
      "image/png": "[encoded data removed]",
      "text/plain": [
       "<Figure size 720x576 with 2 Axes>"
      ]
     },
     "metadata": {
      "needs_background": "light"
     },
     "output_type": "display_data"
    }
   ],
   "source": [
    "# Correlation matrix in the variable name correlation matrix\n",
    "correlation_matrix = final_df.corr()\n",
    "\n",
    "# Plotting the heatmap\n",
    "plt.figure(figsize=(10, 8))\n",
    "sns.heatmap(correlation_matrix, annot=True, cmap='coolwarm', vmin=-1, vmax=1, square=True)\n",
    "plt.title(\"Correlation Matrix\")\n",
    "plt.show()"
   ]
  },
  {
   "cell_type": "code",
   "execution_count": 22,
   "metadata": {},
   "outputs": [
    {
     "data": {
      "text/plain": [
       "Price                1.000000\n",
       "Old Price            0.778953\n",
       "ROM                  0.676142\n",
       "RAM                  0.533064\n",
       "Screen Size          0.466857\n",
       "Rating               0.106853\n",
       "Rank                 0.071768\n",
       "Number of Reviews    0.045858\n",
       "Page                 0.000060\n",
       "Discount            -0.037581\n",
       "Name: Price, dtype: float64"
      ]
     },
     "execution_count": 22,
     "metadata": {},
     "output_type": "execute_result"
    }
   ],
   "source": [
    "final_df.corr()['Price'].sort_values(ascending=False)"
   ]
  },
  {
   "cell_type": "markdown",
   "metadata": {},
   "source": [
    "**Summary**: The strongest predictors of price in this dataset are the Old Price, ROM, and RAM, which show significant positive correlations. In contrast, features like Rank, Number of Reviews, and Discount have minimal or negligible relationships with price, suggesting that they may not be good predictors for pricing strategy or analysis."
   ]
  },
  {
   "cell_type": "markdown",
   "metadata": {},
   "source": [
    "### 4 Data Pre-Processing\n",
    "1. First we handle missing values to ensure data consistency ahead of the training our model.\n",
    "2. Split the Data. In order to have the training, validation and test data to evaluate the model performance.\n",
    "3. Handle Categorical Data: This step enables the model to interpret categorical data meaningfully, allowing it to capture relationships between categories and improving overall model performance\n",
    "4. Standardize the Data: This improves model performance, convergence speed and stability by preventing features with larger ranges from disproportionately influencing the model."
   ]
  },
  {
   "cell_type": "markdown",
   "metadata": {},
   "source": [
    "#### Import The Relevant Libraries"
   ]
  },
  {
   "cell_type": "code",
   "execution_count": 23,
   "metadata": {},
   "outputs": [],
   "source": [
    "from sklearn.preprocessing import StandardScaler, OneHotEncoder\n",
    "from sklearn.model_selection import train_test_split\n",
    "from sklearn.impute import SimpleImputer\n",
    "from sklearn.compose import ColumnTransformer\n",
    "from sklearn.pipeline import Pipeline\n",
    "import warnings\n",
    "warnings.filterwarnings(\"ignore\")"
   ]
  },
  {
   "cell_type": "markdown",
   "metadata": {},
   "source": [
    "#### 4.1 Splitting the Data"
   ]
  },
  {
   "cell_type": "code",
   "execution_count": 24,
   "metadata": {},
   "outputs": [
    {
     "name": "stdout",
     "output_type": "stream",
     "text": [
      "Training size: 9000\n",
      "Validation size: 1800\n",
      "Test size: 1200\n"
     ]
    }
   ],
   "source": [
    "#Select the x and y variables \n",
    "columns_to_drop = final_df[['Warranty', 'Search Ranking']] #Using domain knowledge this is unlikely to influence price\n",
    "X = final_df.drop(columns=['Price', 'Warranty', 'Search Ranking'])\n",
    "\n",
    "# Define the target variable y as 'Price'\n",
    "y = final_df['Price']\n",
    "\n",
    "#Split using the Train_test split into training, validation and test data\n",
    "#Test size as 15% for Validation and 10% for test data. Random State 42 for reproducibility\n",
    "X_temp, X_test, y_temp, y_test = train_test_split(X, y, test_size=0.10, random_state=42)\n",
    "X_train, X_val, y_train, y_val = train_test_split(X_temp, y_temp, test_size = 0.15 / 0.90, random_state=42)\n",
    "print(f\"Training size:\", len(X_train))\n",
    "print(f\"Validation size:\", len(X_val))\n",
    "print(f\"Test size:\", len(X_test))"
   ]
  },
  {
   "cell_type": "markdown",
   "metadata": {},
   "source": [
    "#### 4.2 Handling Missing Values Using Simple Imputer\n",
    "Visualization to View the distribution of Missing values"
   ]
  },
  {
   "cell_type": "code",
   "execution_count": 25,
   "metadata": {},
   "outputs": [
    {
     "data": {
      "image/png": "[encoded data removed]",
      "text/plain": [
       "<Figure size 720x432 with 1 Axes>"
      ]
     },
     "metadata": {
      "needs_background": "light"
     },
     "output_type": "display_data"
    }
   ],
   "source": [
    "# Plotting the heatmap to show missing values\n",
    "plt.figure(figsize=(10, 6))\n",
    "sns.heatmap(X_train.isnull(), cbar=False, cmap='viridis', yticklabels=False)\n",
    "plt.title(\"Missing Data Heatmap\")\n",
    "plt.show()"
   ]
  },
  {
   "cell_type": "markdown",
   "metadata": {},
   "source": [
    "**Summary**: From the above visuals we note that we have missing values only in the Color column and Screen Size. Whose datatype is an object and integer respectively. We shall proceed to fill the missing values using Simple Imputer with the value \"Unknown Color\" why because using domain knowledge color does not strongly influence the price of the phone unless its a very rare color in the market. Also filling the null value with most frequent might negatively influence our model as it might not give the accurate assumption of our model.\n",
    "\n",
    "For the Screen Size we shall fill with the most frequent size.\n",
    "\n",
    "The following code involves using Pipelines to pre-process our data. First we handle missing values for the numeric feature using the modt frequent as the strategy and fill null value as Unknown Color for the Categorical feature color. Then we proceed to encode categorical features that is brand and Color and lastly standardize our data. We used pipelines to preprocess our data as this is an  essential step in building machine learning models. It helps to streamline the process, maintain clean code, and avoid data leakage leading to more robust models. "
   ]
  },
  {
   "cell_type": "code",
   "execution_count": 26,
   "metadata": {},
   "outputs": [
    {
     "name": "stdout",
     "output_type": "stream",
     "text": [
      "Shape of X_train_processed_df: (9000, 47)\n",
      "Shape of X_val_processed_df: (1800, 47)\n",
      "Shape of X_test_processed_df: (1200, 47)\n"
     ]
    }
   ],
   "source": [
    "# Define preprocessing for numeric and categorical features\n",
    "numeric_features = X_train.select_dtypes(include=['float64', 'int32']).columns\n",
    "categorical_features = X_train.select_dtypes(include=['object']).columns\n",
    "\n",
    "# Pipeline for numeric features (scaling)\n",
    "numeric_transformer = Pipeline(steps=[\n",
    "    ('imputer', SimpleImputer(strategy='most_frequent')),\n",
    "    ('scaler', StandardScaler())\n",
    "])\n",
    "\n",
    "# Pipeline for categorical features (imputation and encoding)\n",
    "categorical_transformer = Pipeline(steps=[\n",
    "    ('imputer', SimpleImputer(strategy='constant', fill_value='Unknown Color')),\n",
    "    ('encoder', OneHotEncoder(handle_unknown='ignore', sparse=False))\n",
    "])\n",
    "\n",
    "# Combine numeric and categorical transformers\n",
    "preprocessor = ColumnTransformer(\n",
    "    transformers=[\n",
    "        ('num', numeric_transformer, numeric_features),\n",
    "        ('cat', categorical_transformer, categorical_features)\n",
    "    ]\n",
    ")\n",
    "\n",
    "# Apply preprocessing pipeline to training, validation, and test data\n",
    "X_train_processed = preprocessor.fit_transform(X_train)  # Fit and Transform the Training set\n",
    "X_val_processed = preprocessor.transform(X_val)  # Only transform the Validation set\n",
    "X_test_processed = preprocessor.transform(X_test)  # Transform the Test set\n",
    "\n",
    "# Get the names of the transformed columns\n",
    "# This will handle the column names for both numeric and categorical features\n",
    "numeric_col_names = numeric_features\n",
    "categorical_col_names = preprocessor.named_transformers_['cat']['encoder'].get_feature_names_out(categorical_features)\n",
    "\n",
    "# Combine numeric and categorical feature names\n",
    "all_feature_names = pd.Index(numeric_col_names).append(pd.Index(categorical_col_names))\n",
    "\n",
    "# Create DataFrames with proper shapes\n",
    "X_train_processed_df = pd.DataFrame(X_train_processed, index=X_train.index, columns=all_feature_names)\n",
    "X_val_processed_df = pd.DataFrame(X_val_processed, index=X_val.index, columns=all_feature_names[:X_val_processed.shape[1]])  # Adjusting to the right shape\n",
    "X_test_processed_df = pd.DataFrame(X_test_processed, index=X_test.index, columns=all_feature_names[:X_test_processed.shape[1]])  # Adjusting to the right shape\n",
    "X_train_processed_df.head()\n",
    "\n",
    "# Print the processed DataFrames and their shapes\n",
    "print(\"Shape of X_train_processed_df:\", X_train_processed_df.shape)\n",
    "\n",
    "print(\"Shape of X_val_processed_df:\", X_val_processed_df.shape)\n",
    "\n",
    "print(\"Shape of X_test_processed_df:\", X_test_processed_df.shape)"
   ]
  },
  {
   "cell_type": "code",
   "execution_count": 59,
   "metadata": {},
   "outputs": [
    {
     "data": {
      "text/plain": [
       "Index(['Screen Size', 'RAM', 'ROM', 'Old Price', 'Discount', 'Rating',\n",
       "       'Number of Reviews', 'Page', 'Rank', 'Brand_Infinix Hot',\n",
       "       'Brand_Infinix Hot 40I', 'Brand_Infinix Smart 8', 'Brand_Itel A18',\n",
       "       'Brand_Itel S23', 'Brand_Oale Pop 8', 'Brand_Oppo A17K',\n",
       "       'Brand_Oppo A83 4Gb Ram', 'Brand_Samsung  Galaxy A05S',\n",
       "       'Brand_Samsung Galaxy A05', 'Brand_Samsung Galaxy A05S',\n",
       "       'Brand_Samsung Galaxy A15', 'Brand_Tecno Pop 8',\n",
       "       'Brand_Tecno Pova 6 Neo', 'Brand_Tecno Spark', 'Brand_Tecno Spark 20',\n",
       "       'Brand_Tecno Spark 20C', 'Brand_Villaon V20 Se',\n",
       "       'Brand_Xiaomi Redmi 13C', 'Brand_Xiaomi Redmi 14C',\n",
       "       'Brand_Xiaomi Redmi A3', 'Brand_Xiaomi Redmi Note 13', 'Color_Black',\n",
       "       'Color_Blue', 'Color_Crystal Green', 'Color_Cyber White',\n",
       "       'Color_Elemental Blue', 'Color_Energetic Orange', 'Color_Gravity Black',\n",
       "       'Color_Luxurious Gold', 'Color_Midnight Black', 'Color_Mystery White',\n",
       "       'Color_Navy Blue', 'Color_Shiny Gold', 'Color_Silver',\n",
       "       'Color_Speed Black', 'Color_Starry Black', 'Color_None'],\n",
       "      dtype='object')"
      ]
     },
     "execution_count": 59,
     "metadata": {},
     "output_type": "execute_result"
    }
   ],
   "source": [
    "X_train_processed_df.columns"
   ]
  },
  {
   "cell_type": "markdown",
   "metadata": {},
   "source": [
    "**Summary**: From the code above we note that the brand names and colors are now columns in our dataset therefore increasing our columns to 47.Let us proceed to do the Modeling now that our data is now clean and standardized."
   ]
  },
  {
   "cell_type": "markdown",
   "metadata": {},
   "source": [
    "## Modeling\n",
    "We shall commence with our baseline model as a linear regression where our variables are as defined in the X (independent variable) and price of the phone as y variable. Our model aims to predict the price of the phone based on the brand. \n",
    "\n",
    "#### 1.1 Linear Regression"
   ]
  },
  {
   "cell_type": "code",
   "execution_count": 27,
   "metadata": {},
   "outputs": [],
   "source": [
    "#Import Relevant Libraries\n",
    "from sklearn.linear_model import LinearRegression, Ridge, Lasso\n",
    "from sklearn.metrics import mean_absolute_error, r2_score, mean_squared_error\n",
    "from sklearn.model_selection import cross_val_score, GridSearchCV\n",
    "from sklearn.preprocessing import PolynomialFeatures\n",
    "from sklearn.tree import DecisionTreeRegressor\n",
    "from sklearn.ensemble import GradientBoostingRegressor, RandomForestRegressor\n",
    "from xgboost import XGBRegressor\n",
    "from sklearn.svm import SVR\n"
   ]
  },
  {
   "cell_type": "code",
   "execution_count": 28,
   "metadata": {},
   "outputs": [
    {
     "name": "stdout",
     "output_type": "stream",
     "text": [
      "Mean Absolute Error: 9.29099365344478e-12\n"
     ]
    },
    {
     "data": {
      "image/png": "[encoded data removed]",
      "text/plain": [
       "<Figure size 576x432 with 1 Axes>"
      ]
     },
     "metadata": {
      "needs_background": "light"
     },
     "output_type": "display_data"
    }
   ],
   "source": [
    "# Fit the model\n",
    "baseline_model = LinearRegression()\n",
    "baseline_model.fit(X_train_processed, y_train)\n",
    "\n",
    "# Predict\n",
    "y_hat_val = baseline_model.predict(X_val_processed)\n",
    "\n",
    "# Calculate MAE\n",
    "mae = mean_absolute_error(y_val, y_hat_val)\n",
    "print(f\"Mean Absolute Error:\", mae)\n",
    "\n",
    "# Calculate residuals\n",
    "residuals = y_val - y_hat_val\n",
    "\n",
    "# Plot residuals\n",
    "plt.figure(figsize=(8, 6))\n",
    "sns.scatterplot(x=y_hat_val, y=residuals)\n",
    "plt.axhline(0, color='red', linestyle='--')\n",
    "plt.xlabel(\"Predicted Values\")\n",
    "plt.ylabel(\"Residuals\")\n",
    "plt.title(\"Residuals vs. Predicted Values\")\n",
    "plt.show()"
   ]
  },
  {
   "cell_type": "markdown",
   "metadata": {},
   "source": [
    "#### K-Folds On Baseline Model"
   ]
  },
  {
   "cell_type": "code",
   "execution_count": 29,
   "metadata": {},
   "outputs": [
    {
     "name": "stdout",
     "output_type": "stream",
     "text": [
      "Cross-validated Training MAE: 0.10369309292968672\n"
     ]
    }
   ],
   "source": [
    "# Calculate cross-validation MAE scores on training data\n",
    "cv_mae_baseline = cross_val_score(baseline_model, X_train_processed, y_train, \n",
    "                                cv=5, scoring='neg_mean_absolute_error')\n",
    "mean_cv_mae = -cv_mae_baseline.mean()  \n",
    "print(f\"Cross-validated Training MAE: {mean_cv_mae}\")"
   ]
  },
  {
   "cell_type": "markdown",
   "metadata": {},
   "source": [
    "**Summary**: Baseline MAE (9.29e-12): Indicates a nearly perfect fit to the training data, likely resulting from overfitting.\n",
    "Cross-Validated MAE (0.1037): Reflects the model's error on validation folds, providing a more realistic estimate of performance on new data and revealing that the model’s performance is not as perfect outside of the training data.\n",
    "This comparison highlights that the baseline model is likely overfitted, while the cross-validated MAE is a more reliable measure of generalization error."
   ]
  },
  {
   "cell_type": "markdown",
   "metadata": {},
   "source": [
    "Applying Ridge Regularization (also known as L2 regularization) to your baseline model can help control overfitting by adding a penalty to large coefficients, which effectively shrinks them. This approach reduces the model’s tendency to overly fit to the noise in the training data, improving its generalization ability to unseen data."
   ]
  },
  {
   "cell_type": "code",
   "execution_count": 30,
   "metadata": {},
   "outputs": [
    {
     "name": "stdout",
     "output_type": "stream",
     "text": [
      "Train MAE: 39.775424872889026\n",
      "Validation MAE: 39.05353070930341\n"
     ]
    }
   ],
   "source": [
    "# Ridge Regression\n",
    "ridge = Ridge()  \n",
    "ridge.fit(X_train_processed, y_train)\n",
    "\n",
    "# Predict\n",
    "y_hat_train = ridge.predict(X_train_processed)\n",
    "y_hat_val = ridge.predict(X_val_processed)\n",
    "\n",
    "# Calculate MAE\n",
    "train_mae = mean_absolute_error(y_train, y_hat_train)\n",
    "val_mae = mean_absolute_error(y_val, y_hat_val)\n",
    "print(f\"Train MAE:\", (train_mae))\n",
    "print(f\"Validation MAE:\", (val_mae))\n",
    "\n"
   ]
  },
  {
   "cell_type": "markdown",
   "metadata": {},
   "source": [
    "On the Regularized Model, proceed to do the Hyperparameter Tuning in order to establish the best alpha degree. "
   ]
  },
  {
   "cell_type": "code",
   "execution_count": 31,
   "metadata": {},
   "outputs": [
    {
     "name": "stdout",
     "output_type": "stream",
     "text": [
      "Best alpha: 0.01\n",
      "Best Validation MAE: 0.8084455298064664\n"
     ]
    }
   ],
   "source": [
    "# Define parameter grid with different degree\n",
    "param_grid = {'alpha': [0.01, 0.1, 1, 10, 100]}\n",
    "ridge = Ridge()\n",
    "grid_search = GridSearchCV(ridge, param_grid, scoring='neg_mean_absolute_error', cv=5)\n",
    "grid_search.fit(X_train_processed, y_train)\n",
    "\n",
    "print(\"Best alpha:\", grid_search.best_params_['alpha'])\n",
    "print(\"Best Validation MAE:\", -grid_search.best_score_)"
   ]
  },
  {
   "cell_type": "markdown",
   "metadata": {},
   "source": [
    "**Summary**:  The baseline model has a very low MAE which suggests that the model’s predictions are extremely close to the actual values. An MAE this low is unusual for real-world data, which might indicate overfitting. Thus why we introduced the regularization technique Ridge and trained out model with this. The MAE result is 39.05 which is more realistic in real world. Regularization typically increases error on the training set to help improve performance on unseen data. We shall proceed to do the Hyperparameter tuning on the alpha level to determine the best search. With this in place we were able to tell the best alpha score which gave us an MAE of 0.81kes. \n",
    "\n",
    "This residual plot above suggests there may be a non-linear relationship in our data. Ideally in a linear model the residuals are expected to be randomly scattered around zero without any clear pattern. However, in this plot, there is a slight clustering and potential structure among the points, indicating that a linear model may not fully capture the relationship between the features. We shall therefore also venture into polynomial model."
   ]
  },
  {
   "cell_type": "markdown",
   "metadata": {},
   "source": [
    "### 1.2 Polynomial Regression\n",
    "Polynomial regression would help capture these kinds of non-linear patterns, which could lead to better accuracy than a linear model. We shall therefore try this as well."
   ]
  },
  {
   "cell_type": "code",
   "execution_count": 32,
   "metadata": {},
   "outputs": [
    {
     "name": "stdout",
     "output_type": "stream",
     "text": [
      "Validation Mean Absolute Error: 1.1814336176030338e-11\n",
      "Validation R-squared: 1.0\n"
     ]
    }
   ],
   "source": [
    "# Apply Polynomial Transformation\n",
    "degree = 2\n",
    "poly_transformer = PolynomialFeatures(degree=degree)\n",
    "\n",
    "# Transform training and validation sets\n",
    "X_train_poly = poly_transformer.fit_transform(X_train_processed)\n",
    "X_val_poly = poly_transformer.transform(X_val_processed)\n",
    "X_test_poly = poly_transformer.transform(X_test_processed)\n",
    "\n",
    "# Train a Linear Regression model on the polynomial features\n",
    "model = LinearRegression()\n",
    "model.fit(X_train_poly, y_train)\n",
    "\n",
    "# Evaluate the model on the validation set\n",
    "y_val_pred = model.predict(X_val_poly)\n",
    "val_mae = mean_absolute_error(y_val, y_val_pred)\n",
    "val_r2 = r2_score(y_val, y_val_pred)\n",
    "\n",
    "print(f\"Validation Mean Absolute Error: {val_mae}\")\n",
    "print(f\"Validation R-squared: {val_r2}\")\n"
   ]
  },
  {
   "cell_type": "code",
   "execution_count": 33,
   "metadata": {},
   "outputs": [
    {
     "name": "stdout",
     "output_type": "stream",
     "text": [
      "Cross-validated Training MAE: 0.4137351776419055\n"
     ]
    }
   ],
   "source": [
    "from sklearn.linear_model import RidgeCV\n",
    "# Define a pipeline that includes polynomial feature transformation and Ridge regression\n",
    "pipeline = Pipeline([\n",
    "    ('poly_features', PolynomialFeatures(degree=2, include_bias=False)),\n",
    "    ('ridge_reg', RidgeCV(alphas=[0.1, 1.0, 10.0, 100.0], cv=5))\n",
    "])\n",
    "\n",
    "# Calculate cross-validation MAE scores on training data\n",
    "cv_mae_scores = cross_val_score(pipeline, X_train_processed, y_train, \n",
    "                                cv=5, scoring='neg_mean_absolute_error')\n",
    "mean_cv_mae = -cv_mae_scores.mean()  # Convert negative MAE to positive for interpretation\n",
    "print(f\"Cross-validated Training MAE: {mean_cv_mae}\")"
   ]
  },
  {
   "cell_type": "markdown",
   "metadata": {},
   "source": [
    "**Summary**: The unregularized polynomial model is overfitting as evidenced by the extremely low MAE and perfect R-squared suggesting it is unlikely to generalize well to new data.\n",
    "The regularized model, with a cross-validated MAE of 0.414, offers a more reliable performance estimate. Regularization effectively controls overfitting leading to a model that is better suited for generalization.\n",
    "Regularization improved the model’s robustness by reducing overfitting which should make it more dependable for predictions on unseen data."
   ]
  },
  {
   "cell_type": "markdown",
   "metadata": {},
   "source": [
    "### 1.3 Decision Tree Regressor"
   ]
  },
  {
   "cell_type": "code",
   "execution_count": 34,
   "metadata": {},
   "outputs": [
    {
     "name": "stdout",
     "output_type": "stream",
     "text": [
      "Training MAE: 73.8984688153171\n",
      "Training MSE: 32573.83259464985\n",
      "Training R2: 0.9985411108334952\n",
      "\n",
      "\n",
      "Validation MAE: 70.18790014137667\n",
      "Validation MSE: 30371.712868298226\n",
      "Validation R2: 0.9986935673886569\n"
     ]
    }
   ],
   "source": [
    "#Instantialize the Decision Tree Regressor\n",
    "dt = DecisionTreeRegressor(\n",
    "    max_depth=10,\n",
    "    min_samples_split=20,\n",
    "    min_samples_leaf=5,\n",
    "    max_features='sqrt',\n",
    "    random_state=42\n",
    ")\n",
    "# Fit the model on the processed training data\n",
    "dt.fit(X_train_processed, y_train)\n",
    "\n",
    "# Get predictions for the training and validation sets\n",
    "y_hat_train = dt.predict(X_train_processed)\n",
    "y_hat_val = dt.predict(X_val_processed)\n",
    "\n",
    "# Calculate the MAE for the training and validation sets\n",
    "train_mae = mean_absolute_error(y_train, y_hat_train)\n",
    "train_mse = mean_squared_error(y_train, y_hat_train)\n",
    "train_r2 = r2_score(y_train, y_hat_train)\n",
    "\n",
    "val_mae = mean_absolute_error(y_val, y_hat_val)\n",
    "val_mse = mean_squared_error(y_val, y_hat_val)\n",
    "val_r2 = r2_score(y_val, y_hat_val)\n",
    "\n",
    "# Print the results\n",
    "print(f\"Training MAE: {train_mae}\")\n",
    "print(f\"Training MSE: {train_mse}\")\n",
    "print(f\"Training R2: {train_r2}\")\n",
    "print(\"\\n\")\n",
    "print(f\"Validation MAE: {val_mae}\")\n",
    "print(f\"Validation MSE: {val_mse}\")\n",
    "print(f\"Validation R2: {val_r2}\")\n",
    "\n"
   ]
  },
  {
   "cell_type": "markdown",
   "metadata": {},
   "source": [
    "The decision tree's high R-squared on both training and validation sets (0.998+) suggests a strong fit but possibly with some overfitting.\n"
   ]
  },
  {
   "cell_type": "markdown",
   "metadata": {},
   "source": [
    "### 1.4 Random Forest"
   ]
  },
  {
   "cell_type": "code",
   "execution_count": 35,
   "metadata": {},
   "outputs": [
    {
     "name": "stdout",
     "output_type": "stream",
     "text": [
      "Train Mean Absolute Error:144.7863745572217\n",
      "Train Squared Error: 39899.75497158073\n",
      "Train R-squared: 0.9982130036401121\n",
      "\n",
      "\n",
      "Val Mean Absolute Error:142.5223542652447\n",
      "Val Squared Error: 39235.83223296235\n",
      "Val R-squared: 0.9983122792255871\n"
     ]
    }
   ],
   "source": [
    "#Instantialize the Regressor model\n",
    "rf = RandomForestRegressor(n_estimators=50, max_depth=10, min_samples_leaf=5, min_samples_split=20, max_features='sqrt', random_state=42)\n",
    "#Fit the model\n",
    "rf.fit(X_train_processed, y_train)\n",
    "# Predict on the validation and train set\n",
    "y_pred_train = rf.predict(X_train_processed)\n",
    "y_pred_val = rf.predict(X_val_processed)\n",
    "\n",
    "#calculate the metrics value on train set\n",
    "mae_train = mean_absolute_error(y_train, y_pred_train)\n",
    "mse_train = mean_squared_error(y_train, y_pred_train)\n",
    "r2_train = r2_score(y_train, y_pred_train)\n",
    "\n",
    "#calculate the metrics value on validation set\n",
    "mae = mean_absolute_error(y_val, y_pred_val)\n",
    "mse = mean_squared_error(y_val, y_pred_val)\n",
    "r2 = r2_score(y_val, y_pred_val)\n",
    "\n",
    "print(f\"Train Mean Absolute Error:{mae_train}\")\n",
    "print(f\"Train Squared Error: {mse_train}\")\n",
    "print(f\"Train R-squared: {r2_train}\")\n",
    "print(\"\\n\")\n",
    "print(f\"Val Mean Absolute Error:{mae}\")\n",
    "print(f\"Val Squared Error: {mse}\")\n",
    "print(f\"Val R-squared: {r2}\")"
   ]
  },
  {
   "cell_type": "markdown",
   "metadata": {},
   "source": [
    "#### Hyperparameter Tuning The Random Forest"
   ]
  },
  {
   "cell_type": "code",
   "execution_count": 36,
   "metadata": {},
   "outputs": [
    {
     "name": "stdout",
     "output_type": "stream",
     "text": [
      "Fitting 5 folds for each of 324 candidates, totalling 1620 fits\n",
      "Best parameters found:  {'max_depth': None, 'max_features': 'log2', 'min_samples_leaf': 1, 'min_samples_split': 2, 'n_estimators': 300}\n",
      "Validation MAE: 0.5081203703703664\n",
      "Validation MSE: 14.249898462963062\n",
      "Validation R-squared: 0.9999993870437225\n"
     ]
    }
   ],
   "source": [
    "# Define parameter grid\n",
    "param_grid = {\n",
    "    'n_estimators': [100, 200, 300],\n",
    "    'max_depth': [5, 10, 15, None],\n",
    "    'min_samples_leaf': [1, 2, 5],\n",
    "    'min_samples_split': [2, 5, 10],\n",
    "    'max_features': ['auto', 'sqrt', 'log2']\n",
    "}\n",
    "\n",
    "# Initialize the model\n",
    "rf = RandomForestRegressor(random_state=42)\n",
    "\n",
    "# Set up GridSearchCV\n",
    "grid_search = GridSearchCV(estimator=rf, param_grid=param_grid, cv=5, n_jobs=-1, scoring='neg_mean_squared_error', verbose=2)\n",
    "grid_search.fit(X_train_processed, y_train)\n",
    "\n",
    "# Get the best parameters\n",
    "print(\"Best parameters found: \", grid_search.best_params_)\n",
    "\n",
    "# Use the best model found\n",
    "best_rf = grid_search.best_estimator_\n",
    "\n",
    "# Evaluate on validation set\n",
    "y_pred_val = best_rf.predict(X_val_processed)\n",
    "val_mae = mean_absolute_error(y_val, y_pred_val)\n",
    "val_mse = mean_squared_error(y_val, y_pred_val)\n",
    "val_r2 = r2_score(y_val, y_pred_val)\n",
    "\n",
    "print(f\"Validation MAE: {val_mae}\")\n",
    "print(f\"Validation MSE: {val_mse}\")\n",
    "print(f\"Validation R-squared: {val_r2}\")"
   ]
  },
  {
   "cell_type": "markdown",
   "metadata": {},
   "source": [
    "#### Results on Test Data"
   ]
  },
  {
   "cell_type": "code",
   "execution_count": 37,
   "metadata": {},
   "outputs": [
    {
     "name": "stdout",
     "output_type": "stream",
     "text": [
      "Test MAE: 0.7674305555555527\n",
      "Test MSE: 26.812265509259007\n",
      "Test R-squared: 0.9999987643511701\n"
     ]
    }
   ],
   "source": [
    "#Prredict on Test data\n",
    "y_pred_test = best_rf.predict(X_test_processed)\n",
    "#Metrics on test set\n",
    "test_mae = mean_absolute_error(y_test, y_pred_test)\n",
    "test_mse= mean_squared_error(y_test, y_pred_test)\n",
    "test_r2 = r2_score(y_test, y_pred_test)\n",
    "#print the results\n",
    "print(f\"Test MAE: {test_mae}\")\n",
    "print(f\"Test MSE: {test_mse}\")\n",
    "print(f\"Test R-squared: {test_r2}\")"
   ]
  },
  {
   "cell_type": "markdown",
   "metadata": {},
   "source": [
    "**Summary**  The decision tree model outperforms the first random forest model primarily due to its lower MAE and MSE, which suggest it has finer precision on both training and validation data. Tuning the Random Forest model has optimizes it to capture nearly all the variance in the data and minimize error suggesting that the Random Forest model is now well-suited to our data.It also achieves remarkable accuracy on the test data with only a minor performance dip between validation and test results. This small difference confirms the model is not overfitting and maintains its accuracy on new data"
   ]
  },
  {
   "cell_type": "markdown",
   "metadata": {},
   "source": [
    "### 1.5 Gradient Boosting Regressor"
   ]
  },
  {
   "cell_type": "code",
   "execution_count": 38,
   "metadata": {},
   "outputs": [
    {
     "name": "stdout",
     "output_type": "stream",
     "text": [
      "Train Mean Absolute Error:23.63411277644464\n",
      "Train Squared Error: 875.3282890860943\n",
      "Train R-squared: 0.9999607965395422\n",
      "\n",
      "\n",
      "Val Mean Absolute Error:23.69746406360472\n",
      "Val Squared Error: 838.0648705555379\n",
      "Val R-squared: 0.9999639508221988\n"
     ]
    }
   ],
   "source": [
    "# Instantiate the model\n",
    "gbr = GradientBoostingRegressor(random_state=42)\n",
    "#Fit the model\n",
    "gbr.fit(X_train_processed, y_train)\n",
    "#Predict on the train and validation set\n",
    "y_pred_train = gbr.predict(X_train_processed)\n",
    "y_pred_val = gbr.predict(X_val_processed)\n",
    "#MAE, MSE and R2 score on Train Data\n",
    "train_mae = mean_absolute_error(y_train, y_pred_train)\n",
    "train_mse = mean_squared_error(y_train, y_pred_train)\n",
    "train_r2 = r2_score(y_train, y_pred_train)\n",
    "#MAE, MSE and R2 score on Validation Data\n",
    "val_mae = mean_absolute_error(y_val, y_pred_val)\n",
    "val_mse = mean_squared_error(y_val, y_pred_val)\n",
    "val_r2 = r2_score(y_val, y_pred_val)\n",
    "\n",
    "print(f\"Train Mean Absolute Error:{train_mae}\")\n",
    "print(f\"Train Squared Error: {train_mse}\")\n",
    "print(f\"Train R-squared: {train_r2}\")\n",
    "print(\"\\n\")\n",
    "print(f\"Val Mean Absolute Error:{val_mae}\")\n",
    "print(f\"Val Squared Error: {val_mse}\")\n",
    "print(f\"Val R-squared: {val_r2}\")\n"
   ]
  },
  {
   "cell_type": "code",
   "execution_count": 39,
   "metadata": {},
   "outputs": [
    {
     "name": "stdout",
     "output_type": "stream",
     "text": [
      "Test Mean Absolute Error: 23.3195541552628\n",
      "Test Mean Squared Error: 824.8193698339466\n",
      "Test R-squared: 0.999961988027873\n"
     ]
    }
   ],
   "source": [
    "# Predict on the test set\n",
    "y_pred_test = gbr.predict(X_test_processed)\n",
    "\n",
    "# Calculate MAE, MSE, and R2 score on the test data\n",
    "test_mae = mean_absolute_error(y_test, y_pred_test)\n",
    "test_mse = mean_squared_error(y_test, y_pred_test)\n",
    "test_r2 = r2_score(y_test, y_pred_test)\n",
    "\n",
    "# Print the test results\n",
    "print(f\"Test Mean Absolute Error: {test_mae}\")\n",
    "print(f\"Test Mean Squared Error: {test_mse}\")\n",
    "print(f\"Test R-squared: {test_r2}\")"
   ]
  },
  {
   "cell_type": "markdown",
   "metadata": {},
   "source": [
    "**Summary**: The Gradient Boosting Regressor model has achieved excellent performance on both the training and validation data. Training Performance:\n",
    "\n",
    "Mean Absolute Error (MAE): 23.63 – On average, the model's predictions on training data deviate from actual values by only 23.63 units.\n",
    "Mean Squared Error (MSE): 875.33 – This low MSE indicates minimal large errors in training predictions.\n",
    "R-squared (R²): 0.99996 – The model captures 99.996% of the variance in the training data, showing an extremely high fit.\n",
    "Validation Performance:\n",
    "\n",
    "Mean Absolute Error (MAE): 23.70 – On validation data, predictions deviate from actual values by an average of 23.70 units, nearly the same as in training.\n",
    "Mean Squared Error (MSE): 838.06 – This low MSE on validation data indicates consistency in prediction accuracy.\n",
    "R-squared (R²): 0.99996 – The model explains 99.996% of the variance on validation data, highlighting its strong ability to generalize.\n",
    "\n",
    "High Prediction Accuracy: The near-perfect R² score indicates that the model can predict outcomes with exceptional accuracy, aligning closely with actual values.\n",
    "Reliable Generalization: Consistent metrics between training and validation data demonstrate the model’s ability to maintain accuracy on unseen data, reducing the likelihood of overfitting.\n",
    "Minimal Prediction Error: With low MAE and MSE values, the model's predictions are precise, minimizing the impact of large errors."
   ]
  },
  {
   "cell_type": "markdown",
   "metadata": {},
   "source": [
    "### 1.6 Extreme Gradient Boost"
   ]
  },
  {
   "cell_type": "code",
   "execution_count": 40,
   "metadata": {},
   "outputs": [
    {
     "name": "stdout",
     "output_type": "stream",
     "text": [
      "Train Mean Absolute Error:0.0010971137152777778\n",
      "Train Squared Error: 1.5192031860351562e-06\n",
      "Train R-squared: 0.9999999999999319\n",
      "\n",
      "\n",
      "Val Mean Absolute Error:0.0010869683159722221\n",
      "Val Squared Error: 1.524156994289822e-06\n",
      "Val R-squared: 0.9999999999999344\n"
     ]
    }
   ],
   "source": [
    "# Instantiate the model\n",
    "xgb_r = XGBRegressor()\n",
    "#Fit the model\n",
    "xgb_r.fit(X_train_processed, y_train)\n",
    "#Predict on the train and validation set\n",
    "y_pred_train = xgb_r.predict(X_train_processed)\n",
    "y_pred_val = xgb_r.predict(X_val_processed)\n",
    "#MAE, MSE and R2 score on Train Data\n",
    "train_mae_xgb = mean_absolute_error(y_train, y_pred_train)\n",
    "train_mse_xgb = mean_squared_error(y_train, y_pred_train)\n",
    "train_r2_xgb = r2_score(y_train, y_pred_train)\n",
    "#MAE, MSE and R2 score on Validation Data\n",
    "val_mae_xgb = mean_absolute_error(y_val, y_pred_val)\n",
    "val_mse_xgb = mean_squared_error(y_val, y_pred_val)\n",
    "val_r2_xgb = r2_score(y_val, y_pred_val)\n",
    "\n",
    "print(f\"Train Mean Absolute Error:{train_mae_xgb}\")\n",
    "print(f\"Train Squared Error: {train_mse_xgb}\")\n",
    "print(f\"Train R-squared: {train_r2_xgb}\")\n",
    "print(\"\\n\")\n",
    "print(f\"Val Mean Absolute Error:{val_mae_xgb}\")\n",
    "print(f\"Val Squared Error: {val_mse_xgb}\")\n",
    "print(f\"Val R-squared: {val_r2_xgb}\")\n"
   ]
  },
  {
   "cell_type": "markdown",
   "metadata": {},
   "source": [
    "**Summary**: High Precision and Consistency: The model’s extremely low error rates (MAE and MSE) and near-perfect R² scores across training and validation data indicate that it is making predictions with almost exact precision.\n",
    "Generalization Across Data: The similarity in performance metrics between training and validation sets demonstrates the model’s ability to generalize well, suggesting it will perform reliably on unseen data.\n",
    "Near-Perfect Model Fit: With an R² value nearing 1.0, the model is capable of capturing nearly all the variance in the data, which is exceptionally rare in real-world applications."
   ]
  },
  {
   "cell_type": "markdown",
   "metadata": {},
   "source": [
    "#### Test the performance on Test Data"
   ]
  },
  {
   "cell_type": "code",
   "execution_count": 41,
   "metadata": {},
   "outputs": [
    {
     "name": "stdout",
     "output_type": "stream",
     "text": [
      "Test Mean Absolute Error: 0.0011283365885416668\n",
      "Test Mean Squared Error: 1.5809138615926107e-06\n",
      "Test R-squared: 0.9999999999999272\n"
     ]
    }
   ],
   "source": [
    "# Predict on the test set\n",
    "y_pred_test = xgb_r.predict(X_test_processed)\n",
    "\n",
    "# Calculate MAE, MSE, and R2 score on the test data\n",
    "test_mae_xgb = mean_absolute_error(y_test, y_pred_test)\n",
    "test_mse_xgb = mean_squared_error(y_test, y_pred_test)\n",
    "test_r2_xgb = r2_score(y_test, y_pred_test)\n",
    "\n",
    "# Print the test results\n",
    "print(f\"Test Mean Absolute Error: {test_mae_xgb}\")\n",
    "print(f\"Test Mean Squared Error: {test_mse_xgb}\")\n",
    "print(f\"Test R-squared: {test_r2_xgb}\")"
   ]
  },
  {
   "cell_type": "markdown",
   "metadata": {},
   "source": [
    "The model has now been evaluated on test data, and the results remain highly consistent with training and validation outcomes, showcasing the model's outstanding predictive accuracy and stability. The model demonstrates highly precise predictions with negligible error across all data splits.\n",
    "The nearly identical results across training, validation and test datasets confirm that the model generalizes exceptionally well to new data.\n",
    "The R² scores consistently approaching 1.0 indicate that the model explains nearly all variance in the data which is an ideal scenario for predictive tasks."
   ]
  },
  {
   "cell_type": "markdown",
   "metadata": {},
   "source": [
    "### Import Neural Networks Libraries"
   ]
  },
  {
   "cell_type": "code",
   "execution_count": 42,
   "metadata": {},
   "outputs": [],
   "source": [
    "import tensorflow as tf\n",
    "from tensorflow.keras.models import Sequential\n",
    "from tensorflow.keras.layers import Dense, Dropout\n",
    "from tensorflow.keras.callbacks import EarlyStopping\n",
    "from tensorflow.keras import regularizers\n"
   ]
  },
  {
   "cell_type": "code",
   "execution_count": 43,
   "metadata": {},
   "outputs": [
    {
     "name": "stdout",
     "output_type": "stream",
     "text": [
      "Epoch 1/100\n",
      "282/282 [==============================] - 3s 5ms/step - loss: 203848464.0000 - mae: 13489.0459 - val_loss: 180736800.0000 - val_mae: 12655.7598\n",
      "Epoch 2/100\n",
      "282/282 [==============================] - 1s 4ms/step - loss: 115231224.0000 - mae: 9868.4336 - val_loss: 45647952.0000 - val_mae: 6065.0371\n",
      "Epoch 3/100\n",
      "282/282 [==============================] - 1s 3ms/step - loss: 17635132.0000 - mae: 3305.2893 - val_loss: 5548679.0000 - val_mae: 1739.3749\n",
      "Epoch 4/100\n",
      "282/282 [==============================] - 1s 4ms/step - loss: 4381323.5000 - mae: 1565.5677 - val_loss: 2251485.0000 - val_mae: 1103.3185\n",
      "Epoch 5/100\n",
      "282/282 [==============================] - 1s 4ms/step - loss: 2335626.2500 - mae: 1151.8781 - val_loss: 1090745.7500 - val_mae: 753.7191\n",
      "Epoch 6/100\n",
      "282/282 [==============================] - 1s 4ms/step - loss: 1520276.8750 - mae: 938.8919 - val_loss: 589309.5625 - val_mae: 539.7551\n",
      "Epoch 7/100\n",
      "282/282 [==============================] - 1s 4ms/step - loss: 1198121.1250 - mae: 837.3254 - val_loss: 355905.4688 - val_mae: 405.8370\n",
      "Epoch 8/100\n",
      "282/282 [==============================] - 1s 4ms/step - loss: 1015989.1250 - mae: 775.2239 - val_loss: 243045.2344 - val_mae: 339.7739\n",
      "Epoch 9/100\n",
      "282/282 [==============================] - 1s 4ms/step - loss: 941181.1250 - mae: 744.5475 - val_loss: 176654.7500 - val_mae: 278.6685\n",
      "Epoch 10/100\n",
      "282/282 [==============================] - 1s 4ms/step - loss: 904028.6250 - mae: 736.8800 - val_loss: 137661.8594 - val_mae: 255.1682\n",
      "Epoch 11/100\n",
      "282/282 [==============================] - 1s 4ms/step - loss: 844309.3750 - mae: 711.1961 - val_loss: 112612.6875 - val_mae: 232.9305\n",
      "Epoch 12/100\n",
      "282/282 [==============================] - 1s 4ms/step - loss: 828543.4375 - mae: 703.7994 - val_loss: 83844.2656 - val_mae: 190.8881\n",
      "Epoch 13/100\n",
      "282/282 [==============================] - 1s 4ms/step - loss: 772262.0625 - mae: 682.1031 - val_loss: 71889.4297 - val_mae: 183.6029\n",
      "Epoch 14/100\n",
      "282/282 [==============================] - 1s 4ms/step - loss: 783846.3125 - mae: 679.2111 - val_loss: 61717.3750 - val_mae: 178.1400\n",
      "Epoch 15/100\n",
      "282/282 [==============================] - 1s 4ms/step - loss: 752602.3750 - mae: 670.5424 - val_loss: 60841.7969 - val_mae: 194.9869\n",
      "Epoch 16/100\n",
      "282/282 [==============================] - 1s 4ms/step - loss: 759435.1250 - mae: 671.5959 - val_loss: 40317.7500 - val_mae: 137.8927\n",
      "Epoch 17/100\n",
      "282/282 [==============================] - 1s 4ms/step - loss: 738730.0625 - mae: 661.9313 - val_loss: 37821.6680 - val_mae: 138.4769\n",
      "Epoch 18/100\n",
      "282/282 [==============================] - 1s 4ms/step - loss: 744701.6250 - mae: 662.6998 - val_loss: 32631.1230 - val_mae: 125.8998\n",
      "Epoch 19/100\n",
      "282/282 [==============================] - 1s 4ms/step - loss: 734748.6250 - mae: 659.6680 - val_loss: 28424.2949 - val_mae: 113.9774\n",
      "Epoch 20/100\n",
      "282/282 [==============================] - 1s 4ms/step - loss: 719108.7500 - mae: 652.3672 - val_loss: 32132.9199 - val_mae: 138.8642\n",
      "Epoch 21/100\n",
      "282/282 [==============================] - 1s 4ms/step - loss: 699064.3125 - mae: 641.0326 - val_loss: 30017.1953 - val_mae: 137.5574\n",
      "Epoch 22/100\n",
      "282/282 [==============================] - 1s 4ms/step - loss: 710787.1250 - mae: 650.1091 - val_loss: 24324.8867 - val_mae: 119.8094\n",
      "Epoch 23/100\n",
      "282/282 [==============================] - 1s 4ms/step - loss: 700213.1875 - mae: 647.8010 - val_loss: 23231.9004 - val_mae: 113.7573\n",
      "Epoch 24/100\n",
      "282/282 [==============================] - 1s 4ms/step - loss: 713772.0000 - mae: 644.6532 - val_loss: 25612.5664 - val_mae: 126.0289\n",
      "Epoch 25/100\n",
      "282/282 [==============================] - 1s 4ms/step - loss: 693379.0000 - mae: 635.5339 - val_loss: 17391.7031 - val_mae: 100.5954\n",
      "Epoch 26/100\n",
      "282/282 [==============================] - 1s 4ms/step - loss: 723710.4375 - mae: 647.2089 - val_loss: 16053.6787 - val_mae: 90.4292\n",
      "Epoch 27/100\n",
      "282/282 [==============================] - 1s 4ms/step - loss: 707546.5625 - mae: 640.5313 - val_loss: 12702.5938 - val_mae: 83.6153\n",
      "Epoch 28/100\n",
      "282/282 [==============================] - 1s 4ms/step - loss: 680277.8750 - mae: 629.1586 - val_loss: 16783.9707 - val_mae: 108.5966\n",
      "Epoch 29/100\n",
      "282/282 [==============================] - 1s 4ms/step - loss: 696288.3125 - mae: 635.2751 - val_loss: 11208.9863 - val_mae: 80.3205\n",
      "Epoch 30/100\n",
      "282/282 [==============================] - 1s 4ms/step - loss: 667280.8750 - mae: 623.6872 - val_loss: 13377.2764 - val_mae: 92.3549\n",
      "Epoch 31/100\n",
      "282/282 [==============================] - 1s 4ms/step - loss: 662075.8125 - mae: 625.7067 - val_loss: 18919.3984 - val_mae: 116.9869\n",
      "Epoch 32/100\n",
      "282/282 [==============================] - 1s 5ms/step - loss: 674689.8125 - mae: 627.3593 - val_loss: 22050.3672 - val_mae: 120.8018\n",
      "Epoch 33/100\n",
      "282/282 [==============================] - 1s 5ms/step - loss: 670387.7500 - mae: 625.1853 - val_loss: 16874.8086 - val_mae: 105.4035\n",
      "Epoch 34/100\n",
      "282/282 [==============================] - 1s 5ms/step - loss: 679003.3125 - mae: 627.2314 - val_loss: 10294.8213 - val_mae: 80.9218\n",
      "Epoch 35/100\n",
      "282/282 [==============================] - 1s 4ms/step - loss: 659998.0625 - mae: 616.8325 - val_loss: 7304.0493 - val_mae: 65.9166\n",
      "Epoch 36/100\n",
      "282/282 [==============================] - 1s 4ms/step - loss: 666835.9375 - mae: 624.4622 - val_loss: 12827.9912 - val_mae: 90.5345\n",
      "Epoch 37/100\n",
      "282/282 [==============================] - 1s 4ms/step - loss: 660719.5000 - mae: 619.1061 - val_loss: 9157.9766 - val_mae: 77.5420\n",
      "Epoch 38/100\n",
      "282/282 [==============================] - 1s 5ms/step - loss: 647476.3125 - mae: 613.0469 - val_loss: 5635.8145 - val_mae: 56.1958\n",
      "Epoch 39/100\n",
      "282/282 [==============================] - 1s 5ms/step - loss: 642335.2500 - mae: 612.1578 - val_loss: 6641.0449 - val_mae: 62.8444\n",
      "Epoch 40/100\n",
      "282/282 [==============================] - 1s 4ms/step - loss: 667224.1250 - mae: 620.3421 - val_loss: 10048.8232 - val_mae: 78.0323\n",
      "Epoch 41/100\n",
      "282/282 [==============================] - 1s 4ms/step - loss: 625995.6875 - mae: 603.9760 - val_loss: 6678.8062 - val_mae: 65.0858\n",
      "Epoch 42/100\n",
      "282/282 [==============================] - 1s 4ms/step - loss: 646149.1875 - mae: 612.1578 - val_loss: 7498.1694 - val_mae: 71.0673\n",
      "Epoch 43/100\n",
      "282/282 [==============================] - 1s 5ms/step - loss: 651913.6250 - mae: 612.1167 - val_loss: 11560.8018 - val_mae: 87.1747\n",
      "Neural Network Performance:\n",
      "Train - MAE: 56.91564849175347, MSE: 5736.196184758424, R²: 0.9997430921139975\n",
      "Val - MAE: 56.19577256944444, MSE: 5601.421518696149, R²: 0.999759056073866\n",
      "Test - MAE: 57.61730061848959, MSE: 5873.261397500833, R²: 0.9997293295275285\n"
     ]
    }
   ],
   "source": [
    "# Set the seed for reproducibility\n",
    "tf.random.set_seed(42)\n",
    "\n",
    "# Initialize the neural network model\n",
    "model = Sequential([\n",
    "    Dense(100, kernel_regularizer=regularizers.l2(0.01), input_dim=X_train_processed.shape[1], activation='relu'),\n",
    "    Dropout(0.2),  # Dropout layer for regularization\n",
    "    Dense(50, activation='relu'),  # Second hidden layer\n",
    "    Dense(1, activation='linear')  # Output layer for continuous price prediction\n",
    "])\n",
    "\n",
    "# Compile the model\n",
    "model.compile(optimizer='adam', loss='mean_squared_error', metrics=['mae'])\n",
    "\n",
    "# Define early stopping callback\n",
    "early_stopping = EarlyStopping(monitor='val_loss', patience=5, restore_best_weights=True)\n",
    "\n",
    "# Train the model with early stopping\n",
    "history = model.fit(\n",
    "    X_train_processed, y_train,\n",
    "    validation_data=(X_val_processed, y_val),\n",
    "    epochs=100, batch_size=32,\n",
    "    callbacks=[early_stopping],\n",
    "    verbose=1\n",
    ")\n",
    "\n",
    "# Predict on train, validation, and test sets\n",
    "predictions = {\n",
    "    'train': model.predict(X_train_processed),\n",
    "    'val': model.predict(X_val_processed),\n",
    "    'test': model.predict(X_test_processed)\n",
    "}\n",
    "\n",
    "# Define function to calculate metrics\n",
    "def calculate_metrics(y_true, y_pred):\n",
    "    return {\n",
    "        'MAE': mean_absolute_error(y_true, y_pred),\n",
    "        'MSE': mean_squared_error(y_true, y_pred),\n",
    "        'R²': r2_score(y_true, y_pred)\n",
    "    }\n",
    "\n",
    "# Calculate and display performance metrics\n",
    "print(\"Neural Network Performance:\")\n",
    "for dataset, y_pred in predictions.items():\n",
    "    metrics = calculate_metrics(eval(f\"y_{dataset}\"), y_pred)\n",
    "    print(f\"{dataset.capitalize()} - MAE: {metrics['MAE']}, MSE: {metrics['MSE']}, R²: {metrics['R²']}\")\n"
   ]
  },
  {
   "cell_type": "markdown",
   "metadata": {},
   "source": [
    "The neural network appears to be highly effective for the given task. It achieves excellent performance on all evaluation metrics especially MAE and R² confirming that it can accurately predict the target values."
   ]
  },
  {
   "cell_type": "markdown",
   "metadata": {},
   "source": [
    "### Model of Choice"
   ]
  },
  {
   "cell_type": "markdown",
   "metadata": {},
   "source": [
    "Our Model of Choice is therefore Extreme Gradient Boost\n",
    "\n",
    "The MAE represents the average magnitude of errors between predicted and actual values. The MAE is very low (close to 0.001) across training, validation, and test sets. This suggests that on average, the model is making very small errors in its predictions, which is a strong indicator of high predictive accuracy. The slight increase in MAE from training to test is normal and indicates that the model is generalizing well with minimal overfitting.\n",
    "\n",
    "MSE measures the average of the squared differences between predicted and actual values and it gives more weight to larger errors. The values are extremely low, confirming that the model is minimizing error efficiently. The slightly higher MSE on the test set (1.58e-06) compared to the training set (1.52e-06) is typical, indicating some degree of generalization, but the difference is minimal, meaning the model performs consistently across different datasets.\n",
    "\n",
    "R-squared indicates how well the model’s predictions match the actual values. An R² value very close to 1 means that the model is explaining nearly all of the variance in the data, which is exceptional. The values of 0.9999 for training, validation, and test sets suggest that the XGBoost model is very good at predicting the target variable and that it generalizes extremely well.\n",
    "\n",
    "The XGBoost model is showing excellent performance with very low error and high predictive accuracy. Its ability to generalize well to both the validation and test sets combined with its robust handling of complex data through boosting and regularization makes it an ideal candidate for this task. Even though neural networks might show slightly better performance in some cases, XGBoost is still a strong contender due to its efficiency, interpretability, and ability to handle diverse datasets."
   ]
  },
  {
   "cell_type": "markdown",
   "metadata": {},
   "source": [
    "## Hypothesis Testing"
   ]
  },
  {
   "cell_type": "markdown",
   "metadata": {},
   "source": [
    "### Hypothesis 1"
   ]
  },
  {
   "cell_type": "markdown",
   "metadata": {},
   "source": [
    "Assess the relationship between buyer reviews and product pricing let us set up the hypothesis test as follows:\n",
    "\n",
    "Hypotheses\n",
    "**Null Hypothesis (H₀)**: There is no relationship between buyer reviews and product pricing. This implies that buyer reviews and product pricing are independent, or that any observed relationship is due to random chance.\n",
    "\n",
    "**Alternative Hypothesis (H₁)**: There is a statistically significant relationship between buyer reviews and product pricing. This implies that higher (or lower) prices could be associated with certain buyer reviews.\n"
   ]
  },
  {
   "cell_type": "code",
   "execution_count": 44,
   "metadata": {},
   "outputs": [
    {
     "name": "stdout",
     "output_type": "stream",
     "text": [
      "Reject the null hypothesis: There is a statistically significant relationship (p = 0.0000)\n",
      "Spearman correlation coefficient: 0.1536\n"
     ]
    }
   ],
   "source": [
    "from scipy.stats import spearmanr\n",
    "\n",
    "# Assuming 'data' is your DataFrame containing 'Buyer_Ratings' and 'Product_Price' columns\n",
    "buyer_reviews = final_df['Number of Reviews']\n",
    "product_price = final_df['Price']\n",
    "\n",
    "# Perform Spearman's rank correlation\n",
    "corr_coef, p_value = spearmanr(buyer_reviews, product_price)\n",
    "\n",
    "# Set significance level\n",
    "alpha = 0.05\n",
    "\n",
    "# Interpret the result\n",
    "if p_value < alpha:\n",
    "    print(f\"Reject the null hypothesis: There is a statistically significant relationship (p = {p_value:.4f})\")\n",
    "else:\n",
    "    print(f\"Fail to reject the null hypothesis: No significant relationship (p = {p_value:.4f})\")\n",
    "\n",
    "print(f\"Spearman correlation coefficient: {corr_coef:.4f}\")\n"
   ]
  },
  {
   "cell_type": "markdown",
   "metadata": {},
   "source": [
    "Statistical Significance: The p-value from the test is 0.0000, which is well below the significance threshold of 0.05. This means we can reject the null hypothesis and conclude that there is a statistically significant relationship between product pricing and the number of buyer reviews.\n",
    "\n",
    "Strength of the Relationship: The Spearman correlation coefficient is 0.1536, indicating a weak positive relationship. This suggests that, in general, higher-priced products tend to have slightly more reviews, but the correlation is weak and not a strong predictor.\n",
    "\n",
    "Implications for Stakeholders:\n",
    "\n",
    "Price and Reviews: While the relationship between product pricing and reviews is statistically significant, it is weak. This means that while more expensive products may tend to get more reviews, price alone does not significantly influence the number of reviews. Other factors such as product quality, marketing, or brand reputation may be more impactful in determining review volume.\n",
    "\n",
    "Consideration for Strategy: The weak correlation suggests that price may not be the primary driver for increasing review counts. Businesses might want to focus on improving product visibility, marketing efforts, or customer experience to boost review numbers, rather than relying solely on pricing strategies.\n",
    "\n",
    "Conclusion: There is a statistically significant but weak positive relationship between product pricing and the number of buyer reviews. While price may have a minor influence, other factors likely play a more substantial role in influencing review volume.\n",
    "\n",
    "This insight can inform strategic decisions on pricing and marketing, ensuring a holistic approach that goes beyond just adjusting prices. Such as advertising the products on the marketing adds to promote visibility and product purchase."
   ]
  },
  {
   "cell_type": "markdown",
   "metadata": {},
   "source": [
    "### Hypothesis 2\n",
    "To test whether there is a relationship between the product search rank position and the Number of reviews.\n",
    "This is because we can use the number of reviews on a product to determine the potential and actual buyers of the product. \n",
    "\n",
    "Null Hypothesis (H₀): There is no relationship between the page and rank positions of the product and the number of reviews. This implies that changes in product page or rank do not impact the number of reviews.\n",
    "\n",
    "Alternative Hypothesis (H₁): There is a statistically significant relationship between the page and rank positions of the product and the number of reviews. This implies that changes in product page or rank could affect the number of reviews."
   ]
  },
  {
   "cell_type": "code",
   "execution_count": 45,
   "metadata": {},
   "outputs": [
    {
     "name": "stdout",
     "output_type": "stream",
     "text": [
      "Reject the null hypothesis for Rank: There is a statistically significant relationship (p = 0.0000)\n",
      "Fail to reject the null hypothesis for Page: No significant relationship (p = 1.0000)\n",
      "                            OLS Regression Results                            \n",
      "==============================================================================\n",
      "Dep. Variable:      Number of Reviews   R-squared:                       0.299\n",
      "Model:                            OLS   Adj. R-squared:                  0.299\n",
      "Method:                 Least Squares   F-statistic:                     2050.\n",
      "Date:                Mon, 11 Nov 2024   Prob (F-statistic):               0.00\n",
      "Time:                        09:14:45   Log-Likelihood:                -55073.\n",
      "No. Observations:                9600   AIC:                         1.102e+05\n",
      "Df Residuals:                    9597   BIC:                         1.102e+05\n",
      "Df Model:                           2                                         \n",
      "Covariance Type:            nonrobust                                         \n",
      "==============================================================================\n",
      "                 coef    std err          t      P>|t|      [0.025      0.975]\n",
      "------------------------------------------------------------------------------\n",
      "const        167.3425      2.059     81.290      0.000     163.307     171.378\n",
      "Rank          -4.2559      0.066    -64.023      0.000      -4.386      -4.126\n",
      "Page          -0.0059      0.009     -0.669      0.504      -0.023       0.011\n",
      "==============================================================================\n",
      "Omnibus:                     2614.000   Durbin-Watson:                   2.006\n",
      "Prob(Omnibus):                  0.000   Jarque-Bera (JB):             7260.160\n",
      "Skew:                           1.443   Prob(JB):                         0.00\n",
      "Kurtosis:                       6.133   Cond. No.                         470.\n",
      "==============================================================================\n",
      "\n",
      "Notes:\n",
      "[1] Standard Errors assume that the covariance matrix of the errors is correctly specified.\n"
     ]
    }
   ],
   "source": [
    "import statsmodels.api as sm\n",
    "\n",
    "# Assuming final_df is the dataframe that contains 'Rank', 'Page', and 'Number of Reviews'\n",
    "rank = final_df['Rank']\n",
    "page = final_df['Page']\n",
    "buyer_reviews = final_df['Number of Reviews']\n",
    "\n",
    "# Step 1: Check if Rank and Page have a relationship with Number of Reviews\n",
    "# Create a combined feature matrix for rank and page, and the target (reviews)\n",
    "X = final_df[['Rank', 'Page']]\n",
    "y = final_df['Number of Reviews']\n",
    "\n",
    "# Perform Spearman's rank correlation for Rank, Page, and Number of Reviews\n",
    "corr_rank, p_value_rank = spearmanr(rank, buyer_reviews)\n",
    "corr_page, p_value_page = spearmanr(page, buyer_reviews)\n",
    "\n",
    "# Set significance level\n",
    "alpha = 0.05\n",
    "\n",
    "# Spearman correlation interpretation\n",
    "if p_value_rank < alpha:\n",
    "    print(f\"Reject the null hypothesis for Rank: There is a statistically significant relationship (p = {p_value_rank:.4f})\")\n",
    "else:\n",
    "    print(f\"Fail to reject the null hypothesis for Rank: No significant relationship (p = {p_value_rank:.4f})\")\n",
    "\n",
    "if p_value_page < alpha:\n",
    "    print(f\"Reject the null hypothesis for Page: There is a statistically significant relationship (p = {p_value_page:.4f})\")\n",
    "else:\n",
    "    print(f\"Fail to reject the null hypothesis for Page: No significant relationship (p = {p_value_page:.4f})\")\n",
    "\n",
    "# Step 2: Multiple Linear Regression (to assess the combined effect of Rank and Page on the number of reviews)\n",
    "# Add constant to the model (for intercept)\n",
    "X = sm.add_constant(X)\n",
    "\n",
    "# Split data into training and test sets\n",
    "X_train, X_test, y_train, y_test = train_test_split(X, y, test_size=0.2, random_state=42)\n",
    "\n",
    "# Fit the regression model\n",
    "model = sm.OLS(y_train, X_train).fit()\n",
    "\n",
    "# Get the summary of the regression\n",
    "print(model.summary())\n",
    "\n",
    "# You can also check the prediction and residuals\n",
    "predictions = model.predict(X_test)\n",
    "residuals = y_test - predictions\n"
   ]
  },
  {
   "cell_type": "markdown",
   "metadata": {},
   "source": [
    "Rank Impact: The negative relationship between Rank and the number of reviews suggests that products with higher ranks (e.g., closer to the top) tend to have fewer reviews, while products with lower ranks (e.g., further down the list) tend to have more reviews. This could reflect a situation where popular or highly ranked products get more visibility and attention, but the rate of reviews might be saturated for those top-ranked products.\n",
    "\n",
    "Page Impact: The result for the Page number shows no significant effect on the number of reviews, as the p-value is large (0.504). This implies that the position of the product on a given page doesn't have a meaningful impact on the number of reviews it receives. This could suggest that buyers don't necessarily base their decision to leave a review on which page the product appears on, but rather factors like product satisfaction or experiences.\n",
    "\n",
    "Conclusion:\n",
    "Rank is a statistically significant predictor of the number of reviews, meaning that changes in product rank are related to changes in review counts.\n",
    "Page does not significantly affect the number of reviews, suggesting that the placement of a product on a specific page might not be a key driver of review activity.\n",
    "This analysis provides insight into how rank positions play a role in review volume, while page placement does not have a significant influence on buyer behavior."
   ]
  },
  {
   "cell_type": "markdown",
   "metadata": {},
   "source": [
    "## Deployment"
   ]
  },
  {
   "cell_type": "code",
   "execution_count": 48,
   "metadata": {},
   "outputs": [],
   "source": [
    "#lets save the model of choice\n",
    "xgb_r.save_model(\"xgboost_model.json\")\n"
   ]
  },
  {
   "cell_type": "code",
   "execution_count": null,
   "metadata": {},
   "outputs": [],
   "source": [
    "#Import relevant libraries\n",
    "from fastapi import FastAPI\n",
    "from pydantic import BaseModel\n",
    "import xgboost as xgb\n",
    "from typing import Optional\n",
    "from pydantic import BaseModel\n",
    "import numpy as np\n",
    "import pandas as pd\n",
    "\n",
    "# Initialize the FastAPI app\n",
    "app = FastAPI()\n",
    "\n",
    "# Define the request model with all the features including one-hot encoded brand and color features\n",
    "class ModelInput(BaseModel):\n",
    "    # Numeric columns\n",
    "    screen_size: float\n",
    "    ram: float\n",
    "    rom: float\n",
    "\n",
    "    # One-hot encoded brand columns\n",
    "    brand_Infinix_Hot: int\n",
    "    brand_Infinix_Hot_40I: int\n",
    "    brand_Infinix_Smart_8: int\n",
    "    brand_Itel_A18: int\n",
    "    brand_Itel_S23: int\n",
    "    brand_Oale_Pop_8: int\n",
    "    brand_Oppo_A17K: int\n",
    "    brand_Oppo_A83_4Gb_Ram: int\n",
    "    brand_Samsung_Galaxy_A05S: int\n",
    "    brand_Samsung_Galaxy_A05: int\n",
    "    brand_Samsung_Galaxy_A15: int\n",
    "    brand_Tecno_Pop_8: int\n",
    "    brand_Tecno_Pova_6_Neo: int\n",
    "    brand_Tecno_Spark: int\n",
    "    brand_Tecno_Spark_20: int\n",
    "    brand_Tecno_Spark_20C: int\n",
    "    brand_Villaon_V20_Se: int\n",
    "    brand_Xiaomi_Redmi_13C: int\n",
    "    brand_Xiaomi_Redmi_14C: int\n",
    "    brand_Xiaomi_Redmi_A3: int\n",
    "    brand_Xiaomi_Redmi_Note_13: int\n",
    "\n",
    "    # One-hot encoded color columns\n",
    "    color_Black: int\n",
    "    color_Blue: int\n",
    "    color_Crystal_Green: int\n",
    "    color_Cyber_White: int\n",
    "    color_Elemental_Blue: int\n",
    "    color_Energetic_Orange: int\n",
    "    color_Gravity_Black: int\n",
    "    color_Luxurious_Gold: int\n",
    "    color_Midnight_Black: int\n",
    "    color_Mystery_White: int\n",
    "    color_Navy_Blue: int\n",
    "    color_Shiny_Gold: int\n",
    "    color_Silver: int\n",
    "    color_Speed_Black: int\n",
    "    color_Starry_Black: int\n",
    "    color_None: int\n",
    "\n",
    "# Load the saved XGBoost model\n",
    "model = xgb.Booster()\n",
    "model.load_model(\"xgboost_model.json\")\n",
    "\n",
    "# Define the prediction endpoint\n",
    "@app.post(\"/predict\")\n",
    "def predict(input_data: ModelInput):\n",
    "    # Prepare the input feature array from ModelInput\n",
    "    features = np.array([\n",
    "        [\n",
    "            input_data.screen_size,\n",
    "            input_data.ram,\n",
    "            input_data.rom,\n",
    "            \n",
    "            # Brand one-hot encoded features\n",
    "            input_data.brand_Infinix_Hot,\n",
    "            input_data.brand_Infinix_Hot_40I,\n",
    "            input_data.brand_Infinix_Smart_8,\n",
    "            input_data.brand_Itel_A18,\n",
    "            input_data.brand_Itel_S23,\n",
    "            input_data.brand_Oale_Pop_8,\n",
    "            input_data.brand_Oppo_A17K,\n",
    "            input_data.brand_Oppo_A83_4Gb_Ram,\n",
    "            input_data.brand_Samsung_Galaxy_A05S,\n",
    "            input_data.brand_Samsung_Galaxy_A05,\n",
    "            input_data.brand_Samsung_Galaxy_A15,\n",
    "            input_data.brand_Tecno_Pop_8,\n",
    "            input_data.brand_Tecno_Pova_6_Neo,\n",
    "            input_data.brand_Tecno_Spark,\n",
    "            input_data.brand_Tecno_Spark_20,\n",
    "            input_data.brand_Tecno_Spark_20C,\n",
    "            input_data.brand_Villaon_V20_Se,\n",
    "            input_data.brand_Xiaomi_Redmi_13C,\n",
    "            input_data.brand_Xiaomi_Redmi_14C,\n",
    "            input_data.brand_Xiaomi_Redmi_A3,\n",
    "            input_data.brand_Xiaomi_Redmi_Note_13,\n",
    "            \n",
    "            # Color one-hot encoded features\n",
    "            input_data.color_Black,\n",
    "            input_data.color_Blue,\n",
    "            input_data.color_Crystal_Green,\n",
    "            input_data.color_Cyber_White,\n",
    "            input_data.color_Elemental_Blue,\n",
    "            input_data.color_Energetic_Orange,\n",
    "            input_data.color_Gravity_Black,\n",
    "            input_data.color_Luxurious_Gold,\n",
    "            input_data.color_Midnight_Black,\n",
    "            input_data.color_Mystery_White,\n",
    "            input_data.color_Navy_Blue,\n",
    "            input_data.color_Shiny_Gold,\n",
    "            input_data.color_Silver,\n",
    "            input_data.color_Speed_Black,\n",
    "            input_data.color_Starry_Black,\n",
    "            input_data.color_None\n",
    "        ]\n",
    "    ])\n",
    "    \n",
    "    # Convert features to DMatrix format (required for XGBoost prediction)\n",
    "    dmatrix = xgb.DMatrix(features)\n",
    "    \n",
    "    # Make the prediction using the loaded model\n",
    "    prediction = model.predict(dmatrix)\n",
    "    \n",
    "    # Return the prediction result in a JSON-compatible format\n",
    "    return {\"predicted_price\": prediction.tolist()}\n",
    "\n",
    "##### http://127.0.0.1:8000/docs"
   ]
  },
  {
   "cell_type": "markdown",
   "metadata": {},
   "source": [
    "## Conclusions & Recommendations"
   ]
  },
  {
   "cell_type": "markdown",
   "metadata": {},
   "source": [
    "* There is a statistical relationship between the product rank position and the number of reviews.\n",
    "\n",
    "To maximize visibility and review engagement the seller could consider the below:\n",
    "Optimize for Rank within Pages: Positioning a product among the top ranks on any page could drive more interactions and reviews.\n",
    "Optimize Product Features and Marketing: Encourage factors that improve a product's rank organically, such as positive customer feedback, competitive pricing, or high ratings, which may help maintain a prominent position on a page.\n",
    "In summary, while page placement itself isn’t as influential, positioning a product within the top ranks on a visible page matters significantly for customer engagement and reviews. Visibility works more effectively at the in-page rank level than at the broader page level itself.\n",
    "\n",
    "*  There is a statistically significant but weak positive relationship between product pricing and the number of buyer reviews. \n",
    "\n",
    "While price may have a minor influence, other factors likely play a more substantial role in influencing review volume.\n",
    "This insight can inform strategic decisions on pricing and marketing, ensuring a holistic approach that goes beyond just adjusting prices. Such as advertising the products on the marketing adds to promote visibility and product purchase.\n",
    "\n",
    "* Features such as the ROM, RAM and Screen size dictate the pricing of the phone.  \n",
    "\n",
    "\n",
    "\n"
   ]
  }
 ],
 "metadata": {
  "kernelspec": {
   "display_name": "learn-env",
   "language": "python",
   "name": "python3"
  },
  "language_info": {
   "codemirror_mode": {
    "name": "ipython",
    "version": 3
   },
   "file_extension": ".py",
   "mimetype": "text/x-python",
   "name": "python",
   "nbconvert_exporter": "python",
   "pygments_lexer": "ipython3",
   "version": "3.8.5"
  }
 },
 "nbformat": 4,
 "nbformat_minor": 2
}
