{
 "cells": [
  {
   "cell_type": "code",
   "execution_count": null,
   "metadata": {},
   "outputs": [],
   "source": [
    "import pandas as pd\n",
    "import numpy as np\n",
    "\n",
    "# Import Regular Expression\n",
    "import re\n",
    "\n",
    "# Loading the data\n",
    "df = pd.read_csv(\"jumia_mobile_phones.csv\", encoding=\"ISO-8859-1\",index_col=0)\n",
    "df2 = pd.read_csv(\"jumia_phone_catalog_popularity.csv\")\n",
    "\n",
    "# Display the first few rows of the data to get a sense of the data structure\n",
    "df.head()"
   ]
  },
  {
   "cell_type": "code",
   "execution_count": null,
   "metadata": {},
   "outputs": [],
   "source": [
    "print(\"df shape:\",df.shape)\n",
    "print (\"------------------------------------------------\")\n",
    "print(\"df2 shape:\",df2.shape)\n",
    "print (\"------------------------------------------------\")\n",
    "print(\"df missing values\",df.isna().sum())\n",
    "print (\"------------------------------------------------\")\n",
    "print(\"df2 missing values\",df2.isna().sum())\n",
    "\n",
    "#check for duplicates\n",
    "print(\"df2 duplicates\",df2.duplicated().sum())\n",
    "print(\"------------------------------------------------\")\n",
    "print(\"df missing values\",df.isna().sum())"
   ]
  },
  {
   "cell_type": "code",
   "execution_count": null,
   "metadata": {},
   "outputs": [],
   "source": [
    "# Merging the datasets together\n",
    "\n",
    "merged_df = pd.merge(df, df2, on='Name',how='left')\n",
    "print(merged_df.shape)\n",
    "merged_df.head()"
   ]
  },
  {
   "cell_type": "code",
   "execution_count": null,
   "metadata": {},
   "outputs": [],
   "source": [
    "merged_df.isna().sum()"
   ]
  },
  {
   "cell_type": "code",
   "execution_count": null,
   "metadata": {},
   "outputs": [],
   "source": [
    "#drop null values\n",
    "\n",
    "merged_df.dropna(inplace=True)\n",
    "print(merged_df.shape)\n",
    "merged_df.isna().sum()"
   ]
  },
  {
   "cell_type": "code",
   "execution_count": null,
   "metadata": {},
   "outputs": [],
   "source": [
    "# Get all the entries in the name column and assign them to a list called data\n",
    "data = merged_df['Name']\n",
    "\n",
    "# convert the data type of data to a list\n",
    "data = data.tolist()\n",
    "\n",
    "# Check the data type of data\n",
    "type(data)"
   ]
  },
  {
   "cell_type": "code",
   "execution_count": null,
   "metadata": {},
   "outputs": [],
   "source": [
    "merged_df.isna().sum()"
   ]
  },
  {
   "cell_type": "code",
   "execution_count": null,
   "metadata": {},
   "outputs": [],
   "source": [
    "merged_df.dropna(inplace=True)\n",
    "print(merged_df.shape)\n",
    "merged_df.isna().sum()"
   ]
  },
  {
   "cell_type": "code",
   "execution_count": null,
   "metadata": {},
   "outputs": [],
   "source": [
    "\n",
    "#checking duplicates\n",
    "merged_df.duplicated().sum()"
   ]
  },
  {
   "cell_type": "code",
   "execution_count": null,
   "metadata": {},
   "outputs": [],
   "source": [
    "merged_df.drop_duplicates()\n",
    "print(merged_df.shape)\n",
    "merged_df.duplicated().sum()\n",
    "merged_df.head()"
   ]
  },
  {
   "cell_type": "code",
   "execution_count": null,
   "metadata": {},
   "outputs": [],
   "source": [
    "# Get all the entries in the name column and assign them to a list called data\n",
    "data = df['Name']\n",
    "\n",
    "# convert the data type of data to a list\n",
    "data = data.tolist()\n",
    "\n",
    "# Check the data type of data\n",
    "type(data)"
   ]
  },
  {
   "cell_type": "code",
   "execution_count": null,
   "metadata": {},
   "outputs": [],
   "source": [
    "def clean_data(data):\n",
    "    cleaned_data = []\n",
    "    \n",
    "    for entry in data:\n",
    "        # Remove unwanted characters, keeping numbers and spaces\n",
    "        cleaned_entry = re.sub(r\"[,'+\\-]\", \" \", entry)  # Replace commas, single quotes, and plus signs with space\n",
    "        cleaned_entry = re.sub(r\"\\s+\", \" \", cleaned_entry)  # Replace multiple spaces with a single space\n",
    "        cleaned_entry = cleaned_entry.strip()  # Remove leading and trailing spaces\n",
    "        cleaned_data.append(cleaned_entry)\n",
    "    \n",
    "    return cleaned_data\n",
    "\n",
    "# Clean the data\n",
    "cleaned_data = clean_data(data)\n",
    "\n",
    "cleaned_data"
   ]
  },
  {
   "cell_type": "code",
   "execution_count": null,
   "metadata": {},
   "outputs": [],
   "source": [
    "# Separate Samsung entries from other brands\n",
    "samsung_phones = [spec for spec in data if \"Samsung\" in spec]\n",
    "other_phones = [spec for spec in data if \"Samsung\" not in spec]\n",
    "\n",
    "# Let us check the result\n",
    "samsung_phones, other_phones"
   ]
  },
  {
   "cell_type": "code",
   "execution_count": null,
   "metadata": {},
   "outputs": [],
   "source": [
    "# Further cleaning to remove mathematical operators within the list\n",
    "def clean_entries(entries):\n",
    "    cleaned_entries = []\n",
    "    for entry in entries:\n",
    "        # Remove mathematical operators\n",
    "        cleaned_entry = re.sub(r'[+\\-]', '', entry)\n",
    "        cleaned_entries.append(cleaned_entry)\n",
    "    return cleaned_entries\n",
    "\n",
    "# Clean the samsung phones list\n",
    "samsung_phones = clean_entries(samsung_phones)\n",
    "\n",
    "\n",
    "# Display the cleaned Samsung phone specifications\n",
    "samsung_phones"
   ]
  },
  {
   "cell_type": "code",
   "execution_count": null,
   "metadata": {},
   "outputs": [],
   "source": [
    "# Feature extraction from the samsung phones using regular expressions\n",
    "def extract_samsung_info(spec):\n",
    "    # Regular expressions for extracting relevant parts\n",
    "    name_pattern = r'^(Samsung\\s+Galaxy\\s+\\w+\\s*\\w*)'  # Without the case-insensitivity flag\n",
    "    display_pattern = r'(\\d+(\\.\\d+)?)\\s*[\"\\']'\n",
    "    ram_pattern = r'(\\d+)GB RAM'\n",
    "    storage_pattern = r'(\\d+GB)\\s*ROM'\n",
    "    camera_pattern = r'(\\d+MP)'\n",
    "    battery_pattern = r'(\\d{4}mAh)'\n",
    "    sim_pattern = r'\\(?(Dual\\s+Sim|DUAL\\s+SIM|Single\\s+Sim|Single)\\)?'\n",
    "    \n",
    "    # Extract all the numbers that are followed by GB\n",
    "    gb_values = [int(m.group(1)) for m in re.finditer(r'(\\d+)GB', spec)]\n",
    "\n",
    "    # Determine RAM and Storage based on size\n",
    "    ram = min(gb_values) if gb_values else None\n",
    "    storage = max(gb_values) if gb_values else None\n",
    "\n",
    "    # Updated color pattern to ensure it captures correctly\n",
    "    color_pattern = r'(?i)[-\\s](Black|White|Blue|Red|Green|Yellow|Gold|Silver|Gray|Pink)(?=\\s|\\(|$)'\n",
    "    color_match = re.search(color_pattern, spec)\n",
    "    color = color_match.group(1).strip() if color_match else None\n",
    "\n",
    "    # Set a default display size if not found\n",
    "    display_size = re.search(display_pattern, spec).group(1) if re.search(display_pattern, spec) else \"6.0\"\n",
    "\n",
    "    # Use case-insensitive search for name\n",
    "    name_match = re.search(name_pattern, spec, re.IGNORECASE)\n",
    "    \n",
    "    return {\n",
    "        \"Name\": name_match.group(0).strip() if name_match else None,\n",
    "        \"Display Size\": display_size,\n",
    "        \"RAM\": ram,\n",
    "        \"Storage\": storage,\n",
    "        \"Camera\": re.search(camera_pattern, spec).group(1) if re.search(camera_pattern, spec) else None,\n",
    "        \"Battery\": re.search(battery_pattern, spec).group(1) if re.search(battery_pattern, spec) else None,\n",
    "        \"Color\": color,\n",
    "        \"Warranty\": \"Yes\" if \"WRTY\" in spec else \"No\",\n",
    "        \"Number of SIMs\": 2 if re.search(sim_pattern, spec) and \"Dual\" in re.search(sim_pattern, spec).group(0) else 1\n",
    "    }\n",
    "\n",
    "# Extract information for Samsung phones\n",
    "samsung_phones_data = [extract_samsung_info(spec) for spec in samsung_phones]\n",
    "\n",
    "# Create a DataFrame\n",
    "samsung_phones_df = pd.DataFrame(samsung_phones_data)\n",
    "\n",
    "# Display the DataFrame\n",
    "print(\"Samsung Phones:\")\n",
    "samsung_phones_df.head(10)"
   ]
  },
  {
   "cell_type": "code",
   "execution_count": null,
   "metadata": {},
   "outputs": [],
   "source": [
    "# Cleaning up other phones\n",
    "def clean_entries(entries):\n",
    "    cleaned_entries = []\n",
    "    for entry in entries:\n",
    "        # Remove mathematical operators\n",
    "        cleaned_entry = re.sub(r'[+\\-]', '', entry)\n",
    "        cleaned_entries.append(cleaned_entry)\n",
    "    return cleaned_entries\n",
    "\n",
    "# Clean the list\n",
    "other_phones = clean_entries(other_phones)\n",
    "\n",
    "other_phones"
   ]
  },
  {
   "cell_type": "code",
   "execution_count": null,
   "metadata": {},
   "outputs": [],
   "source": [
    "# Feature extraction from the list of other phones\n",
    "def extract_other_phones_info(spec):\n",
    "    # Regular expressions for extracting relevant parts\n",
    "    name_pattern = r'^(XIAOMI|Tecno|Infinix|Itel|Oale)\\s+(\\w+\\s*\\w*)'\n",
    "    display_pattern = r'(\\d+(\\.\\d+)?)\\s*[\"\\']'\n",
    "    ram_pattern = r'(\\d+)GB\\s*RAM'\n",
    "    storage_pattern = r'(\\d+GB|(\\d+MB))\\s*(ROM|Storage)'\n",
    "    camera_pattern = r'(\\d+MP)'\n",
    "    battery_pattern = r'(\\d{4}mAh|\\d{4}MAh)'\n",
    "    sim_pattern = r'\\(?(Dual\\s+SIM|Single\\s+SIM|Single)\\)?'\n",
    "    \n",
    "    # Extract RAM and Storage\n",
    "    gb_values = [int(m.group(1)) for m in re.finditer(r'(\\d+)GB', spec)]\n",
    "    \n",
    "    ram = min(gb_values) if gb_values else None\n",
    "    storage = max(gb_values) if gb_values else None\n",
    "\n",
    "    # Extract color with a broader pattern\n",
    "    color_pattern = r'(?i)[-\\s](Black|White|Blue|Red|Green|Yellow|Gold|Silver|Gray|Pink)(?=\\s|\\(|$)'\n",
    "    color_match = re.search(color_pattern, spec)\n",
    "    color = color_match.group(1).strip() if color_match else None\n",
    "\n",
    "    # Set a default display size if not found\n",
    "    display_size = re.search(display_pattern, spec).group(1) if re.search(display_pattern, spec) else \"6.0\"\n",
    "\n",
    "    # Extract name, ensuring it doesn't include the display size\n",
    "    name_match = re.search(name_pattern, spec, re.IGNORECASE)\n",
    "    if name_match:\n",
    "        name = name_match.group(0).strip()\n",
    "        # Remove any trailing numbers or characters (like display sizes)\n",
    "        name = re.sub(r'\\s*\\d*$', '', name).strip()\n",
    "    else:\n",
    "        name = None\n",
    "\n",
    "    return {\n",
    "        \"Name\": name,\n",
    "        \"Display Size\": display_size,\n",
    "        \"RAM\": ram,\n",
    "        \"Storage\": storage,\n",
    "        \"Camera\": re.search(camera_pattern, spec).group(1) if re.search(camera_pattern, spec) else None,\n",
    "        \"Battery\": re.search(battery_pattern, spec).group(1) if re.search(battery_pattern, spec) else None,\n",
    "        \"Color\": color,\n",
    "        \"Warranty\": \"Yes\" if \"WRTY\" in spec else \"No\",\n",
    "        \"Number of SIMs\": 2 if re.search(sim_pattern, spec) and \"Dual\" in re.search(sim_pattern, spec).group(0) else 1\n",
    "    }\n",
    "\n",
    "# Extract information for other phones\n",
    "other_phones_data = [extract_other_phones_info(spec) for spec in other_phones]\n",
    "\n",
    "# Create a DataFrame\n",
    "other_phones_df = pd.DataFrame(other_phones_data)\n",
    "\n",
    "# Display the DataFrame\n",
    "print(\"Other Phones:\")\n",
    "other_phones_df.head(20)"
   ]
  },
  {
   "cell_type": "code",
   "execution_count": null,
   "metadata": {},
   "outputs": [],
   "source": [
    "# Merge the samsung phones dataframe into the other phones dataframe by concatination sortting them by name\n",
    "smartphones_df = pd.concat([samsung_phones_df, other_phones_df]).sort_values(\"Name\")\n",
    "\n",
    "\n",
    "# # Merge the dataframes\n",
    "# smartphones_df = pd.concat([samsung_phones_df, other_phones_df])\n",
    "\n",
    "# Display the merged DataFrame\n",
    "smartphones_df.head()"
   ]
  },
  {
   "cell_type": "code",
   "execution_count": null,
   "metadata": {},
   "outputs": [],
   "source": [
    "# Let us check the name column\n",
    "smartphones_df[\"Name\"].value_counts()"
   ]
  }
 ],
 "metadata": {
  "kernelspec": {
   "display_name": "learn-env",
   "language": "python",
   "name": "python3"
  },
  "language_info": {
   "codemirror_mode": {
    "name": "ipython",
    "version": 3
   },
   "file_extension": ".py",
   "mimetype": "text/x-python",
   "name": "python",
   "nbconvert_exporter": "python",
   "pygments_lexer": "ipython3",
   "version": "3.8.5"
  }
 },
 "nbformat": 4,
 "nbformat_minor": 2
}
