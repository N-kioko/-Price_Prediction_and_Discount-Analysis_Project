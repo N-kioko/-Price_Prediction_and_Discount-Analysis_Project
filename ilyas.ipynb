{
 "cells": [
  {
   "cell_type": "markdown",
   "id": "775a4892-328d-4b44-883a-7d7394f6d888",
   "metadata": {},
   "source": [
    "# Smart Phone Price Prediction and Discount Analysis "
   ]
  },
  {
   "cell_type": "code",
   "execution_count": 1,
   "id": "cdbac50d-9388-4387-8b73-e742b6c1ff3c",
   "metadata": {},
   "outputs": [],
   "source": [
    "# Importing the necessary libraries \n",
    "import pandas as pd \n",
    "import numpy as np \n",
    "import matplotlib.pyplot as plt \n",
    "import seaborn as sns \n",
    "\n",
    "%matplotlib inline "
   ]
  },
  {
   "cell_type": "code",
   "execution_count": 2,
   "id": "88c33d95-f1c2-483b-995f-cfd8d3d9d6ba",
   "metadata": {},
   "outputs": [],
   "source": [
    "# Loading the data \n",
    "jumia_mobile_phones = pd.read_csv(\"Data/jumia_mobile_phones.csv\")\n",
    "phone_popularity = pd.read_csv(\"Data/jumia_phone_catalog_popularity.csv\")\n",
    "jumia_phones = pd.read_csv(\"Data/jumia_phones.csv\")"
   ]
  },
  {
   "cell_type": "code",
   "execution_count": null,
   "id": "eef26aaf-918e-494f-8956-4a98c0fdba1b",
   "metadata": {},
   "outputs": [],
   "source": []
  }
 ],
 "metadata": {
  "kernelspec": {
   "display_name": "Python 3 (ipykernel)",
   "language": "python",
   "name": "python3"
  },
  "language_info": {
   "codemirror_mode": {
    "name": "ipython",
    "version": 3
   },
   "file_extension": ".py",
   "mimetype": "text/x-python",
   "name": "python",
   "nbconvert_exporter": "python",
   "pygments_lexer": "ipython3",
   "version": "3.11.7"
  }
 },
 "nbformat": 4,
 "nbformat_minor": 5
}
